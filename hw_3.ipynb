{
 "cells": [
  {
   "cell_type": "markdown",
   "metadata": {
    "id": "AnG9DXhe49cH"
   },
   "source": [
    "## Теоретическая часть"
   ]
  },
  {
   "cell_type": "markdown",
   "metadata": {
    "id": "RxDIQTAh49cO"
   },
   "source": [
    "1. Вспомним прошлый вебинар, мы рассматривали User-User рекомендации и Item-Item рекомендации. Чем они отличаются и чем они похожи? Если есть функция item_item_rec(interaction_matrix). Можно ли использовать эту функцию для user_user_rec?  \n",
    "В чем принципиальные отличия item-item рекомендаций от ALS?\n"
   ]
  },
  {
   "cell_type": "markdown",
   "metadata": {},
   "source": [
    "Два подхода очень похожи. И в том, и в другом случае происходит поиск похожих пользователей (ближайших соседей при  item-item подходе или объединение пользователей в группы \"по интересам\" при user-user подходе) с целью найти товары, которые могли бы конкретного пользователя заинтересовать.\n",
    "\n",
    "Отличие в том, что при user-user подходе мы сначала разобьем пользователей на группы \"по интересам\", и только потом будем искать товары, которые покупают другие пользователи этой группы, а наш пользователь еще не покупал.\n",
    "\n",
    "При item-item подходе мы отталкиваемся от купленного пользователем товара. Ищем другие, в чем-то похожие товары, который могли бы пользователя заинтересовать, принимая во внимание оценки, данные этим товарам его ближайшими соседями.\n",
    "\n",
    "Поэтому функция item_item_rec(interaction_matrix) для user_user_rec не подойдет.\n",
    "\n",
    "При ALS подходе мы разбиваем пользователей на сегменты (что скорее напоминает user-user подход, чем подход item-item). Другое принципиальное отличие в том, что мы не ищем ближайших соседей, чтобы оценить вероятность \"понравится/не понравится товар\", а получаем некоторую оценку этой вероятности путем методы матричной факторизации. Подход ALS хорошо работает даже на разрежеенных данных."
   ]
  },
  {
   "cell_type": "markdown",
   "metadata": {
    "id": "XnuQ5DDD49cP"
   },
   "source": [
    "2. Приведите 3 примера весов (те, которых не было на вебинаре: сумма покупок, количество покупок - неинтересно) user-item матрицы для задачи рекомендаций товаров \n"
   ]
  },
  {
   "cell_type": "markdown",
   "metadata": {},
   "source": [
    "Среднее количество дней между покупками товара (интервал между покупками, для товаров, которые покупают регулярно).\n",
    "Средняя скидка на товар по всем покупкам (факт покупки по акции и без).\n",
    "Наиболее часто встречающийся день недели при покупке товара пользователем (выходной день, будний день, праздники и т.д. - сезонность продаж)."
   ]
  },
  {
   "cell_type": "markdown",
   "metadata": {
    "id": "UmKifKo649cQ"
   },
   "source": [
    "3. Какие ограничения есть у ALS? (Тип информации, линейность/нелинейность факторов и т д)\n"
   ]
  },
  {
   "cell_type": "markdown",
   "metadata": {},
   "source": [
    "Сложность интерпретации полученных оценок. Одна и та же числовая оценка для разных товаров может быть интерпретировано по-разному. Например, в одном случае мы можем предположить, что при оценке 0.4 пользователь заинтересуется товаром, в другом случае - нет."
   ]
  },
  {
   "cell_type": "markdown",
   "metadata": {
    "id": "ZFhlzsTb49cR"
   },
   "source": [
    "## Практическая часть\n"
   ]
  },
  {
   "cell_type": "markdown",
   "metadata": {},
   "source": [
    "### Подбор матрицы $c_{ui}$\n",
    "Попробуйте различные варианты матрицы весов (3+ вариантов). Обучите алгоритм для различных $C$. В качестве результата приведите таблицу: матрица весов - результат на train и validation.\n",
    "Сделате качественные выводы."
   ]
  },
  {
   "cell_type": "code",
   "execution_count": 1,
   "metadata": {},
   "outputs": [],
   "source": [
    "import numpy as np\n",
    "import pandas as pd\n",
    "import matplotlib.pyplot as plt\n",
    "%matplotlib inline\n",
    "\n",
    "from scipy.sparse import csr_matrix\n",
    "\n",
    "from implicit.als import AlternatingLeastSquares\n",
    "from implicit.nearest_neighbours import bm25_weight, tfidf_weight"
   ]
  },
  {
   "cell_type": "code",
   "execution_count": 2,
   "metadata": {},
   "outputs": [],
   "source": [
    "def precision_at_k(recommended_list, bought_list, k=5):\n",
    "    \n",
    "    bought_list = np.array(bought_list)\n",
    "    recommended_list = np.array(recommended_list)\n",
    "    \n",
    "    recommended_list = recommended_list[:k]\n",
    "    \n",
    "    flags = np.isin(bought_list, recommended_list)\n",
    "    \n",
    "    precision = flags.sum() / len(recommended_list)\n",
    "    \n",
    "    return precision"
   ]
  },
  {
   "cell_type": "code",
   "execution_count": 3,
   "metadata": {},
   "outputs": [
    {
     "data": {
      "text/html": [
       "<div>\n",
       "<style scoped>\n",
       "    .dataframe tbody tr th:only-of-type {\n",
       "        vertical-align: middle;\n",
       "    }\n",
       "\n",
       "    .dataframe tbody tr th {\n",
       "        vertical-align: top;\n",
       "    }\n",
       "\n",
       "    .dataframe thead th {\n",
       "        text-align: right;\n",
       "    }\n",
       "</style>\n",
       "<table border=\"1\" class=\"dataframe\">\n",
       "  <thead>\n",
       "    <tr style=\"text-align: right;\">\n",
       "      <th></th>\n",
       "      <th>user_id</th>\n",
       "      <th>basket_id</th>\n",
       "      <th>day</th>\n",
       "      <th>item_id</th>\n",
       "      <th>quantity</th>\n",
       "      <th>sales_value</th>\n",
       "      <th>store_id</th>\n",
       "      <th>retail_disc</th>\n",
       "      <th>trans_time</th>\n",
       "      <th>week_no</th>\n",
       "      <th>coupon_disc</th>\n",
       "      <th>coupon_match_disc</th>\n",
       "    </tr>\n",
       "  </thead>\n",
       "  <tbody>\n",
       "    <tr>\n",
       "      <th>0</th>\n",
       "      <td>2375</td>\n",
       "      <td>26984851472</td>\n",
       "      <td>1</td>\n",
       "      <td>1004906</td>\n",
       "      <td>1</td>\n",
       "      <td>1.39</td>\n",
       "      <td>364</td>\n",
       "      <td>-0.6</td>\n",
       "      <td>1631</td>\n",
       "      <td>1</td>\n",
       "      <td>0.0</td>\n",
       "      <td>0.0</td>\n",
       "    </tr>\n",
       "    <tr>\n",
       "      <th>1</th>\n",
       "      <td>2375</td>\n",
       "      <td>26984851472</td>\n",
       "      <td>1</td>\n",
       "      <td>1033142</td>\n",
       "      <td>1</td>\n",
       "      <td>0.82</td>\n",
       "      <td>364</td>\n",
       "      <td>0.0</td>\n",
       "      <td>1631</td>\n",
       "      <td>1</td>\n",
       "      <td>0.0</td>\n",
       "      <td>0.0</td>\n",
       "    </tr>\n",
       "  </tbody>\n",
       "</table>\n",
       "</div>"
      ],
      "text/plain": [
       "   user_id    basket_id  day  item_id  quantity  sales_value  store_id  \\\n",
       "0     2375  26984851472    1  1004906         1         1.39       364   \n",
       "1     2375  26984851472    1  1033142         1         0.82       364   \n",
       "\n",
       "   retail_disc  trans_time  week_no  coupon_disc  coupon_match_disc  \n",
       "0         -0.6        1631        1          0.0                0.0  \n",
       "1          0.0        1631        1          0.0                0.0  "
      ]
     },
     "execution_count": 3,
     "metadata": {},
     "output_type": "execute_result"
    }
   ],
   "source": [
    "data = pd.read_csv('retail_train.csv')\n",
    "\n",
    "test_size_weeks = 3\n",
    "\n",
    "data_train = data[data['week_no'] < data['week_no'].max() - test_size_weeks]\n",
    "data_test = data[data['week_no'] >= data['week_no'].max() - test_size_weeks]\n",
    "\n",
    "data_train.head(2)"
   ]
  },
  {
   "cell_type": "code",
   "execution_count": 4,
   "metadata": {},
   "outputs": [
    {
     "name": "stderr",
     "output_type": "stream",
     "text": [
      "/Users/nadejdaberzina/opt/anaconda3/lib/python3.7/site-packages/pandas/core/indexing.py:966: SettingWithCopyWarning: \n",
      "A value is trying to be set on a copy of a slice from a DataFrame.\n",
      "Try using .loc[row_indexer,col_indexer] = value instead\n",
      "\n",
      "See the caveats in the documentation: https://pandas.pydata.org/pandas-docs/stable/user_guide/indexing.html#returning-a-view-versus-a-copy\n",
      "  self.obj[item] = s\n"
     ]
    }
   ],
   "source": [
    "popularity = data_train.groupby('item_id')['quantity'].sum().reset_index()\n",
    "popularity.rename(columns={'quantity': 'n_sold'}, inplace=True)\n",
    "\n",
    "top_5000 = popularity.sort_values('n_sold', ascending=False).head(5000).item_id.tolist()\n",
    "\n",
    "data_train.loc[~data_train['item_id'].isin(top_5000), 'item_id'] = 999999"
   ]
  },
  {
   "cell_type": "code",
   "execution_count": 5,
   "metadata": {},
   "outputs": [],
   "source": [
    "result_train = data_train.groupby('user_id')['item_id'].unique().reset_index()\n",
    "result_train.columns = ['user_id', 'actual']\n",
    "\n",
    "result_test = data_test.groupby('user_id')['item_id'].unique().reset_index()\n",
    "result_test.columns = ['user_id', 'actual']"
   ]
  },
  {
   "cell_type": "code",
   "execution_count": 6,
   "metadata": {},
   "outputs": [],
   "source": [
    "parameters = [\n",
    "    {'values': 'quantity', 'aggfunc': 'count'},\n",
    "    {'values': 'quantity', 'aggfunc': np.sum},\n",
    "    {'values': 'sales_value', 'aggfunc': np.mean},\n",
    "    {'values': 'sales_value', 'aggfunc': np.sum},\n",
    "    {'values': 'retail_disc', 'aggfunc': np.mean},\n",
    "    {'values': 'trans_time', 'aggfunc': np.mean}]"
   ]
  },
  {
   "cell_type": "code",
   "execution_count": 7,
   "metadata": {},
   "outputs": [],
   "source": [
    "def get_recommendations(user, model, N=5):\n",
    "    res = [id_to_itemid[rec[0]] for rec in \n",
    "                    model.recommend(userid=userid_to_id[user], \n",
    "                                    user_items=sparse_user_item,\n",
    "                                    N=N, \n",
    "                                    filter_already_liked_items=False, \n",
    "                                    filter_items=[itemid_to_id[999999]], \n",
    "                                    recalculate_user=True)]\n",
    "    return res"
   ]
  },
  {
   "cell_type": "code",
   "execution_count": 8,
   "metadata": {},
   "outputs": [
    {
     "name": "stderr",
     "output_type": "stream",
     "text": [
      "WARNING:root:OpenBLAS detected. Its highly recommend to set the environment variable 'export OPENBLAS_NUM_THREADS=1' to disable its internal multithreading\n"
     ]
    },
    {
     "data": {
      "application/vnd.jupyter.widget-view+json": {
       "model_id": "2e1fcb19123f4aecbf920e8954b9004c",
       "version_major": 2,
       "version_minor": 0
      },
      "text/plain": [
       "HBox(children=(FloatProgress(value=0.0, max=15.0), HTML(value='')))"
      ]
     },
     "metadata": {},
     "output_type": "display_data"
    },
    {
     "name": "stdout",
     "output_type": "stream",
     "text": [
      "\n",
      "Варианты матрицы весов {'values': 'quantity', 'aggfunc': 'count'} : precision train 0.7060424169667785, precision test 0.18511263467188785\n"
     ]
    },
    {
     "data": {
      "application/vnd.jupyter.widget-view+json": {
       "model_id": "41cb341c89864b1690a3bd07998e1f8d",
       "version_major": 2,
       "version_minor": 0
      },
      "text/plain": [
       "HBox(children=(FloatProgress(value=0.0, max=15.0), HTML(value='')))"
      ]
     },
     "metadata": {},
     "output_type": "display_data"
    },
    {
     "name": "stdout",
     "output_type": "stream",
     "text": [
      "\n",
      "Варианты матрицы весов {'values': 'quantity', 'aggfunc': <function sum at 0x7fccb95a65f0>} : precision train 0.703801520608232, precision test 0.16748285994123183\n"
     ]
    },
    {
     "data": {
      "application/vnd.jupyter.widget-view+json": {
       "model_id": "ec2d22529ab343929ef760a7a38dea97",
       "version_major": 2,
       "version_minor": 0
      },
      "text/plain": [
       "HBox(children=(FloatProgress(value=0.0, max=15.0), HTML(value='')))"
      ]
     },
     "metadata": {},
     "output_type": "display_data"
    },
    {
     "name": "stdout",
     "output_type": "stream",
     "text": [
      "\n",
      "Варианты матрицы весов {'values': 'sales_value', 'aggfunc': <function mean at 0x7fccb95ac3b0>} : precision train 0.7148459383753369, precision test 0.14534769833496408\n"
     ]
    },
    {
     "data": {
      "application/vnd.jupyter.widget-view+json": {
       "model_id": "90af1ab4a3434bb2903528cd9522e831",
       "version_major": 2,
       "version_minor": 0
      },
      "text/plain": [
       "HBox(children=(FloatProgress(value=0.0, max=15.0), HTML(value='')))"
      ]
     },
     "metadata": {},
     "output_type": "display_data"
    },
    {
     "name": "stdout",
     "output_type": "stream",
     "text": [
      "\n",
      "Варианты матрицы весов {'values': 'sales_value', 'aggfunc': <function sum at 0x7fccb95a65f0>} : precision train 0.5685474189675838, precision test 0.11361410381978342\n"
     ]
    },
    {
     "data": {
      "application/vnd.jupyter.widget-view+json": {
       "model_id": "44857a6eccc04b7a9fca294d0427eb4f",
       "version_major": 2,
       "version_minor": 0
      },
      "text/plain": [
       "HBox(children=(FloatProgress(value=0.0, max=15.0), HTML(value='')))"
      ]
     },
     "metadata": {},
     "output_type": "display_data"
    },
    {
     "name": "stdout",
     "output_type": "stream",
     "text": [
      "\n",
      "Варианты матрицы весов {'values': 'retail_disc', 'aggfunc': <function mean at 0x7fccb95ac3b0>} : precision train 0.05882352941176492, precision test 0.004309500489715965\n"
     ]
    },
    {
     "data": {
      "application/vnd.jupyter.widget-view+json": {
       "model_id": "5268888fd7ec442f9211c187ca6772c8",
       "version_major": 2,
       "version_minor": 0
      },
      "text/plain": [
       "HBox(children=(FloatProgress(value=0.0, max=15.0), HTML(value='')))"
      ]
     },
     "metadata": {},
     "output_type": "display_data"
    },
    {
     "name": "stdout",
     "output_type": "stream",
     "text": [
      "\n",
      "Варианты матрицы весов {'values': 'trans_time', 'aggfunc': <function mean at 0x7fccb95ac3b0>} : precision train 0.03145258103241308, precision test 0.004897159647404504\n"
     ]
    }
   ],
   "source": [
    "for parameter in parameters:\n",
    "    \n",
    "    user_item_matrix = pd.pivot_table(data_train,\n",
    "                                  index='user_id', columns='item_id',\n",
    "                                  values=parameter['values'],\n",
    "                                  aggfunc=parameter['aggfunc'],\n",
    "                                  fill_value=0\n",
    "                                 )\n",
    "    user_item_matrix = user_item_matrix.astype(float)\n",
    "\n",
    "    sparse_user_item = csr_matrix(user_item_matrix).tocsr()\n",
    "\n",
    "    \n",
    "    userids = user_item_matrix.index.values\n",
    "    itemids = user_item_matrix.columns.values\n",
    "\n",
    "    matrix_userids = np.arange(len(userids))\n",
    "    matrix_itemids = np.arange(len(itemids))\n",
    "\n",
    "    id_to_itemid = dict(zip(matrix_itemids, itemids))\n",
    "    id_to_userid = dict(zip(matrix_userids, userids))\n",
    "\n",
    "    itemid_to_id = dict(zip(itemids, matrix_itemids))\n",
    "    userid_to_id = dict(zip(userids, matrix_userids))\n",
    "    \n",
    "    \n",
    "    model = AlternatingLeastSquares(factors=44, \n",
    "                                regularization=0.001,\n",
    "                                iterations=15, \n",
    "                                calculate_training_loss=True, \n",
    "                                use_gpu=False)\n",
    "\n",
    "    \n",
    "    model.fit(csr_matrix(user_item_matrix).T.tocsr(), show_progress=True)\n",
    "\n",
    "\n",
    "    result_train['als'] = result_train['user_id'].apply(lambda x: get_recommendations(x, model=model, N=5))\n",
    "    precision_train = result_train.apply(lambda row: precision_at_k(row['als'], row['actual']), axis=1).mean()\n",
    "        \n",
    "    result_test['als'] = result_test['user_id'].apply(lambda x: get_recommendations(x, model=model, N=5))\n",
    "    precision_test = result_test.apply(lambda row: precision_at_k(row['als'], row['actual']), axis=1).mean()\n",
    "        \n",
    "    print(f\"Варианты матрицы весов {parameter} : precision train {precision_train}, precision test {precision_test}\")"
   ]
  },
  {
   "cell_type": "code",
   "execution_count": 13,
   "metadata": {},
   "outputs": [],
   "source": [
    "results = pd.DataFrame([\n",
    "    ['quantity_count', 0.7060424169667785, 0.18511263467188785],\n",
    "    ['quantity_sum', 0.703801520608232, 0.16748285994123183],\n",
    "    ['sales_value_mean', 0.7148459383753369, 0.14534769833496408],\n",
    "    ['sales_value_sum', 0.5685474189675838, 0.11361410381978342],\n",
    "    ['retail_disc_mean', 0.05882352941176492, 0.004309500489715965],\n",
    "    ['trans_time_mean', 0.03145258103241308, 0.004897159647404504]],\n",
    "    columns=['Weight matrix', 'Precision train', 'Precision test'])"
   ]
  },
  {
   "cell_type": "code",
   "execution_count": 14,
   "metadata": {},
   "outputs": [
    {
     "data": {
      "text/html": [
       "<div>\n",
       "<style scoped>\n",
       "    .dataframe tbody tr th:only-of-type {\n",
       "        vertical-align: middle;\n",
       "    }\n",
       "\n",
       "    .dataframe tbody tr th {\n",
       "        vertical-align: top;\n",
       "    }\n",
       "\n",
       "    .dataframe thead th {\n",
       "        text-align: right;\n",
       "    }\n",
       "</style>\n",
       "<table border=\"1\" class=\"dataframe\">\n",
       "  <thead>\n",
       "    <tr style=\"text-align: right;\">\n",
       "      <th></th>\n",
       "      <th>Weight matrix</th>\n",
       "      <th>Precision train</th>\n",
       "      <th>Precision test</th>\n",
       "    </tr>\n",
       "  </thead>\n",
       "  <tbody>\n",
       "    <tr>\n",
       "      <th>0</th>\n",
       "      <td>quantity_count</td>\n",
       "      <td>0.706042</td>\n",
       "      <td>0.185113</td>\n",
       "    </tr>\n",
       "    <tr>\n",
       "      <th>1</th>\n",
       "      <td>quantity_sum</td>\n",
       "      <td>0.703802</td>\n",
       "      <td>0.167483</td>\n",
       "    </tr>\n",
       "    <tr>\n",
       "      <th>2</th>\n",
       "      <td>sales_value_mean</td>\n",
       "      <td>0.714846</td>\n",
       "      <td>0.145348</td>\n",
       "    </tr>\n",
       "    <tr>\n",
       "      <th>3</th>\n",
       "      <td>sales_value_sum</td>\n",
       "      <td>0.568547</td>\n",
       "      <td>0.113614</td>\n",
       "    </tr>\n",
       "    <tr>\n",
       "      <th>4</th>\n",
       "      <td>retail_disc_mean</td>\n",
       "      <td>0.058824</td>\n",
       "      <td>0.004310</td>\n",
       "    </tr>\n",
       "    <tr>\n",
       "      <th>5</th>\n",
       "      <td>trans_time_mean</td>\n",
       "      <td>0.031453</td>\n",
       "      <td>0.004897</td>\n",
       "    </tr>\n",
       "  </tbody>\n",
       "</table>\n",
       "</div>"
      ],
      "text/plain": [
       "      Weight matrix  Precision train  Precision test\n",
       "0    quantity_count         0.706042        0.185113\n",
       "1      quantity_sum         0.703802        0.167483\n",
       "2  sales_value_mean         0.714846        0.145348\n",
       "3   sales_value_sum         0.568547        0.113614\n",
       "4  retail_disc_mean         0.058824        0.004310\n",
       "5   trans_time_mean         0.031453        0.004897"
      ]
     },
     "execution_count": 14,
     "metadata": {},
     "output_type": "execute_result"
    }
   ],
   "source": [
    "results"
   ]
  },
  {
   "cell_type": "markdown",
   "metadata": {},
   "source": [
    "Не удалось улучшить результаты при переборе других вариантов матрицы весов. Самый лучший результат показывает изначальная матрица, веса по количеству покупок.\n",
    "\n",
    "Результат с суммой покупок тоже показывает неплохой результат, но он похуже предыдущего. Я ожидала получить лучший результат. Получается, что количество покупок в данном случае работает лучше, чем учет количества купленных товаров.\n",
    "\n",
    "Как ни странно, матрица весов по средней цене за покупку работает лучше, чем сумма всех покупок в денежном эквиваленте.\n",
    "\n",
    "Другие веса, средняя скидка, среднее время при покупке не показали интересных результатов."
   ]
  },
  {
   "cell_type": "markdown",
   "metadata": {
    "id": "PHer9wto49cZ"
   },
   "source": [
    "### Оптимизация гипперпараметров\n",
    "Для лучшей матрицы весов из первого задания подберите оптимальные $\\lambda$ и n_factors. Подбор можно делать вручную (цикл в цикле, аналог sklearn.GridSearch, или случайно - sklearn.RandomSearch). Или Вы можете воспользоваться библиотеками для автоматического подбора гипперпараметров (любые на Ваш вкус). В качестве результата постройте графики:\n",
    "1. Значение параметра - время обучения \n",
    "2. Значение параметра - качество train, качество validation  \n",
    "\n",
    "Сделайте качественные выводы"
   ]
  },
  {
   "cell_type": "code",
   "execution_count": 15,
   "metadata": {},
   "outputs": [],
   "source": [
    "user_item_matrix = pd.pivot_table(data_train,\n",
    "                                  index='user_id', columns='item_id',\n",
    "                                  values='quantity',\n",
    "                                  aggfunc='count',\n",
    "                                  fill_value=0\n",
    "                                 )\n",
    "user_item_matrix = user_item_matrix.astype(float)\n",
    "\n",
    "sparse_user_item = csr_matrix(user_item_matrix).tocsr()\n",
    "\n",
    "    \n",
    "userids = user_item_matrix.index.values\n",
    "itemids = user_item_matrix.columns.values\n",
    "\n",
    "matrix_userids = np.arange(len(userids))\n",
    "matrix_itemids = np.arange(len(itemids))\n",
    "\n",
    "id_to_itemid = dict(zip(matrix_itemids, itemids))\n",
    "id_to_userid = dict(zip(matrix_userids, userids))\n",
    "\n",
    "itemid_to_id = dict(zip(itemids, matrix_itemids))\n",
    "userid_to_id = dict(zip(userids, matrix_userids))"
   ]
  },
  {
   "cell_type": "code",
   "execution_count": 16,
   "metadata": {
    "id": "tPE1gwHW49ca"
   },
   "outputs": [
    {
     "data": {
      "application/vnd.jupyter.widget-view+json": {
       "model_id": "b683d0830ce44886a46227d606278fe0",
       "version_major": 2,
       "version_minor": 0
      },
      "text/plain": [
       "HBox(children=(FloatProgress(value=0.0, max=15.0), HTML(value='')))"
      ]
     },
     "metadata": {},
     "output_type": "display_data"
    },
    {
     "name": "stdout",
     "output_type": "stream",
     "text": [
      "\n",
      "Factors 5, regularization 0.1 : precision train 0.6142456982793064, precision test 0.1953966699314368\n"
     ]
    },
    {
     "data": {
      "application/vnd.jupyter.widget-view+json": {
       "model_id": "1a2cbe9d2913445d97109d1d13be6fae",
       "version_major": 2,
       "version_minor": 0
      },
      "text/plain": [
       "HBox(children=(FloatProgress(value=0.0, max=15.0), HTML(value='')))"
      ]
     },
     "metadata": {},
     "output_type": "display_data"
    },
    {
     "name": "stdout",
     "output_type": "stream",
     "text": [
      "\n",
      "Factors 5, regularization 0.01 : precision train 0.6141656662665013, precision test 0.19510284035259254\n"
     ]
    },
    {
     "data": {
      "application/vnd.jupyter.widget-view+json": {
       "model_id": "e2847b04dcd44a11920e664b9040c999",
       "version_major": 2,
       "version_minor": 0
      },
      "text/plain": [
       "HBox(children=(FloatProgress(value=0.0, max=15.0), HTML(value='')))"
      ]
     },
     "metadata": {},
     "output_type": "display_data"
    },
    {
     "name": "stdout",
     "output_type": "stream",
     "text": [
      "\n",
      "Factors 5, regularization 0.001 : precision train 0.613925570228086, precision test 0.19402546523016376\n"
     ]
    },
    {
     "data": {
      "application/vnd.jupyter.widget-view+json": {
       "model_id": "39a3fc59467640bbbe2f0c649471e13b",
       "version_major": 2,
       "version_minor": 0
      },
      "text/plain": [
       "HBox(children=(FloatProgress(value=0.0, max=15.0), HTML(value='')))"
      ]
     },
     "metadata": {},
     "output_type": "display_data"
    },
    {
     "name": "stdout",
     "output_type": "stream",
     "text": [
      "\n",
      "Factors 10, regularization 0.1 : precision train 0.6188075230091981, precision test 0.19167482859940926\n"
     ]
    },
    {
     "data": {
      "application/vnd.jupyter.widget-view+json": {
       "model_id": "d5d5abdcb1bc4f21a7fcae1f4a46e992",
       "version_major": 2,
       "version_minor": 0
      },
      "text/plain": [
       "HBox(children=(FloatProgress(value=0.0, max=15.0), HTML(value='')))"
      ]
     },
     "metadata": {},
     "output_type": "display_data"
    },
    {
     "name": "stdout",
     "output_type": "stream",
     "text": [
      "\n",
      "Factors 10, regularization 0.01 : precision train 0.6191276510604189, precision test 0.18824681684622638\n"
     ]
    },
    {
     "data": {
      "application/vnd.jupyter.widget-view+json": {
       "model_id": "3df0ab96ee2f4cab8c40977ae6bfa0f9",
       "version_major": 2,
       "version_minor": 0
      },
      "text/plain": [
       "HBox(children=(FloatProgress(value=0.0, max=15.0), HTML(value='')))"
      ]
     },
     "metadata": {},
     "output_type": "display_data"
    },
    {
     "name": "stdout",
     "output_type": "stream",
     "text": [
      "\n",
      "Factors 10, regularization 0.001 : precision train 0.6164865946378496, precision test 0.1892262487757072\n"
     ]
    },
    {
     "data": {
      "application/vnd.jupyter.widget-view+json": {
       "model_id": "ab6d7ec13010457dba615ff6cebdf84c",
       "version_major": 2,
       "version_minor": 0
      },
      "text/plain": [
       "HBox(children=(FloatProgress(value=0.0, max=15.0), HTML(value='')))"
      ]
     },
     "metadata": {},
     "output_type": "display_data"
    },
    {
     "name": "stdout",
     "output_type": "stream",
     "text": [
      "\n",
      "Factors 50, regularization 0.1 : precision train 0.7150060024009531, precision test 0.18530852105778414\n"
     ]
    },
    {
     "data": {
      "application/vnd.jupyter.widget-view+json": {
       "model_id": "b1240c652c78487fb837dec041ae5c95",
       "version_major": 2,
       "version_minor": 0
      },
      "text/plain": [
       "HBox(children=(FloatProgress(value=0.0, max=15.0), HTML(value='')))"
      ]
     },
     "metadata": {},
     "output_type": "display_data"
    },
    {
     "name": "stdout",
     "output_type": "stream",
     "text": [
      "\n",
      "Factors 50, regularization 0.01 : precision train 0.7190076030412084, precision test 0.1896180215475\n"
     ]
    },
    {
     "data": {
      "application/vnd.jupyter.widget-view+json": {
       "model_id": "725dcc88173043d49e3e48e5e0897122",
       "version_major": 2,
       "version_minor": 0
      },
      "text/plain": [
       "HBox(children=(FloatProgress(value=0.0, max=15.0), HTML(value='')))"
      ]
     },
     "metadata": {},
     "output_type": "display_data"
    },
    {
     "name": "stdout",
     "output_type": "stream",
     "text": [
      "\n",
      "Factors 50, regularization 0.001 : precision train 0.7167667066826653, precision test 0.18873653281096714\n"
     ]
    },
    {
     "data": {
      "application/vnd.jupyter.widget-view+json": {
       "model_id": "55d3ddd21ebc4ba78dafa2f9974ae8ab",
       "version_major": 2,
       "version_minor": 0
      },
      "text/plain": [
       "HBox(children=(FloatProgress(value=0.0, max=15.0), HTML(value='')))"
      ]
     },
     "metadata": {},
     "output_type": "display_data"
    },
    {
     "name": "stdout",
     "output_type": "stream",
     "text": [
      "\n",
      "Factors 100, regularization 0.1 : precision train 0.8168067226890668, precision test 0.18354554358471822\n"
     ]
    },
    {
     "data": {
      "application/vnd.jupyter.widget-view+json": {
       "model_id": "0e640dac6856497699c17b72e750fc2b",
       "version_major": 2,
       "version_minor": 0
      },
      "text/plain": [
       "HBox(children=(FloatProgress(value=0.0, max=15.0), HTML(value='')))"
      ]
     },
     "metadata": {},
     "output_type": "display_data"
    },
    {
     "name": "stdout",
     "output_type": "stream",
     "text": [
      "\n",
      "Factors 100, regularization 0.01 : precision train 0.8224889955982307, precision test 0.18550440744368005\n"
     ]
    },
    {
     "data": {
      "application/vnd.jupyter.widget-view+json": {
       "model_id": "eda5446605d34910b6788218328b8e8d",
       "version_major": 2,
       "version_minor": 0
      },
      "text/plain": [
       "HBox(children=(FloatProgress(value=0.0, max=15.0), HTML(value='')))"
      ]
     },
     "metadata": {},
     "output_type": "display_data"
    },
    {
     "name": "stdout",
     "output_type": "stream",
     "text": [
      "\n",
      "Factors 100, regularization 0.001 : precision train 0.8312925170067947, precision test 0.18217433888344514\n"
     ]
    },
    {
     "data": {
      "application/vnd.jupyter.widget-view+json": {
       "model_id": "1dc416f94a9d4c03ad53105e52a9d883",
       "version_major": 2,
       "version_minor": 0
      },
      "text/plain": [
       "HBox(children=(FloatProgress(value=0.0, max=15.0), HTML(value='')))"
      ]
     },
     "metadata": {},
     "output_type": "display_data"
    },
    {
     "name": "stdout",
     "output_type": "stream",
     "text": [
      "\n",
      "Factors 300, regularization 0.1 : precision train 0.951180472188875, precision test 0.1370225269343766\n"
     ]
    },
    {
     "data": {
      "application/vnd.jupyter.widget-view+json": {
       "model_id": "f74f285e45ca43d1b57661c84f7d336b",
       "version_major": 2,
       "version_minor": 0
      },
      "text/plain": [
       "HBox(children=(FloatProgress(value=0.0, max=15.0), HTML(value='')))"
      ]
     },
     "metadata": {},
     "output_type": "display_data"
    },
    {
     "name": "stdout",
     "output_type": "stream",
     "text": [
      "\n",
      "Factors 300, regularization 0.01 : precision train 0.9527010804321727, precision test 0.1388834476003903\n"
     ]
    },
    {
     "data": {
      "application/vnd.jupyter.widget-view+json": {
       "model_id": "e5303ea392e54ae898fbb2505500dd14",
       "version_major": 2,
       "version_minor": 0
      },
      "text/plain": [
       "HBox(children=(FloatProgress(value=0.0, max=15.0), HTML(value='')))"
      ]
     },
     "metadata": {},
     "output_type": "display_data"
    },
    {
     "name": "stdout",
     "output_type": "stream",
     "text": [
      "\n",
      "Factors 300, regularization 0.001 : precision train 0.9563025210084036, precision test 0.12957884427032196\n"
     ]
    }
   ],
   "source": [
    "for factor in [5, 10, 50, 100, 300]:\n",
    "    \n",
    "    for regularization in [0.1, 0.01, 0.001]:\n",
    "        \n",
    "        model = AlternatingLeastSquares(factors=factor, \n",
    "                                    regularization=regularization,\n",
    "                                    iterations=15, \n",
    "                                    calculate_training_loss=True, \n",
    "                                    use_gpu=False)\n",
    "        \n",
    "        model.fit(csr_matrix(user_item_matrix).T.tocsr())\n",
    "        \n",
    "        result_train['als'] = result_train['user_id'].apply(lambda x: get_recommendations(x, model=model, N=5))\n",
    "        precision_train = result_train.apply(lambda row: precision_at_k(row['als'], row['actual']), axis=1).mean()\n",
    "        \n",
    "        result_test['als'] = result_test['user_id'].apply(lambda x: get_recommendations(x, model=model, N=5))\n",
    "        precision_test = result_test.apply(lambda row: precision_at_k(row['als'], row['actual']), axis=1).mean()\n",
    "        \n",
    "        print(f\"Factors {factor}, regularization {regularization} : precision train {precision_train}, precision test {precision_test}\")"
   ]
  },
  {
   "cell_type": "code",
   "execution_count": 23,
   "metadata": {},
   "outputs": [],
   "source": [
    "factors = [5, 10, 50, 100, 300]\n",
    "time = [5, 10, 11, 18, 56]\n",
    "\n",
    "precision_train = [0.6142456982793064, 0.6188075230091981, 0.7150060024009531, 0.8168067226890668, 0.951180472188875]\n",
    "precision_test = [0.1953966699314368, 0.19167482859940926, 0.18530852105778414, 0.18354554358471822, 0.1370225269343766]\n",
    "\n",
    "def result_plot(factors, precision_train, precision_test):\n",
    "    plt.xlabel('Factor number')\n",
    "    plt.ylabel('Precision metric')\n",
    "    plt.plot(factors, precision_train, label='precision train')\n",
    "    plt.plot(factors, precision_test, label='precision test')\n",
    "    plt.legend(loc='upper right')\n",
    "    plt.show()"
   ]
  },
  {
   "cell_type": "code",
   "execution_count": 24,
   "metadata": {},
   "outputs": [
    {
     "data": {
      "image/png": "[encoded data removed]",
      "text/plain": [
       "<Figure size 432x288 with 1 Axes>"
      ]
     },
     "metadata": {
      "needs_background": "light"
     },
     "output_type": "display_data"
    }
   ],
   "source": [
    "result_plot(factors=factors, precision_train=precision_train, precision_test=precision_test)"
   ]
  },
  {
   "cell_type": "code",
   "execution_count": 25,
   "metadata": {},
   "outputs": [],
   "source": [
    "def time_plot(factors, time):\n",
    "    plt.xlabel('Factor number')\n",
    "    plt.ylabel('Time in seconds')\n",
    "    plt.plot(factors, time, label='time')\n",
    "    plt.legend(loc='upper right')\n",
    "    plt.show()"
   ]
  },
  {
   "cell_type": "code",
   "execution_count": 26,
   "metadata": {},
   "outputs": [
    {
     "data": {
      "image/png": "[encoded data removed]",
      "text/plain": [
       "<Figure size 432x288 with 1 Axes>"
      ]
     },
     "metadata": {
      "needs_background": "light"
     },
     "output_type": "display_data"
    }
   ],
   "source": [
    "time_plot(factors=factors, time=time)"
   ]
  },
  {
   "cell_type": "markdown",
   "metadata": {},
   "source": [
    "Самые хорошие результаты на тестовой выборке - при небольшом количестве факторов : 5 факторов и регуляризация 0.1.\n",
    "Однако при увеличении количества факторов (до 100) качество результатов на тестовой выборке чуть снижается, но несильно. Резкое снижение качества происходит при 300 факторов и резко увеличивается время обучения.\n",
    "При этом результаты на тренировочной выборке, наоборот, растут с увеличением количества факторов --> переобучение.\n",
    "\n",
    "Разные значения регуляризационной поправки не сильно влияют на результат. Ключевым параметром здесь является именно количество факторов."
   ]
  },
  {
   "cell_type": "code",
   "execution_count": null,
   "metadata": {},
   "outputs": [],
   "source": []
  }
 ],
 "metadata": {
  "colab": {
   "name": "hw3.ipynb",
   "provenance": []
  },
  "kernelspec": {
   "display_name": "Python 3",
   "language": "python",
   "name": "python3"
  },
  "language_info": {
   "codemirror_mode": {
    "name": "ipython",
    "version": 3
   },
   "file_extension": ".py",
   "mimetype": "text/x-python",
   "name": "python",
   "nbconvert_exporter": "python",
   "pygments_lexer": "ipython3",
   "version": "3.7.6"
  }
 },
 "nbformat": 4,
 "nbformat_minor": 1
}
