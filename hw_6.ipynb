{
  "nbformat": 4,
  "nbformat_minor": 0,
  "metadata": {
    "colab": {
      "name": "webinar_6_new.ipynb",
      "provenance": [],
      "collapsed_sections": []
    },
    "kernelspec": {
      "display_name": "Python 3",
      "language": "python",
      "name": "python3"
    },
    "language_info": {
      "codemirror_mode": {
        "name": "ipython",
        "version": 3
      },
      "file_extension": ".py",
      "mimetype": "text/x-python",
      "name": "python",
      "nbconvert_exporter": "python",
      "pygments_lexer": "ipython3",
      "version": "3.7.6"
    },
    "widgets": {
      "application/vnd.jupyter.widget-state+json": {
        "2c6c009f74c64f2a8fd35da9789d955a": {
          "model_module": "@jupyter-widgets/controls",
          "model_name": "HBoxModel",
          "model_module_version": "1.5.0",
          "state": {
            "_view_name": "HBoxView",
            "_dom_classes": [],
            "_model_name": "HBoxModel",
            "_view_module": "@jupyter-widgets/controls",
            "_model_module_version": "1.5.0",
            "_view_count": null,
            "_view_module_version": "1.5.0",
            "box_style": "",
            "layout": "IPY_MODEL_1050929e6e3c40c393d038a42c543b8c",
            "_model_module": "@jupyter-widgets/controls",
            "children": [
              "IPY_MODEL_dca951094a9646b39199e2e4640fdcc0",
              "IPY_MODEL_461481dafacf45d2ba802a73a6052165",
              "IPY_MODEL_3656dca273f74a04b59747f16e437506"
            ]
          }
        },
        "1050929e6e3c40c393d038a42c543b8c": {
          "model_module": "@jupyter-widgets/base",
          "model_name": "LayoutModel",
          "model_module_version": "1.2.0",
          "state": {
            "_view_name": "LayoutView",
            "grid_template_rows": null,
            "right": null,
            "justify_content": null,
            "_view_module": "@jupyter-widgets/base",
            "overflow": null,
            "_model_module_version": "1.2.0",
            "_view_count": null,
            "flex_flow": null,
            "width": null,
            "min_width": null,
            "border": null,
            "align_items": null,
            "bottom": null,
            "_model_module": "@jupyter-widgets/base",
            "top": null,
            "grid_column": null,
            "overflow_y": null,
            "overflow_x": null,
            "grid_auto_flow": null,
            "grid_area": null,
            "grid_template_columns": null,
            "flex": null,
            "_model_name": "LayoutModel",
            "justify_items": null,
            "grid_row": null,
            "max_height": null,
            "align_content": null,
            "visibility": null,
            "align_self": null,
            "height": null,
            "min_height": null,
            "padding": null,
            "grid_auto_rows": null,
            "grid_gap": null,
            "max_width": null,
            "order": null,
            "_view_module_version": "1.2.0",
            "grid_template_areas": null,
            "object_position": null,
            "object_fit": null,
            "grid_auto_columns": null,
            "margin": null,
            "display": null,
            "left": null
          }
        },
        "dca951094a9646b39199e2e4640fdcc0": {
          "model_module": "@jupyter-widgets/controls",
          "model_name": "HTMLModel",
          "model_module_version": "1.5.0",
          "state": {
            "_view_name": "HTMLView",
            "style": "IPY_MODEL_8f0cb4d724ad4ea38358679e8d7340ef",
            "_dom_classes": [],
            "description": "",
            "_model_name": "HTMLModel",
            "placeholder": "​",
            "_view_module": "@jupyter-widgets/controls",
            "_model_module_version": "1.5.0",
            "value": "100%",
            "_view_count": null,
            "_view_module_version": "1.5.0",
            "description_tooltip": null,
            "_model_module": "@jupyter-widgets/controls",
            "layout": "IPY_MODEL_b066b6b6b8f344f298b6b4a9abf7c0da"
          }
        },
        "461481dafacf45d2ba802a73a6052165": {
          "model_module": "@jupyter-widgets/controls",
          "model_name": "FloatProgressModel",
          "model_module_version": "1.5.0",
          "state": {
            "_view_name": "ProgressView",
            "style": "IPY_MODEL_8b1e706730ee4a68987ff4cae882ec10",
            "_dom_classes": [],
            "description": "",
            "_model_name": "FloatProgressModel",
            "bar_style": "success",
            "max": 15,
            "_view_module": "@jupyter-widgets/controls",
            "_model_module_version": "1.5.0",
            "value": 15,
            "_view_count": null,
            "_view_module_version": "1.5.0",
            "orientation": "horizontal",
            "min": 0,
            "description_tooltip": null,
            "_model_module": "@jupyter-widgets/controls",
            "layout": "IPY_MODEL_182e7ab312354c6cb1beecefdf810190"
          }
        },
        "3656dca273f74a04b59747f16e437506": {
          "model_module": "@jupyter-widgets/controls",
          "model_name": "HTMLModel",
          "model_module_version": "1.5.0",
          "state": {
            "_view_name": "HTMLView",
            "style": "IPY_MODEL_e8c86581c92d44c383ad180d053f3645",
            "_dom_classes": [],
            "description": "",
            "_model_name": "HTMLModel",
            "placeholder": "​",
            "_view_module": "@jupyter-widgets/controls",
            "_model_module_version": "1.5.0",
            "value": " 15/15 [00:13&lt;00:00,  1.08it/s]",
            "_view_count": null,
            "_view_module_version": "1.5.0",
            "description_tooltip": null,
            "_model_module": "@jupyter-widgets/controls",
            "layout": "IPY_MODEL_ff33d06152ef4354b8ae0bfc9088cda0"
          }
        },
        "8f0cb4d724ad4ea38358679e8d7340ef": {
          "model_module": "@jupyter-widgets/controls",
          "model_name": "DescriptionStyleModel",
          "model_module_version": "1.5.0",
          "state": {
            "_view_name": "StyleView",
            "_model_name": "DescriptionStyleModel",
            "description_width": "",
            "_view_module": "@jupyter-widgets/base",
            "_model_module_version": "1.5.0",
            "_view_count": null,
            "_view_module_version": "1.2.0",
            "_model_module": "@jupyter-widgets/controls"
          }
        },
        "b066b6b6b8f344f298b6b4a9abf7c0da": {
          "model_module": "@jupyter-widgets/base",
          "model_name": "LayoutModel",
          "model_module_version": "1.2.0",
          "state": {
            "_view_name": "LayoutView",
            "grid_template_rows": null,
            "right": null,
            "justify_content": null,
            "_view_module": "@jupyter-widgets/base",
            "overflow": null,
            "_model_module_version": "1.2.0",
            "_view_count": null,
            "flex_flow": null,
            "width": null,
            "min_width": null,
            "border": null,
            "align_items": null,
            "bottom": null,
            "_model_module": "@jupyter-widgets/base",
            "top": null,
            "grid_column": null,
            "overflow_y": null,
            "overflow_x": null,
            "grid_auto_flow": null,
            "grid_area": null,
            "grid_template_columns": null,
            "flex": null,
            "_model_name": "LayoutModel",
            "justify_items": null,
            "grid_row": null,
            "max_height": null,
            "align_content": null,
            "visibility": null,
            "align_self": null,
            "height": null,
            "min_height": null,
            "padding": null,
            "grid_auto_rows": null,
            "grid_gap": null,
            "max_width": null,
            "order": null,
            "_view_module_version": "1.2.0",
            "grid_template_areas": null,
            "object_position": null,
            "object_fit": null,
            "grid_auto_columns": null,
            "margin": null,
            "display": null,
            "left": null
          }
        },
        "8b1e706730ee4a68987ff4cae882ec10": {
          "model_module": "@jupyter-widgets/controls",
          "model_name": "ProgressStyleModel",
          "model_module_version": "1.5.0",
          "state": {
            "_view_name": "StyleView",
            "_model_name": "ProgressStyleModel",
            "description_width": "",
            "_view_module": "@jupyter-widgets/base",
            "_model_module_version": "1.5.0",
            "_view_count": null,
            "_view_module_version": "1.2.0",
            "bar_color": null,
            "_model_module": "@jupyter-widgets/controls"
          }
        },
        "182e7ab312354c6cb1beecefdf810190": {
          "model_module": "@jupyter-widgets/base",
          "model_name": "LayoutModel",
          "model_module_version": "1.2.0",
          "state": {
            "_view_name": "LayoutView",
            "grid_template_rows": null,
            "right": null,
            "justify_content": null,
            "_view_module": "@jupyter-widgets/base",
            "overflow": null,
            "_model_module_version": "1.2.0",
            "_view_count": null,
            "flex_flow": null,
            "width": null,
            "min_width": null,
            "border": null,
            "align_items": null,
            "bottom": null,
            "_model_module": "@jupyter-widgets/base",
            "top": null,
            "grid_column": null,
            "overflow_y": null,
            "overflow_x": null,
            "grid_auto_flow": null,
            "grid_area": null,
            "grid_template_columns": null,
            "flex": null,
            "_model_name": "LayoutModel",
            "justify_items": null,
            "grid_row": null,
            "max_height": null,
            "align_content": null,
            "visibility": null,
            "align_self": null,
            "height": null,
            "min_height": null,
            "padding": null,
            "grid_auto_rows": null,
            "grid_gap": null,
            "max_width": null,
            "order": null,
            "_view_module_version": "1.2.0",
            "grid_template_areas": null,
            "object_position": null,
            "object_fit": null,
            "grid_auto_columns": null,
            "margin": null,
            "display": null,
            "left": null
          }
        },
        "e8c86581c92d44c383ad180d053f3645": {
          "model_module": "@jupyter-widgets/controls",
          "model_name": "DescriptionStyleModel",
          "model_module_version": "1.5.0",
          "state": {
            "_view_name": "StyleView",
            "_model_name": "DescriptionStyleModel",
            "description_width": "",
            "_view_module": "@jupyter-widgets/base",
            "_model_module_version": "1.5.0",
            "_view_count": null,
            "_view_module_version": "1.2.0",
            "_model_module": "@jupyter-widgets/controls"
          }
        },
        "ff33d06152ef4354b8ae0bfc9088cda0": {
          "model_module": "@jupyter-widgets/base",
          "model_name": "LayoutModel",
          "model_module_version": "1.2.0",
          "state": {
            "_view_name": "LayoutView",
            "grid_template_rows": null,
            "right": null,
            "justify_content": null,
            "_view_module": "@jupyter-widgets/base",
            "overflow": null,
            "_model_module_version": "1.2.0",
            "_view_count": null,
            "flex_flow": null,
            "width": null,
            "min_width": null,
            "border": null,
            "align_items": null,
            "bottom": null,
            "_model_module": "@jupyter-widgets/base",
            "top": null,
            "grid_column": null,
            "overflow_y": null,
            "overflow_x": null,
            "grid_auto_flow": null,
            "grid_area": null,
            "grid_template_columns": null,
            "flex": null,
            "_model_name": "LayoutModel",
            "justify_items": null,
            "grid_row": null,
            "max_height": null,
            "align_content": null,
            "visibility": null,
            "align_self": null,
            "height": null,
            "min_height": null,
            "padding": null,
            "grid_auto_rows": null,
            "grid_gap": null,
            "max_width": null,
            "order": null,
            "_view_module_version": "1.2.0",
            "grid_template_areas": null,
            "object_position": null,
            "object_fit": null,
            "grid_auto_columns": null,
            "margin": null,
            "display": null,
            "left": null
          }
        },
        "071382afa18a446a8b4b4610fced7141": {
          "model_module": "@jupyter-widgets/controls",
          "model_name": "HBoxModel",
          "model_module_version": "1.5.0",
          "state": {
            "_view_name": "HBoxView",
            "_dom_classes": [],
            "_model_name": "HBoxModel",
            "_view_module": "@jupyter-widgets/controls",
            "_model_module_version": "1.5.0",
            "_view_count": null,
            "_view_module_version": "1.5.0",
            "box_style": "",
            "layout": "IPY_MODEL_8cef749946f24fbe83a61b69eecd836e",
            "_model_module": "@jupyter-widgets/controls",
            "children": [
              "IPY_MODEL_846d1b115d95443eb576ac451aa434d1",
              "IPY_MODEL_6a828d1701184852b8c23bbf2acb3b10",
              "IPY_MODEL_1bfd148341fb4d6b9d9d7963b66f1329"
            ]
          }
        },
        "8cef749946f24fbe83a61b69eecd836e": {
          "model_module": "@jupyter-widgets/base",
          "model_name": "LayoutModel",
          "model_module_version": "1.2.0",
          "state": {
            "_view_name": "LayoutView",
            "grid_template_rows": null,
            "right": null,
            "justify_content": null,
            "_view_module": "@jupyter-widgets/base",
            "overflow": null,
            "_model_module_version": "1.2.0",
            "_view_count": null,
            "flex_flow": null,
            "width": null,
            "min_width": null,
            "border": null,
            "align_items": null,
            "bottom": null,
            "_model_module": "@jupyter-widgets/base",
            "top": null,
            "grid_column": null,
            "overflow_y": null,
            "overflow_x": null,
            "grid_auto_flow": null,
            "grid_area": null,
            "grid_template_columns": null,
            "flex": null,
            "_model_name": "LayoutModel",
            "justify_items": null,
            "grid_row": null,
            "max_height": null,
            "align_content": null,
            "visibility": null,
            "align_self": null,
            "height": null,
            "min_height": null,
            "padding": null,
            "grid_auto_rows": null,
            "grid_gap": null,
            "max_width": null,
            "order": null,
            "_view_module_version": "1.2.0",
            "grid_template_areas": null,
            "object_position": null,
            "object_fit": null,
            "grid_auto_columns": null,
            "margin": null,
            "display": null,
            "left": null
          }
        },
        "846d1b115d95443eb576ac451aa434d1": {
          "model_module": "@jupyter-widgets/controls",
          "model_name": "HTMLModel",
          "model_module_version": "1.5.0",
          "state": {
            "_view_name": "HTMLView",
            "style": "IPY_MODEL_e40363384f224e66ab7af5bbf7c34069",
            "_dom_classes": [],
            "description": "",
            "_model_name": "HTMLModel",
            "placeholder": "​",
            "_view_module": "@jupyter-widgets/controls",
            "_model_module_version": "1.5.0",
            "value": "100%",
            "_view_count": null,
            "_view_module_version": "1.5.0",
            "description_tooltip": null,
            "_model_module": "@jupyter-widgets/controls",
            "layout": "IPY_MODEL_96a0150aeb664764bbe81837d03882d9"
          }
        },
        "6a828d1701184852b8c23bbf2acb3b10": {
          "model_module": "@jupyter-widgets/controls",
          "model_name": "FloatProgressModel",
          "model_module_version": "1.5.0",
          "state": {
            "_view_name": "ProgressView",
            "style": "IPY_MODEL_2b140324904b495c863e1ab66dce2513",
            "_dom_classes": [],
            "description": "",
            "_model_name": "FloatProgressModel",
            "bar_style": "success",
            "max": 5001,
            "_view_module": "@jupyter-widgets/controls",
            "_model_module_version": "1.5.0",
            "value": 5001,
            "_view_count": null,
            "_view_module_version": "1.5.0",
            "orientation": "horizontal",
            "min": 0,
            "description_tooltip": null,
            "_model_module": "@jupyter-widgets/controls",
            "layout": "IPY_MODEL_2d41262f49c8425d9b80b84372cfed0e"
          }
        },
        "1bfd148341fb4d6b9d9d7963b66f1329": {
          "model_module": "@jupyter-widgets/controls",
          "model_name": "HTMLModel",
          "model_module_version": "1.5.0",
          "state": {
            "_view_name": "HTMLView",
            "style": "IPY_MODEL_a8a73f4888284b088dffe975027fead0",
            "_dom_classes": [],
            "description": "",
            "_model_name": "HTMLModel",
            "placeholder": "​",
            "_view_module": "@jupyter-widgets/controls",
            "_model_module_version": "1.5.0",
            "value": " 5001/5001 [00:00&lt;00:00, 5745.51it/s]",
            "_view_count": null,
            "_view_module_version": "1.5.0",
            "description_tooltip": null,
            "_model_module": "@jupyter-widgets/controls",
            "layout": "IPY_MODEL_e7edb066be434825a90d629fddedede8"
          }
        },
        "e40363384f224e66ab7af5bbf7c34069": {
          "model_module": "@jupyter-widgets/controls",
          "model_name": "DescriptionStyleModel",
          "model_module_version": "1.5.0",
          "state": {
            "_view_name": "StyleView",
            "_model_name": "DescriptionStyleModel",
            "description_width": "",
            "_view_module": "@jupyter-widgets/base",
            "_model_module_version": "1.5.0",
            "_view_count": null,
            "_view_module_version": "1.2.0",
            "_model_module": "@jupyter-widgets/controls"
          }
        },
        "96a0150aeb664764bbe81837d03882d9": {
          "model_module": "@jupyter-widgets/base",
          "model_name": "LayoutModel",
          "model_module_version": "1.2.0",
          "state": {
            "_view_name": "LayoutView",
            "grid_template_rows": null,
            "right": null,
            "justify_content": null,
            "_view_module": "@jupyter-widgets/base",
            "overflow": null,
            "_model_module_version": "1.2.0",
            "_view_count": null,
            "flex_flow": null,
            "width": null,
            "min_width": null,
            "border": null,
            "align_items": null,
            "bottom": null,
            "_model_module": "@jupyter-widgets/base",
            "top": null,
            "grid_column": null,
            "overflow_y": null,
            "overflow_x": null,
            "grid_auto_flow": null,
            "grid_area": null,
            "grid_template_columns": null,
            "flex": null,
            "_model_name": "LayoutModel",
            "justify_items": null,
            "grid_row": null,
            "max_height": null,
            "align_content": null,
            "visibility": null,
            "align_self": null,
            "height": null,
            "min_height": null,
            "padding": null,
            "grid_auto_rows": null,
            "grid_gap": null,
            "max_width": null,
            "order": null,
            "_view_module_version": "1.2.0",
            "grid_template_areas": null,
            "object_position": null,
            "object_fit": null,
            "grid_auto_columns": null,
            "margin": null,
            "display": null,
            "left": null
          }
        },
        "2b140324904b495c863e1ab66dce2513": {
          "model_module": "@jupyter-widgets/controls",
          "model_name": "ProgressStyleModel",
          "model_module_version": "1.5.0",
          "state": {
            "_view_name": "StyleView",
            "_model_name": "ProgressStyleModel",
            "description_width": "",
            "_view_module": "@jupyter-widgets/base",
            "_model_module_version": "1.5.0",
            "_view_count": null,
            "_view_module_version": "1.2.0",
            "bar_color": null,
            "_model_module": "@jupyter-widgets/controls"
          }
        },
        "2d41262f49c8425d9b80b84372cfed0e": {
          "model_module": "@jupyter-widgets/base",
          "model_name": "LayoutModel",
          "model_module_version": "1.2.0",
          "state": {
            "_view_name": "LayoutView",
            "grid_template_rows": null,
            "right": null,
            "justify_content": null,
            "_view_module": "@jupyter-widgets/base",
            "overflow": null,
            "_model_module_version": "1.2.0",
            "_view_count": null,
            "flex_flow": null,
            "width": null,
            "min_width": null,
            "border": null,
            "align_items": null,
            "bottom": null,
            "_model_module": "@jupyter-widgets/base",
            "top": null,
            "grid_column": null,
            "overflow_y": null,
            "overflow_x": null,
            "grid_auto_flow": null,
            "grid_area": null,
            "grid_template_columns": null,
            "flex": null,
            "_model_name": "LayoutModel",
            "justify_items": null,
            "grid_row": null,
            "max_height": null,
            "align_content": null,
            "visibility": null,
            "align_self": null,
            "height": null,
            "min_height": null,
            "padding": null,
            "grid_auto_rows": null,
            "grid_gap": null,
            "max_width": null,
            "order": null,
            "_view_module_version": "1.2.0",
            "grid_template_areas": null,
            "object_position": null,
            "object_fit": null,
            "grid_auto_columns": null,
            "margin": null,
            "display": null,
            "left": null
          }
        },
        "a8a73f4888284b088dffe975027fead0": {
          "model_module": "@jupyter-widgets/controls",
          "model_name": "DescriptionStyleModel",
          "model_module_version": "1.5.0",
          "state": {
            "_view_name": "StyleView",
            "_model_name": "DescriptionStyleModel",
            "description_width": "",
            "_view_module": "@jupyter-widgets/base",
            "_model_module_version": "1.5.0",
            "_view_count": null,
            "_view_module_version": "1.2.0",
            "_model_module": "@jupyter-widgets/controls"
          }
        },
        "e7edb066be434825a90d629fddedede8": {
          "model_module": "@jupyter-widgets/base",
          "model_name": "LayoutModel",
          "model_module_version": "1.2.0",
          "state": {
            "_view_name": "LayoutView",
            "grid_template_rows": null,
            "right": null,
            "justify_content": null,
            "_view_module": "@jupyter-widgets/base",
            "overflow": null,
            "_model_module_version": "1.2.0",
            "_view_count": null,
            "flex_flow": null,
            "width": null,
            "min_width": null,
            "border": null,
            "align_items": null,
            "bottom": null,
            "_model_module": "@jupyter-widgets/base",
            "top": null,
            "grid_column": null,
            "overflow_y": null,
            "overflow_x": null,
            "grid_auto_flow": null,
            "grid_area": null,
            "grid_template_columns": null,
            "flex": null,
            "_model_name": "LayoutModel",
            "justify_items": null,
            "grid_row": null,
            "max_height": null,
            "align_content": null,
            "visibility": null,
            "align_self": null,
            "height": null,
            "min_height": null,
            "padding": null,
            "grid_auto_rows": null,
            "grid_gap": null,
            "max_width": null,
            "order": null,
            "_view_module_version": "1.2.0",
            "grid_template_areas": null,
            "object_position": null,
            "object_fit": null,
            "grid_auto_columns": null,
            "margin": null,
            "display": null,
            "left": null
          }
        }
      }
    }
  },
  "cells": [
    {
      "cell_type": "markdown",
      "metadata": {
        "id": "Sb0oxqyN9Stm"
      },
      "source": [
        "# Вебинар 6. Двухуровневые модели рекомендаций\n"
      ]
    },
    {
      "cell_type": "markdown",
      "metadata": {
        "id": "tWKTLoPa9Stv"
      },
      "source": [
        "### Зачем 2 уровня?\n",
        "- Классические модели классификации (lightgbm) зачастую работают лучше, чем рекоммендательные модели (als, lightfm)\n",
        "- Данных много, предсказаний много (# items * # users) --> с таким объемом lightgbm не справляется\n",
        "- Но рекомендательные модели справляются!\n",
        "\n",
        "Отбираем top-N (200) *кандидатов* с помощью простой модели (als) --> переранжируем их сложной моделью (lightgbm)\n",
        "и выберем top-k (10)."
      ]
    },
    {
      "cell_type": "markdown",
      "metadata": {
        "id": "OKXy9Hx-9St1"
      },
      "source": [
        "---"
      ]
    },
    {
      "cell_type": "markdown",
      "metadata": {
        "id": "qXqJnvs19St4"
      },
      "source": [
        "### Применение в бизнесе\n",
        "\n",
        "Если вы еще не прочитали [статью](https://habr.com/ru/company/hh/blog/347276/) о рекомендательных системах и поиске в hh.ru, то обязательно прочитайте\n",
        "\n",
        "- 2-ух уровневая система применяется во многих компаниях\n",
        "- Зачастую уровней > 2\n",
        "- Идем от более простых эвристик/моделей к более сложным\n",
        "- Фичи из моделей первого уровня (embeddings, biases из ALS) можно использовать в последующих моделях\n",
        "\n",
        "Также решения на основе 2-ух уровневых рекомендаций заняли все топ-10 мест в соревновании X5 Retail hero. \n",
        "\n",
        "- [Презентация](https://github.com/aprotopopov/retailhero_recommender/blob/master/slides/retailhero_recommender.pdf) и [Код](https://github.com/aprotopopov/retailhero_recommender) решения 2-ого места\n",
        "- [Код](https://vk.com/away.php?utf=1&to=https%3A%2F%2Fgithub.com%2Fmike-chesnokov%2Fx5_retailhero_2020_recs) решения 9-ого места"
      ]
    },
    {
      "cell_type": "markdown",
      "metadata": {
        "id": "P5d0iTYT9St7"
      },
      "source": [
        "### Как отбирать кандидатов?\n",
        "\n",
        "Вариантов множество. Тут нам поможет *MainRecommender*. Пока в нем реализованы далеко не все возможные способы генерации кандидатов\n",
        "\n",
        "- Генерируем топ-k кандидатов\n",
        "- Качество кандидатов измеряем через **recall@k**\n",
        "- recall@k показывает какую долю из купленных товаров мы смогли выявить (рекомендовать) нашей моделью"
      ]
    },
    {
      "cell_type": "markdown",
      "metadata": {
        "id": "GJHo23EB9St9"
      },
      "source": [
        "----"
      ]
    },
    {
      "cell_type": "markdown",
      "metadata": {
        "id": "JZ0HiaDNIQTD"
      },
      "source": [
        "Pipline:\n",
        "1. Рекомендуем 50 кандидатов среди товаров классическими методами\n",
        "2. Оцениваем recall@k нашу кандидатную выдачу (выдача моделями 1-го уровня)\n",
        "3. Получаем user-item датасет по кандидатным рекомендациям\n",
        "4. Для такого датасета проставляем target купил/не купил товар по истории взаимодействий\n",
        "5. На этом датасете строим lightGBM, предсказывающий купит или не купит пользователь данный товар "
      ]
    },
    {
      "cell_type": "markdown",
      "metadata": {
        "id": "baU6tBlh9St_"
      },
      "source": [
        "# Практическая часть\n",
        "\n",
        "Код для src, utils, metrics вы можете скачать с [этого](https://github.com/geangohn/recsys-tutorial) github репозитория"
      ]
    },
    {
      "cell_type": "code",
      "metadata": {
        "colab": {
          "base_uri": "https://localhost:8080/"
        },
        "id": "e6p1dkCz8FCT",
        "outputId": "7778a23f-90be-4c6b-b82d-5abae383d384"
      },
      "source": [
        "pip install implicit"
      ],
      "execution_count": 2,
      "outputs": [
        {
          "output_type": "stream",
          "name": "stdout",
          "text": [
            "Collecting implicit\n",
            "  Downloading implicit-0.4.8.tar.gz (1.1 MB)\n",
            "\u001b[K     |████████████████████████████████| 1.1 MB 5.1 MB/s \n",
            "\u001b[?25h  Installing build dependencies ... \u001b[?25l\u001b[?25hdone\n",
            "  Getting requirements to build wheel ... \u001b[?25l\u001b[?25hdone\n",
            "  Installing backend dependencies ... \u001b[?25l\u001b[?25hdone\n",
            "    Preparing wheel metadata ... \u001b[?25l\u001b[?25hdone\n",
            "Requirement already satisfied: numpy in /usr/local/lib/python3.7/dist-packages (from implicit) (1.19.5)\n",
            "Requirement already satisfied: scipy>=0.16 in /usr/local/lib/python3.7/dist-packages (from implicit) (1.4.1)\n",
            "Requirement already satisfied: tqdm>=4.27 in /usr/local/lib/python3.7/dist-packages (from implicit) (4.62.3)\n",
            "Building wheels for collected packages: implicit\n",
            "  Building wheel for implicit (PEP 517) ... \u001b[?25l\u001b[?25hdone\n",
            "  Created wheel for implicit: filename=implicit-0.4.8-cp37-cp37m-linux_x86_64.whl size=4606613 sha256=7f80cdf1bba4b448275cacf7f77cf8eae700419e5a428e9464283bbb3aa40357\n",
            "  Stored in directory: /root/.cache/pip/wheels/88/e6/34/25e73cccbaf1a961154bb562a5f86123b68fdbf40e306073d6\n",
            "Successfully built implicit\n",
            "Installing collected packages: implicit\n",
            "Successfully installed implicit-0.4.8\n"
          ]
        }
      ]
    },
    {
      "cell_type": "code",
      "metadata": {
        "colab": {
          "base_uri": "https://localhost:8080/"
        },
        "id": "ElvrGcMxGdFx",
        "outputId": "16cf98e5-6784-49a2-cc1f-3e369b398774"
      },
      "source": [
        "from google.colab import drive\n",
        "drive.mount('/content/drive')"
      ],
      "execution_count": 1,
      "outputs": [
        {
          "output_type": "stream",
          "name": "stdout",
          "text": [
            "Drive already mounted at /content/drive; to attempt to forcibly remount, call drive.mount(\"/content/drive\", force_remount=True).\n"
          ]
        }
      ]
    },
    {
      "cell_type": "code",
      "metadata": {
        "id": "xxMSLvlhEJ1H"
      },
      "source": [
        "import sys\n",
        "sys.path.insert(0, '/content/drive/MyDrive/Colab Notebooks/Webinar_6')"
      ],
      "execution_count": 2,
      "outputs": []
    },
    {
      "cell_type": "code",
      "metadata": {
        "id": "40HWsKPl_zKR"
      },
      "source": [
        "import src"
      ],
      "execution_count": 4,
      "outputs": []
    },
    {
      "cell_type": "code",
      "metadata": {
        "id": "TmnONATrLp13"
      },
      "source": [
        "import pandas as pd\n",
        "import numpy as np\n",
        "import matplotlib.pyplot as plt\n",
        "%matplotlib inline\n",
        "\n",
        "# Для работы с матрицами\n",
        "from scipy.sparse import csr_matrix\n",
        "\n",
        "# Матричная факторизация\n",
        "from implicit import als\n",
        "\n",
        "# Модель второго уровня\n",
        "from lightgbm import LGBMClassifier\n",
        "\n",
        "import os, sys\n",
        "module_path = os.path.abspath(os.path.join(os.pardir))\n",
        "if module_path not in sys.path:\n",
        "    sys.path.append(module_path)\n",
        "\n",
        "# Написанные нами функции\n",
        "from src.metrics import precision_at_k, recall_at_k\n",
        "from src.utils import prefilter_items\n",
        "from src.recommenders import MainRecommender"
      ],
      "execution_count": 3,
      "outputs": []
    },
    {
      "cell_type": "code",
      "metadata": {
        "id": "-aY75tG7J-1W"
      },
      "source": [
        "data = pd.read_csv('/content/drive/MyDrive/Colab Notebooks/Webinar_6/retail_train.csv')\n",
        "item_features = pd.read_csv('/content/drive/MyDrive/Colab Notebooks/Webinar_6/product.csv')\n",
        "user_features = pd.read_csv('/content/drive/MyDrive/Colab Notebooks/Webinar_6/hh_demographic.csv')"
      ],
      "execution_count": 4,
      "outputs": []
    },
    {
      "cell_type": "code",
      "metadata": {
        "colab": {
          "base_uri": "https://localhost:8080/",
          "height": 111
        },
        "id": "vdq4eg19L_lb",
        "outputId": "f72965f1-cd60-411b-fd6c-2e1251c32eee"
      },
      "source": [
        "# column processing\n",
        "item_features.columns = [col.lower() for col in item_features.columns]\n",
        "user_features.columns = [col.lower() for col in user_features.columns]\n",
        "\n",
        "item_features.rename(columns={'product_id': 'item_id'}, inplace=True)\n",
        "user_features.rename(columns={'household_key': 'user_id'}, inplace=True)\n",
        "\n",
        "\n",
        "# Важна схема обучения и валидации!\n",
        "# -- давние покупки -- | -- 6 недель -- | -- 3 недель -- \n",
        "# подобрать размер 2-ого датасета (6 недель) --> learning curve (зависимость метрики recall@k от размера датасета)\n",
        "val_lvl_1_size_weeks = 6\n",
        "val_lvl_2_size_weeks = 3\n",
        "\n",
        "data_train_lvl_1 = data[data['week_no'] < data['week_no'].max() - (val_lvl_1_size_weeks + val_lvl_2_size_weeks)]\n",
        "data_val_lvl_1 = data[(data['week_no'] >= data['week_no'].max() - (val_lvl_1_size_weeks + val_lvl_2_size_weeks)) &\n",
        "                      (data['week_no'] < data['week_no'].max() - (val_lvl_2_size_weeks))]\n",
        "\n",
        "data_train_lvl_2 = data_val_lvl_1.copy()  # Для наглядности. Далее мы добавим изменения, и они будут отличаться\n",
        "data_val_lvl_2 = data[data['week_no'] >= data['week_no'].max() - val_lvl_2_size_weeks]\n",
        "\n",
        "data_train_lvl_1.head(2)"
      ],
      "execution_count": 6,
      "outputs": [
        {
          "output_type": "execute_result",
          "data": {
            "text/html": [
              "<div>\n",
              "<style scoped>\n",
              "    .dataframe tbody tr th:only-of-type {\n",
              "        vertical-align: middle;\n",
              "    }\n",
              "\n",
              "    .dataframe tbody tr th {\n",
              "        vertical-align: top;\n",
              "    }\n",
              "\n",
              "    .dataframe thead th {\n",
              "        text-align: right;\n",
              "    }\n",
              "</style>\n",
              "<table border=\"1\" class=\"dataframe\">\n",
              "  <thead>\n",
              "    <tr style=\"text-align: right;\">\n",
              "      <th></th>\n",
              "      <th>user_id</th>\n",
              "      <th>basket_id</th>\n",
              "      <th>day</th>\n",
              "      <th>item_id</th>\n",
              "      <th>quantity</th>\n",
              "      <th>sales_value</th>\n",
              "      <th>store_id</th>\n",
              "      <th>retail_disc</th>\n",
              "      <th>trans_time</th>\n",
              "      <th>week_no</th>\n",
              "      <th>coupon_disc</th>\n",
              "      <th>coupon_match_disc</th>\n",
              "    </tr>\n",
              "  </thead>\n",
              "  <tbody>\n",
              "    <tr>\n",
              "      <th>0</th>\n",
              "      <td>2375</td>\n",
              "      <td>26984851472</td>\n",
              "      <td>1</td>\n",
              "      <td>1004906</td>\n",
              "      <td>1</td>\n",
              "      <td>1.39</td>\n",
              "      <td>364</td>\n",
              "      <td>-0.6</td>\n",
              "      <td>1631</td>\n",
              "      <td>1</td>\n",
              "      <td>0.0</td>\n",
              "      <td>0.0</td>\n",
              "    </tr>\n",
              "    <tr>\n",
              "      <th>1</th>\n",
              "      <td>2375</td>\n",
              "      <td>26984851472</td>\n",
              "      <td>1</td>\n",
              "      <td>1033142</td>\n",
              "      <td>1</td>\n",
              "      <td>0.82</td>\n",
              "      <td>364</td>\n",
              "      <td>0.0</td>\n",
              "      <td>1631</td>\n",
              "      <td>1</td>\n",
              "      <td>0.0</td>\n",
              "      <td>0.0</td>\n",
              "    </tr>\n",
              "  </tbody>\n",
              "</table>\n",
              "</div>"
            ],
            "text/plain": [
              "   user_id    basket_id  day  ...  week_no  coupon_disc  coupon_match_disc\n",
              "0     2375  26984851472    1  ...        1          0.0                0.0\n",
              "1     2375  26984851472    1  ...        1          0.0                0.0\n",
              "\n",
              "[2 rows x 12 columns]"
            ]
          },
          "metadata": {},
          "execution_count": 6
        }
      ]
    },
    {
      "cell_type": "code",
      "metadata": {
        "colab": {
          "base_uri": "https://localhost:8080/"
        },
        "id": "4Ve9JY969SuI",
        "outputId": "819e3631-1ec1-4563-d437-2af6ce199fd8"
      },
      "source": [
        "n_items_before = data_train_lvl_1['item_id'].nunique()\n",
        "\n",
        "data_train_lvl_1 = prefilter_items(data_train_lvl_1, item_features=item_features, take_n_popular=5000)\n",
        "\n",
        "n_items_after = data_train_lvl_1['item_id'].nunique()\n",
        "print('Decreased # items from {} to {}'.format(n_items_before, n_items_after))"
      ],
      "execution_count": 7,
      "outputs": [
        {
          "output_type": "stream",
          "name": "stdout",
          "text": [
            "Decreased # items from 83685 to 5001\n"
          ]
        }
      ]
    },
    {
      "cell_type": "code",
      "metadata": {
        "colab": {
          "base_uri": "https://localhost:8080/",
          "height": 98,
          "referenced_widgets": [
            "2c6c009f74c64f2a8fd35da9789d955a",
            "1050929e6e3c40c393d038a42c543b8c",
            "dca951094a9646b39199e2e4640fdcc0",
            "461481dafacf45d2ba802a73a6052165",
            "3656dca273f74a04b59747f16e437506",
            "8f0cb4d724ad4ea38358679e8d7340ef",
            "b066b6b6b8f344f298b6b4a9abf7c0da",
            "8b1e706730ee4a68987ff4cae882ec10",
            "182e7ab312354c6cb1beecefdf810190",
            "e8c86581c92d44c383ad180d053f3645",
            "ff33d06152ef4354b8ae0bfc9088cda0",
            "071382afa18a446a8b4b4610fced7141",
            "8cef749946f24fbe83a61b69eecd836e",
            "846d1b115d95443eb576ac451aa434d1",
            "6a828d1701184852b8c23bbf2acb3b10",
            "1bfd148341fb4d6b9d9d7963b66f1329",
            "e40363384f224e66ab7af5bbf7c34069",
            "96a0150aeb664764bbe81837d03882d9",
            "2b140324904b495c863e1ab66dce2513",
            "2d41262f49c8425d9b80b84372cfed0e",
            "a8a73f4888284b088dffe975027fead0",
            "e7edb066be434825a90d629fddedede8"
          ]
        },
        "id": "2B_5gEQN9SuK",
        "outputId": "4e1b13cb-3736-4095-f5a7-8ad542e6bed5"
      },
      "source": [
        "recommender = MainRecommender(data_train_lvl_1)"
      ],
      "execution_count": 8,
      "outputs": [
        {
          "output_type": "stream",
          "name": "stderr",
          "text": [
            "WARNING:root:OpenBLAS detected. Its highly recommend to set the environment variable 'export OPENBLAS_NUM_THREADS=1' to disable its internal multithreading\n"
          ]
        },
        {
          "output_type": "display_data",
          "data": {
            "application/vnd.jupyter.widget-view+json": {
              "model_id": "2c6c009f74c64f2a8fd35da9789d955a",
              "version_minor": 0,
              "version_major": 2
            },
            "text/plain": [
              "  0%|          | 0/15 [00:00<?, ?it/s]"
            ]
          },
          "metadata": {}
        },
        {
          "output_type": "display_data",
          "data": {
            "application/vnd.jupyter.widget-view+json": {
              "model_id": "071382afa18a446a8b4b4610fced7141",
              "version_minor": 0,
              "version_major": 2
            },
            "text/plain": [
              "  0%|          | 0/5001 [00:00<?, ?it/s]"
            ]
          },
          "metadata": {}
        }
      ]
    },
    {
      "cell_type": "code",
      "metadata": {
        "colab": {
          "base_uri": "https://localhost:8080/"
        },
        "id": "-EhH222GBXtf",
        "outputId": "3ebdacf2-f8be-49f4-f6b3-52a49d72abcd"
      },
      "source": [
        "recommender"
      ],
      "execution_count": 9,
      "outputs": [
        {
          "output_type": "execute_result",
          "data": {
            "text/plain": [
              "<src.recommenders.MainRecommender at 0x7f7395be2710>"
            ]
          },
          "metadata": {},
          "execution_count": 9
        }
      ]
    },
    {
      "cell_type": "markdown",
      "metadata": {
        "id": "cCRW8mf09SuL"
      },
      "source": [
        "### Варианты, как получить кандидатов\n",
        "\n",
        "Можно потом все эти варианты соединить в один\n",
        "\n",
        "(!) Если модель рекомендует < N товаров, то рекомендации дополняются топ-популярными товарами до N"
      ]
    },
    {
      "cell_type": "code",
      "metadata": {
        "colab": {
          "base_uri": "https://localhost:8080/"
        },
        "id": "F5vGxnaa9SuM",
        "outputId": "5807031a-6535-443b-fa30-17104e1f685a"
      },
      "source": [
        "recommender.get_als_recommendations(2375, N=5)"
      ],
      "execution_count": 11,
      "outputs": [
        {
          "output_type": "execute_result",
          "data": {
            "text/plain": [
              "[899624, 871756, 1044078, 1106523, 844179]"
            ]
          },
          "metadata": {},
          "execution_count": 11
        }
      ]
    },
    {
      "cell_type": "code",
      "metadata": {
        "colab": {
          "base_uri": "https://localhost:8080/"
        },
        "id": "Jm_oF0JI9SuM",
        "outputId": "b705bee7-76c2-4867-9751-d7ab590e912d"
      },
      "source": [
        "recommender.get_own_recommendations(2375, N=5)"
      ],
      "execution_count": 12,
      "outputs": [
        {
          "output_type": "execute_result",
          "data": {
            "text/plain": [
              "[948640, 918046, 847962, 907099, 873980]"
            ]
          },
          "metadata": {},
          "execution_count": 12
        }
      ]
    },
    {
      "cell_type": "code",
      "metadata": {
        "colab": {
          "base_uri": "https://localhost:8080/"
        },
        "id": "YGyUbabo9SuN",
        "outputId": "da321315-d280-4085-8dc8-0468088f3cf6"
      },
      "source": [
        "recommender.get_similar_items_recommendation(2375, N=5)"
      ],
      "execution_count": 13,
      "outputs": [
        {
          "output_type": "execute_result",
          "data": {
            "text/plain": [
              "[1046545, 1044078, 844179, 1078652, 15778319]"
            ]
          },
          "metadata": {},
          "execution_count": 13
        }
      ]
    },
    {
      "cell_type": "code",
      "metadata": {
        "colab": {
          "base_uri": "https://localhost:8080/"
        },
        "id": "0C7vmhGa9SuO",
        "outputId": "d5899a28-0e3c-4d9c-8254-782c5aeb4f48"
      },
      "source": [
        "recommender.get_similar_users_recommendation(2375, N=5)"
      ],
      "execution_count": 14,
      "outputs": [
        {
          "output_type": "execute_result",
          "data": {
            "text/plain": [
              "[1097398, 1096573, 835351, 861494, 821741]"
            ]
          },
          "metadata": {},
          "execution_count": 14
        }
      ]
    },
    {
      "cell_type": "markdown",
      "metadata": {
        "id": "KhZm3W1d9SuO"
      },
      "source": [
        "### Измеряем recall@k\n",
        "\n",
        "Это будет в ДЗ: \n",
        "\n",
        "A) Попробуйте различные варианты генерации кандидатов. Какие из них дают наибольший recall@k ?\n",
        "- Пока пробуем отобрать 50 кандидатов (k=50)\n",
        "- Качество измеряем на data_val_lvl_1: следующие 6 недель после трейна\n",
        "\n",
        "Дают ли own recommendtions + top-popular лучший recall?  \n",
        "\n",
        "B)* Как зависит recall@k от k? Постройте для одной схемы генерации кандидатов эту зависимость для k = {20, 50, 100, 200, 500}  \n",
        "C)* Исходя из прошлого вопроса, как вы думаете, какое значение k является наиболее разумным?\n"
      ]
    },
    {
      "cell_type": "code",
      "metadata": {
        "id": "iNhKQhXp9SuP",
        "colab": {
          "base_uri": "https://localhost:8080/",
          "height": 111
        },
        "outputId": "24a99d96-9548-42b3-ee4a-dc79578a1417"
      },
      "source": [
        "result_lvl_1 = data_val_lvl_1.groupby('user_id')['item_id'].unique().reset_index()\n",
        "result_lvl_1.columns=['user_id', 'actual']\n",
        "result_lvl_1.head(2)"
      ],
      "execution_count": 180,
      "outputs": [
        {
          "output_type": "execute_result",
          "data": {
            "text/html": [
              "<div>\n",
              "<style scoped>\n",
              "    .dataframe tbody tr th:only-of-type {\n",
              "        vertical-align: middle;\n",
              "    }\n",
              "\n",
              "    .dataframe tbody tr th {\n",
              "        vertical-align: top;\n",
              "    }\n",
              "\n",
              "    .dataframe thead th {\n",
              "        text-align: right;\n",
              "    }\n",
              "</style>\n",
              "<table border=\"1\" class=\"dataframe\">\n",
              "  <thead>\n",
              "    <tr style=\"text-align: right;\">\n",
              "      <th></th>\n",
              "      <th>user_id</th>\n",
              "      <th>actual</th>\n",
              "    </tr>\n",
              "  </thead>\n",
              "  <tbody>\n",
              "    <tr>\n",
              "      <th>0</th>\n",
              "      <td>1</td>\n",
              "      <td>[853529, 865456, 867607, 872137, 874905, 87524...</td>\n",
              "    </tr>\n",
              "    <tr>\n",
              "      <th>1</th>\n",
              "      <td>2</td>\n",
              "      <td>[15830248, 838136, 839656, 861272, 866211, 870...</td>\n",
              "    </tr>\n",
              "  </tbody>\n",
              "</table>\n",
              "</div>"
            ],
            "text/plain": [
              "   user_id                                             actual\n",
              "0        1  [853529, 865456, 867607, 872137, 874905, 87524...\n",
              "1        2  [15830248, 838136, 839656, 861272, 866211, 870..."
            ]
          },
          "metadata": {},
          "execution_count": 180
        }
      ]
    },
    {
      "cell_type": "code",
      "metadata": {
        "id": "k__U8PlJ9SuQ",
        "colab": {
          "base_uri": "https://localhost:8080/",
          "height": 409
        },
        "outputId": "9dffe2af-1783-4277-8170-accd9005dbfb"
      },
      "source": [
        "result_lvl_1['als'] = result_lvl_1['user_id'].apply(lambda x: recommender.get_als_recommendations(x, N=50))"
      ],
      "execution_count": 181,
      "outputs": [
        {
          "output_type": "error",
          "ename": "IndexError",
          "evalue": "ignored",
          "traceback": [
            "\u001b[0;31m---------------------------------------------------------------------------\u001b[0m",
            "\u001b[0;31mIndexError\u001b[0m                                Traceback (most recent call last)",
            "\u001b[0;32m<ipython-input-181-18d1c7b7fbcc>\u001b[0m in \u001b[0;36m<module>\u001b[0;34m()\u001b[0m\n\u001b[0;32m----> 1\u001b[0;31m \u001b[0mresult_lvl_1\u001b[0m\u001b[0;34m[\u001b[0m\u001b[0;34m'als'\u001b[0m\u001b[0;34m]\u001b[0m \u001b[0;34m=\u001b[0m \u001b[0mresult_lvl_1\u001b[0m\u001b[0;34m[\u001b[0m\u001b[0;34m'user_id'\u001b[0m\u001b[0;34m]\u001b[0m\u001b[0;34m.\u001b[0m\u001b[0mapply\u001b[0m\u001b[0;34m(\u001b[0m\u001b[0;32mlambda\u001b[0m \u001b[0mx\u001b[0m\u001b[0;34m:\u001b[0m \u001b[0mrecommender\u001b[0m\u001b[0;34m.\u001b[0m\u001b[0mget_als_recommendations\u001b[0m\u001b[0;34m(\u001b[0m\u001b[0mx\u001b[0m\u001b[0;34m,\u001b[0m \u001b[0mN\u001b[0m\u001b[0;34m=\u001b[0m\u001b[0;36m50\u001b[0m\u001b[0;34m)\u001b[0m\u001b[0;34m)\u001b[0m\u001b[0;34m\u001b[0m\u001b[0;34m\u001b[0m\u001b[0m\n\u001b[0m",
            "\u001b[0;32m/usr/local/lib/python3.7/dist-packages/pandas/core/series.py\u001b[0m in \u001b[0;36mapply\u001b[0;34m(self, func, convert_dtype, args, **kwds)\u001b[0m\n\u001b[1;32m   4211\u001b[0m             \u001b[0;32melse\u001b[0m\u001b[0;34m:\u001b[0m\u001b[0;34m\u001b[0m\u001b[0;34m\u001b[0m\u001b[0m\n\u001b[1;32m   4212\u001b[0m                 \u001b[0mvalues\u001b[0m \u001b[0;34m=\u001b[0m \u001b[0mself\u001b[0m\u001b[0;34m.\u001b[0m\u001b[0mastype\u001b[0m\u001b[0;34m(\u001b[0m\u001b[0mobject\u001b[0m\u001b[0;34m)\u001b[0m\u001b[0;34m.\u001b[0m\u001b[0m_values\u001b[0m\u001b[0;34m\u001b[0m\u001b[0;34m\u001b[0m\u001b[0m\n\u001b[0;32m-> 4213\u001b[0;31m                 \u001b[0mmapped\u001b[0m \u001b[0;34m=\u001b[0m \u001b[0mlib\u001b[0m\u001b[0;34m.\u001b[0m\u001b[0mmap_infer\u001b[0m\u001b[0;34m(\u001b[0m\u001b[0mvalues\u001b[0m\u001b[0;34m,\u001b[0m \u001b[0mf\u001b[0m\u001b[0;34m,\u001b[0m \u001b[0mconvert\u001b[0m\u001b[0;34m=\u001b[0m\u001b[0mconvert_dtype\u001b[0m\u001b[0;34m)\u001b[0m\u001b[0;34m\u001b[0m\u001b[0;34m\u001b[0m\u001b[0m\n\u001b[0m\u001b[1;32m   4214\u001b[0m \u001b[0;34m\u001b[0m\u001b[0m\n\u001b[1;32m   4215\u001b[0m         \u001b[0;32mif\u001b[0m \u001b[0mlen\u001b[0m\u001b[0;34m(\u001b[0m\u001b[0mmapped\u001b[0m\u001b[0;34m)\u001b[0m \u001b[0;32mand\u001b[0m \u001b[0misinstance\u001b[0m\u001b[0;34m(\u001b[0m\u001b[0mmapped\u001b[0m\u001b[0;34m[\u001b[0m\u001b[0;36m0\u001b[0m\u001b[0;34m]\u001b[0m\u001b[0;34m,\u001b[0m \u001b[0mSeries\u001b[0m\u001b[0;34m)\u001b[0m\u001b[0;34m:\u001b[0m\u001b[0;34m\u001b[0m\u001b[0;34m\u001b[0m\u001b[0m\n",
            "\u001b[0;32mpandas/_libs/lib.pyx\u001b[0m in \u001b[0;36mpandas._libs.lib.map_infer\u001b[0;34m()\u001b[0m\n",
            "\u001b[0;32m<ipython-input-181-18d1c7b7fbcc>\u001b[0m in \u001b[0;36m<lambda>\u001b[0;34m(x)\u001b[0m\n\u001b[0;32m----> 1\u001b[0;31m \u001b[0mresult_lvl_1\u001b[0m\u001b[0;34m[\u001b[0m\u001b[0;34m'als'\u001b[0m\u001b[0;34m]\u001b[0m \u001b[0;34m=\u001b[0m \u001b[0mresult_lvl_1\u001b[0m\u001b[0;34m[\u001b[0m\u001b[0;34m'user_id'\u001b[0m\u001b[0;34m]\u001b[0m\u001b[0;34m.\u001b[0m\u001b[0mapply\u001b[0m\u001b[0;34m(\u001b[0m\u001b[0;32mlambda\u001b[0m \u001b[0mx\u001b[0m\u001b[0;34m:\u001b[0m \u001b[0mrecommender\u001b[0m\u001b[0;34m.\u001b[0m\u001b[0mget_als_recommendations\u001b[0m\u001b[0;34m(\u001b[0m\u001b[0mx\u001b[0m\u001b[0;34m,\u001b[0m \u001b[0mN\u001b[0m\u001b[0;34m=\u001b[0m\u001b[0;36m50\u001b[0m\u001b[0;34m)\u001b[0m\u001b[0;34m)\u001b[0m\u001b[0;34m\u001b[0m\u001b[0;34m\u001b[0m\u001b[0m\n\u001b[0m",
            "\u001b[0;32m/content/drive/MyDrive/Colab Notebooks/Webinar_6/src/recommenders.py\u001b[0m in \u001b[0;36mget_als_recommendations\u001b[0;34m(self, user, N)\u001b[0m\n\u001b[1;32m    156\u001b[0m \u001b[0;34m\u001b[0m\u001b[0m\n\u001b[1;32m    157\u001b[0m         \u001b[0mself\u001b[0m\u001b[0;34m.\u001b[0m\u001b[0m_update_dict\u001b[0m\u001b[0;34m(\u001b[0m\u001b[0muser_id\u001b[0m\u001b[0;34m=\u001b[0m\u001b[0muser\u001b[0m\u001b[0;34m)\u001b[0m\u001b[0;34m\u001b[0m\u001b[0;34m\u001b[0m\u001b[0m\n\u001b[0;32m--> 158\u001b[0;31m         \u001b[0;32mreturn\u001b[0m \u001b[0mself\u001b[0m\u001b[0;34m.\u001b[0m\u001b[0m_get_recommendations\u001b[0m\u001b[0;34m(\u001b[0m\u001b[0muser\u001b[0m\u001b[0;34m,\u001b[0m \u001b[0mmodel\u001b[0m\u001b[0;34m=\u001b[0m\u001b[0mself\u001b[0m\u001b[0;34m.\u001b[0m\u001b[0mmodel\u001b[0m\u001b[0;34m,\u001b[0m \u001b[0mN\u001b[0m\u001b[0;34m=\u001b[0m\u001b[0mN\u001b[0m\u001b[0;34m)\u001b[0m\u001b[0;34m\u001b[0m\u001b[0;34m\u001b[0m\u001b[0m\n\u001b[0m\u001b[1;32m    159\u001b[0m \u001b[0;34m\u001b[0m\u001b[0m\n\u001b[1;32m    160\u001b[0m     \u001b[0;32mdef\u001b[0m \u001b[0mget_own_recommendations\u001b[0m\u001b[0;34m(\u001b[0m\u001b[0mself\u001b[0m\u001b[0;34m,\u001b[0m \u001b[0muser\u001b[0m\u001b[0;34m,\u001b[0m \u001b[0mN\u001b[0m\u001b[0;34m=\u001b[0m\u001b[0;36m5\u001b[0m\u001b[0;34m)\u001b[0m\u001b[0;34m:\u001b[0m\u001b[0;34m\u001b[0m\u001b[0;34m\u001b[0m\u001b[0m\n",
            "\u001b[0;32m/content/drive/MyDrive/Colab Notebooks/Webinar_6/src/recommenders.py\u001b[0m in \u001b[0;36m_get_recommendations\u001b[0;34m(self, user, model, N)\u001b[0m\n\u001b[1;32m    143\u001b[0m                                         \u001b[0mfilter_already_liked_items\u001b[0m\u001b[0;34m=\u001b[0m\u001b[0;32mFalse\u001b[0m\u001b[0;34m,\u001b[0m\u001b[0;34m\u001b[0m\u001b[0;34m\u001b[0m\u001b[0m\n\u001b[1;32m    144\u001b[0m                                         \u001b[0mfilter_items\u001b[0m\u001b[0;34m=\u001b[0m\u001b[0;34m[\u001b[0m\u001b[0mself\u001b[0m\u001b[0;34m.\u001b[0m\u001b[0mitemid_to_id\u001b[0m\u001b[0;34m[\u001b[0m\u001b[0;36m999999\u001b[0m\u001b[0;34m]\u001b[0m\u001b[0;34m]\u001b[0m\u001b[0;34m,\u001b[0m\u001b[0;34m\u001b[0m\u001b[0;34m\u001b[0m\u001b[0m\n\u001b[0;32m--> 145\u001b[0;31m                                         recalculate_user=True)\n\u001b[0m\u001b[1;32m    146\u001b[0m \u001b[0;34m\u001b[0m\u001b[0m\n\u001b[1;32m    147\u001b[0m         \u001b[0mres\u001b[0m \u001b[0;34m=\u001b[0m \u001b[0;34m[\u001b[0m\u001b[0mself\u001b[0m\u001b[0;34m.\u001b[0m\u001b[0mid_to_itemid\u001b[0m\u001b[0;34m[\u001b[0m\u001b[0mrec\u001b[0m\u001b[0;34m[\u001b[0m\u001b[0;36m0\u001b[0m\u001b[0;34m]\u001b[0m\u001b[0;34m]\u001b[0m \u001b[0;32mfor\u001b[0m \u001b[0mrec\u001b[0m \u001b[0;32min\u001b[0m \u001b[0mrecs\u001b[0m\u001b[0;34m]\u001b[0m\u001b[0;34m\u001b[0m\u001b[0;34m\u001b[0m\u001b[0m\n",
            "\u001b[0;32mimplicit/recommender_base.pyx\u001b[0m in \u001b[0;36mimplicit.recommender_base.MatrixFactorizationBase.recommend\u001b[0;34m()\u001b[0m\n",
            "\u001b[0;32mimplicit/recommender_base.pyx\u001b[0m in \u001b[0;36mimplicit.recommender_base.MatrixFactorizationBase._user_factor\u001b[0;34m()\u001b[0m\n",
            "\u001b[0;32m/usr/local/lib/python3.7/dist-packages/implicit/cpu/als.py\u001b[0m in \u001b[0;36mrecalculate_user\u001b[0;34m(self, userid, user_items)\u001b[0m\n\u001b[1;32m    200\u001b[0m             \u001b[0muserid\u001b[0m\u001b[0;34m,\u001b[0m\u001b[0;34m\u001b[0m\u001b[0;34m\u001b[0m\u001b[0m\n\u001b[1;32m    201\u001b[0m             \u001b[0mself\u001b[0m\u001b[0;34m.\u001b[0m\u001b[0mregularization\u001b[0m\u001b[0;34m,\u001b[0m\u001b[0;34m\u001b[0m\u001b[0;34m\u001b[0m\u001b[0m\n\u001b[0;32m--> 202\u001b[0;31m             \u001b[0mself\u001b[0m\u001b[0;34m.\u001b[0m\u001b[0mfactors\u001b[0m\u001b[0;34m,\u001b[0m\u001b[0;34m\u001b[0m\u001b[0;34m\u001b[0m\u001b[0m\n\u001b[0m\u001b[1;32m    203\u001b[0m         )\n\u001b[1;32m    204\u001b[0m \u001b[0;34m\u001b[0m\u001b[0m\n",
            "\u001b[0;32m/usr/local/lib/python3.7/dist-packages/implicit/cpu/als.py\u001b[0m in \u001b[0;36muser_factor\u001b[0;34m(Y, YtY, Cui, u, regularization, n_factors)\u001b[0m\n\u001b[1;32m    349\u001b[0m \u001b[0;32mdef\u001b[0m \u001b[0muser_factor\u001b[0m\u001b[0;34m(\u001b[0m\u001b[0mY\u001b[0m\u001b[0;34m,\u001b[0m \u001b[0mYtY\u001b[0m\u001b[0;34m,\u001b[0m \u001b[0mCui\u001b[0m\u001b[0;34m,\u001b[0m \u001b[0mu\u001b[0m\u001b[0;34m,\u001b[0m \u001b[0mregularization\u001b[0m\u001b[0;34m,\u001b[0m \u001b[0mn_factors\u001b[0m\u001b[0;34m)\u001b[0m\u001b[0;34m:\u001b[0m\u001b[0;34m\u001b[0m\u001b[0;34m\u001b[0m\u001b[0m\n\u001b[1;32m    350\u001b[0m     \u001b[0;31m# Xu = (YtCuY + regularization * I)^-1 (YtCuPu)\u001b[0m\u001b[0;34m\u001b[0m\u001b[0;34m\u001b[0m\u001b[0;34m\u001b[0m\u001b[0m\n\u001b[0;32m--> 351\u001b[0;31m     \u001b[0mA\u001b[0m\u001b[0;34m,\u001b[0m \u001b[0mb\u001b[0m \u001b[0;34m=\u001b[0m \u001b[0muser_linear_equation\u001b[0m\u001b[0;34m(\u001b[0m\u001b[0mY\u001b[0m\u001b[0;34m,\u001b[0m \u001b[0mYtY\u001b[0m\u001b[0;34m,\u001b[0m \u001b[0mCui\u001b[0m\u001b[0;34m,\u001b[0m \u001b[0mu\u001b[0m\u001b[0;34m,\u001b[0m \u001b[0mregularization\u001b[0m\u001b[0;34m,\u001b[0m \u001b[0mn_factors\u001b[0m\u001b[0;34m)\u001b[0m\u001b[0;34m\u001b[0m\u001b[0;34m\u001b[0m\u001b[0m\n\u001b[0m\u001b[1;32m    352\u001b[0m     \u001b[0;32mreturn\u001b[0m \u001b[0mnp\u001b[0m\u001b[0;34m.\u001b[0m\u001b[0mlinalg\u001b[0m\u001b[0;34m.\u001b[0m\u001b[0msolve\u001b[0m\u001b[0;34m(\u001b[0m\u001b[0mA\u001b[0m\u001b[0;34m,\u001b[0m \u001b[0mb\u001b[0m\u001b[0;34m)\u001b[0m\u001b[0;34m\u001b[0m\u001b[0;34m\u001b[0m\u001b[0m\n\u001b[1;32m    353\u001b[0m \u001b[0;34m\u001b[0m\u001b[0m\n",
            "\u001b[0;32m/usr/local/lib/python3.7/dist-packages/implicit/cpu/als.py\u001b[0m in \u001b[0;36muser_linear_equation\u001b[0;34m(Y, YtY, Cui, u, regularization, n_factors)\u001b[0m\n\u001b[1;32m    335\u001b[0m     \u001b[0mb\u001b[0m \u001b[0;34m=\u001b[0m \u001b[0mnp\u001b[0m\u001b[0;34m.\u001b[0m\u001b[0mzeros\u001b[0m\u001b[0;34m(\u001b[0m\u001b[0mn_factors\u001b[0m\u001b[0;34m)\u001b[0m\u001b[0;34m\u001b[0m\u001b[0;34m\u001b[0m\u001b[0m\n\u001b[1;32m    336\u001b[0m \u001b[0;34m\u001b[0m\u001b[0m\n\u001b[0;32m--> 337\u001b[0;31m     \u001b[0;32mfor\u001b[0m \u001b[0mi\u001b[0m\u001b[0;34m,\u001b[0m \u001b[0mconfidence\u001b[0m \u001b[0;32min\u001b[0m \u001b[0mnonzeros\u001b[0m\u001b[0;34m(\u001b[0m\u001b[0mCui\u001b[0m\u001b[0;34m,\u001b[0m \u001b[0mu\u001b[0m\u001b[0;34m)\u001b[0m\u001b[0;34m:\u001b[0m\u001b[0;34m\u001b[0m\u001b[0;34m\u001b[0m\u001b[0m\n\u001b[0m\u001b[1;32m    338\u001b[0m         \u001b[0mfactor\u001b[0m \u001b[0;34m=\u001b[0m \u001b[0mY\u001b[0m\u001b[0;34m[\u001b[0m\u001b[0mi\u001b[0m\u001b[0;34m]\u001b[0m\u001b[0;34m\u001b[0m\u001b[0;34m\u001b[0m\u001b[0m\n\u001b[1;32m    339\u001b[0m \u001b[0;34m\u001b[0m\u001b[0m\n",
            "\u001b[0;32m/usr/local/lib/python3.7/dist-packages/implicit/utils.py\u001b[0m in \u001b[0;36mnonzeros\u001b[0;34m(m, row)\u001b[0m\n\u001b[1;32m      7\u001b[0m \u001b[0;32mdef\u001b[0m \u001b[0mnonzeros\u001b[0m\u001b[0;34m(\u001b[0m\u001b[0mm\u001b[0m\u001b[0;34m,\u001b[0m \u001b[0mrow\u001b[0m\u001b[0;34m)\u001b[0m\u001b[0;34m:\u001b[0m\u001b[0;34m\u001b[0m\u001b[0;34m\u001b[0m\u001b[0m\n\u001b[1;32m      8\u001b[0m     \u001b[0;34m\"\"\"returns the non zeroes of a row in csr_matrix\"\"\"\u001b[0m\u001b[0;34m\u001b[0m\u001b[0;34m\u001b[0m\u001b[0m\n\u001b[0;32m----> 9\u001b[0;31m     \u001b[0;32mfor\u001b[0m \u001b[0mindex\u001b[0m \u001b[0;32min\u001b[0m \u001b[0mrange\u001b[0m\u001b[0;34m(\u001b[0m\u001b[0mm\u001b[0m\u001b[0;34m.\u001b[0m\u001b[0mindptr\u001b[0m\u001b[0;34m[\u001b[0m\u001b[0mrow\u001b[0m\u001b[0;34m]\u001b[0m\u001b[0;34m,\u001b[0m \u001b[0mm\u001b[0m\u001b[0;34m.\u001b[0m\u001b[0mindptr\u001b[0m\u001b[0;34m[\u001b[0m\u001b[0mrow\u001b[0m \u001b[0;34m+\u001b[0m \u001b[0;36m1\u001b[0m\u001b[0;34m]\u001b[0m\u001b[0;34m)\u001b[0m\u001b[0;34m:\u001b[0m\u001b[0;34m\u001b[0m\u001b[0;34m\u001b[0m\u001b[0m\n\u001b[0m\u001b[1;32m     10\u001b[0m         \u001b[0;32myield\u001b[0m \u001b[0mm\u001b[0m\u001b[0;34m.\u001b[0m\u001b[0mindices\u001b[0m\u001b[0;34m[\u001b[0m\u001b[0mindex\u001b[0m\u001b[0;34m]\u001b[0m\u001b[0;34m,\u001b[0m \u001b[0mm\u001b[0m\u001b[0;34m.\u001b[0m\u001b[0mdata\u001b[0m\u001b[0;34m[\u001b[0m\u001b[0mindex\u001b[0m\u001b[0;34m]\u001b[0m\u001b[0;34m\u001b[0m\u001b[0;34m\u001b[0m\u001b[0m\n\u001b[1;32m     11\u001b[0m \u001b[0;34m\u001b[0m\u001b[0m\n",
            "\u001b[0;31mIndexError\u001b[0m: index 2496 is out of bounds for axis 0 with size 2496"
          ]
        }
      ]
    },
    {
      "cell_type": "code",
      "metadata": {
        "colab": {
          "base_uri": "https://localhost:8080/",
          "height": 358
        },
        "id": "OhgQDc492AVA",
        "outputId": "45773463-f5f4-4f7b-a05c-6d31807dc514"
      },
      "source": [
        "result_lvl_1['own'] = result_lvl_1['user_id'].apply(lambda x: recommender.get_own_recommendations(x, N=50))"
      ],
      "execution_count": 19,
      "outputs": [
        {
          "output_type": "error",
          "ename": "ValueError",
          "evalue": "ignored",
          "traceback": [
            "\u001b[0;31m---------------------------------------------------------------------------\u001b[0m",
            "\u001b[0;31mValueError\u001b[0m                                Traceback (most recent call last)",
            "\u001b[0;32m<ipython-input-19-ed6a6f3f30b9>\u001b[0m in \u001b[0;36m<module>\u001b[0;34m()\u001b[0m\n\u001b[0;32m----> 1\u001b[0;31m \u001b[0mresult_lvl_1\u001b[0m\u001b[0;34m[\u001b[0m\u001b[0;34m'own'\u001b[0m\u001b[0;34m]\u001b[0m \u001b[0;34m=\u001b[0m \u001b[0mresult_lvl_1\u001b[0m\u001b[0;34m[\u001b[0m\u001b[0;34m'user_id'\u001b[0m\u001b[0;34m]\u001b[0m\u001b[0;34m.\u001b[0m\u001b[0mapply\u001b[0m\u001b[0;34m(\u001b[0m\u001b[0;32mlambda\u001b[0m \u001b[0mx\u001b[0m\u001b[0;34m:\u001b[0m \u001b[0mrecommender\u001b[0m\u001b[0;34m.\u001b[0m\u001b[0mget_own_recommendations\u001b[0m\u001b[0;34m(\u001b[0m\u001b[0mx\u001b[0m\u001b[0;34m,\u001b[0m \u001b[0mN\u001b[0m\u001b[0;34m=\u001b[0m\u001b[0;36m50\u001b[0m\u001b[0;34m)\u001b[0m\u001b[0;34m)\u001b[0m\u001b[0;34m\u001b[0m\u001b[0;34m\u001b[0m\u001b[0m\n\u001b[0m",
            "\u001b[0;32m/usr/local/lib/python3.7/dist-packages/pandas/core/series.py\u001b[0m in \u001b[0;36mapply\u001b[0;34m(self, func, convert_dtype, args, **kwds)\u001b[0m\n\u001b[1;32m   4211\u001b[0m             \u001b[0;32melse\u001b[0m\u001b[0;34m:\u001b[0m\u001b[0;34m\u001b[0m\u001b[0;34m\u001b[0m\u001b[0m\n\u001b[1;32m   4212\u001b[0m                 \u001b[0mvalues\u001b[0m \u001b[0;34m=\u001b[0m \u001b[0mself\u001b[0m\u001b[0;34m.\u001b[0m\u001b[0mastype\u001b[0m\u001b[0;34m(\u001b[0m\u001b[0mobject\u001b[0m\u001b[0;34m)\u001b[0m\u001b[0;34m.\u001b[0m\u001b[0m_values\u001b[0m\u001b[0;34m\u001b[0m\u001b[0;34m\u001b[0m\u001b[0m\n\u001b[0;32m-> 4213\u001b[0;31m                 \u001b[0mmapped\u001b[0m \u001b[0;34m=\u001b[0m \u001b[0mlib\u001b[0m\u001b[0;34m.\u001b[0m\u001b[0mmap_infer\u001b[0m\u001b[0;34m(\u001b[0m\u001b[0mvalues\u001b[0m\u001b[0;34m,\u001b[0m \u001b[0mf\u001b[0m\u001b[0;34m,\u001b[0m \u001b[0mconvert\u001b[0m\u001b[0;34m=\u001b[0m\u001b[0mconvert_dtype\u001b[0m\u001b[0;34m)\u001b[0m\u001b[0;34m\u001b[0m\u001b[0;34m\u001b[0m\u001b[0m\n\u001b[0m\u001b[1;32m   4214\u001b[0m \u001b[0;34m\u001b[0m\u001b[0m\n\u001b[1;32m   4215\u001b[0m         \u001b[0;32mif\u001b[0m \u001b[0mlen\u001b[0m\u001b[0;34m(\u001b[0m\u001b[0mmapped\u001b[0m\u001b[0;34m)\u001b[0m \u001b[0;32mand\u001b[0m \u001b[0misinstance\u001b[0m\u001b[0;34m(\u001b[0m\u001b[0mmapped\u001b[0m\u001b[0;34m[\u001b[0m\u001b[0;36m0\u001b[0m\u001b[0;34m]\u001b[0m\u001b[0;34m,\u001b[0m \u001b[0mSeries\u001b[0m\u001b[0;34m)\u001b[0m\u001b[0;34m:\u001b[0m\u001b[0;34m\u001b[0m\u001b[0;34m\u001b[0m\u001b[0m\n",
            "\u001b[0;32mpandas/_libs/lib.pyx\u001b[0m in \u001b[0;36mpandas._libs.lib.map_infer\u001b[0;34m()\u001b[0m\n",
            "\u001b[0;32m<ipython-input-19-ed6a6f3f30b9>\u001b[0m in \u001b[0;36m<lambda>\u001b[0;34m(x)\u001b[0m\n\u001b[0;32m----> 1\u001b[0;31m \u001b[0mresult_lvl_1\u001b[0m\u001b[0;34m[\u001b[0m\u001b[0;34m'own'\u001b[0m\u001b[0;34m]\u001b[0m \u001b[0;34m=\u001b[0m \u001b[0mresult_lvl_1\u001b[0m\u001b[0;34m[\u001b[0m\u001b[0;34m'user_id'\u001b[0m\u001b[0;34m]\u001b[0m\u001b[0;34m.\u001b[0m\u001b[0mapply\u001b[0m\u001b[0;34m(\u001b[0m\u001b[0;32mlambda\u001b[0m \u001b[0mx\u001b[0m\u001b[0;34m:\u001b[0m \u001b[0mrecommender\u001b[0m\u001b[0;34m.\u001b[0m\u001b[0mget_own_recommendations\u001b[0m\u001b[0;34m(\u001b[0m\u001b[0mx\u001b[0m\u001b[0;34m,\u001b[0m \u001b[0mN\u001b[0m\u001b[0;34m=\u001b[0m\u001b[0;36m50\u001b[0m\u001b[0;34m)\u001b[0m\u001b[0;34m)\u001b[0m\u001b[0;34m\u001b[0m\u001b[0;34m\u001b[0m\u001b[0m\n\u001b[0m",
            "\u001b[0;32m/content/drive/MyDrive/Colab Notebooks/Webinar_6/src/recommenders.py\u001b[0m in \u001b[0;36mget_own_recommendations\u001b[0;34m(self, user, N)\u001b[0m\n\u001b[1;32m    162\u001b[0m \u001b[0;34m\u001b[0m\u001b[0m\n\u001b[1;32m    163\u001b[0m         \u001b[0mself\u001b[0m\u001b[0;34m.\u001b[0m\u001b[0m_update_dict\u001b[0m\u001b[0;34m(\u001b[0m\u001b[0muser_id\u001b[0m\u001b[0;34m=\u001b[0m\u001b[0muser\u001b[0m\u001b[0;34m)\u001b[0m\u001b[0;34m\u001b[0m\u001b[0;34m\u001b[0m\u001b[0m\n\u001b[0;32m--> 164\u001b[0;31m         \u001b[0;32mreturn\u001b[0m \u001b[0mself\u001b[0m\u001b[0;34m.\u001b[0m\u001b[0m_get_recommendations\u001b[0m\u001b[0;34m(\u001b[0m\u001b[0muser\u001b[0m\u001b[0;34m,\u001b[0m \u001b[0mmodel\u001b[0m\u001b[0;34m=\u001b[0m\u001b[0mself\u001b[0m\u001b[0;34m.\u001b[0m\u001b[0mown_recommender\u001b[0m\u001b[0;34m,\u001b[0m \u001b[0mN\u001b[0m\u001b[0;34m=\u001b[0m\u001b[0mN\u001b[0m\u001b[0;34m)\u001b[0m\u001b[0;34m\u001b[0m\u001b[0;34m\u001b[0m\u001b[0m\n\u001b[0m\u001b[1;32m    165\u001b[0m \u001b[0;34m\u001b[0m\u001b[0m\n\u001b[1;32m    166\u001b[0m     \u001b[0;32mdef\u001b[0m \u001b[0mget_similar_items_recommendation\u001b[0m\u001b[0;34m(\u001b[0m\u001b[0mself\u001b[0m\u001b[0;34m,\u001b[0m \u001b[0muser\u001b[0m\u001b[0;34m,\u001b[0m \u001b[0mN\u001b[0m\u001b[0;34m=\u001b[0m\u001b[0;36m5\u001b[0m\u001b[0;34m)\u001b[0m\u001b[0;34m:\u001b[0m\u001b[0;34m\u001b[0m\u001b[0;34m\u001b[0m\u001b[0m\n",
            "\u001b[0;32m/content/drive/MyDrive/Colab Notebooks/Webinar_6/src/recommenders.py\u001b[0m in \u001b[0;36m_get_recommendations\u001b[0;34m(self, user, model, N)\u001b[0m\n\u001b[1;32m    143\u001b[0m                                         \u001b[0mfilter_already_liked_items\u001b[0m\u001b[0;34m=\u001b[0m\u001b[0;32mFalse\u001b[0m\u001b[0;34m,\u001b[0m\u001b[0;34m\u001b[0m\u001b[0;34m\u001b[0m\u001b[0m\n\u001b[1;32m    144\u001b[0m                                         \u001b[0mfilter_items\u001b[0m\u001b[0;34m=\u001b[0m\u001b[0;34m[\u001b[0m\u001b[0mself\u001b[0m\u001b[0;34m.\u001b[0m\u001b[0mitemid_to_id\u001b[0m\u001b[0;34m[\u001b[0m\u001b[0;36m999999\u001b[0m\u001b[0;34m]\u001b[0m\u001b[0;34m]\u001b[0m\u001b[0;34m,\u001b[0m\u001b[0;34m\u001b[0m\u001b[0;34m\u001b[0m\u001b[0m\n\u001b[0;32m--> 145\u001b[0;31m                                         recalculate_user=True)\n\u001b[0m\u001b[1;32m    146\u001b[0m \u001b[0;34m\u001b[0m\u001b[0m\n\u001b[1;32m    147\u001b[0m         \u001b[0mres\u001b[0m \u001b[0;34m=\u001b[0m \u001b[0;34m[\u001b[0m\u001b[0mself\u001b[0m\u001b[0;34m.\u001b[0m\u001b[0mid_to_itemid\u001b[0m\u001b[0;34m[\u001b[0m\u001b[0mrec\u001b[0m\u001b[0;34m[\u001b[0m\u001b[0;36m0\u001b[0m\u001b[0;34m]\u001b[0m\u001b[0;34m]\u001b[0m \u001b[0;32mfor\u001b[0m \u001b[0mrec\u001b[0m \u001b[0;32min\u001b[0m \u001b[0mrecs\u001b[0m\u001b[0;34m]\u001b[0m\u001b[0;34m\u001b[0m\u001b[0;34m\u001b[0m\u001b[0m\n",
            "\u001b[0;32m/usr/local/lib/python3.7/dist-packages/implicit/nearest_neighbours.py\u001b[0m in \u001b[0;36mrecommend\u001b[0;34m(self, userid, user_items, N, filter_already_liked_items, filter_items, recalculate_user)\u001b[0m\n\u001b[1;32m     48\u001b[0m         \u001b[0;34m\"\"\"returns the best N recommendations for a user given its id\"\"\"\u001b[0m\u001b[0;34m\u001b[0m\u001b[0;34m\u001b[0m\u001b[0m\n\u001b[1;32m     49\u001b[0m         \u001b[0;32mif\u001b[0m \u001b[0muserid\u001b[0m \u001b[0;34m>=\u001b[0m \u001b[0muser_items\u001b[0m\u001b[0;34m.\u001b[0m\u001b[0mshape\u001b[0m\u001b[0;34m[\u001b[0m\u001b[0;36m0\u001b[0m\u001b[0;34m]\u001b[0m\u001b[0;34m:\u001b[0m\u001b[0;34m\u001b[0m\u001b[0;34m\u001b[0m\u001b[0m\n\u001b[0;32m---> 50\u001b[0;31m             \u001b[0;32mraise\u001b[0m \u001b[0mValueError\u001b[0m\u001b[0;34m(\u001b[0m\u001b[0;34m\"userid is out of bounds of the user_items matrix\"\u001b[0m\u001b[0;34m)\u001b[0m\u001b[0;34m\u001b[0m\u001b[0;34m\u001b[0m\u001b[0m\n\u001b[0m\u001b[1;32m     51\u001b[0m \u001b[0;34m\u001b[0m\u001b[0m\n\u001b[1;32m     52\u001b[0m         \u001b[0;31m# recalculate_user is ignored because this is not a model based algorithm\u001b[0m\u001b[0;34m\u001b[0m\u001b[0;34m\u001b[0m\u001b[0;34m\u001b[0m\u001b[0m\n",
            "\u001b[0;31mValueError\u001b[0m: userid is out of bounds of the user_items matrix"
          ]
        }
      ]
    },
    {
      "cell_type": "code",
      "metadata": {
        "colab": {
          "base_uri": "https://localhost:8080/",
          "height": 130
        },
        "id": "Y8bkJwBh2G_R",
        "outputId": "ada667eb-7c3a-4b92-b385-4d4d9d2be218"
      },
      "source": [
        "result_lvl_1['similar_items'] = result_lvl_1['user_id'].apply(lambda x: recommender.get_similar_items_recommendation(x, N=50)"
      ],
      "execution_count": 21,
      "outputs": [
        {
          "output_type": "error",
          "ename": "SyntaxError",
          "evalue": "ignored",
          "traceback": [
            "\u001b[0;36m  File \u001b[0;32m\"<ipython-input-21-aaa47de3457a>\"\u001b[0;36m, line \u001b[0;32m1\u001b[0m\n\u001b[0;31m    result_lvl_1['similar_items'] = result_lvl_1['user_id'].apply(lambda x: recommender.get_similar_items_recommendation(x, N=50)\u001b[0m\n\u001b[0m                                                                                                                                 ^\u001b[0m\n\u001b[0;31mSyntaxError\u001b[0m\u001b[0;31m:\u001b[0m unexpected EOF while parsing\n"
          ]
        }
      ]
    },
    {
      "cell_type": "code",
      "metadata": {
        "colab": {
          "base_uri": "https://localhost:8080/",
          "height": 130
        },
        "id": "g-BRJFRB2S65",
        "outputId": "291fc93c-7bc1-44fc-99d3-969f53ee5a86"
      },
      "source": [
        "result_lvl_1['similar_users'] = result_lvl_1['user_id'].apply(lambda x: recommender.get_similar_users_recommendation(x, N=50)"
      ],
      "execution_count": 22,
      "outputs": [
        {
          "output_type": "error",
          "ename": "SyntaxError",
          "evalue": "ignored",
          "traceback": [
            "\u001b[0;36m  File \u001b[0;32m\"<ipython-input-22-219a0e397df9>\"\u001b[0;36m, line \u001b[0;32m1\u001b[0m\n\u001b[0;31m    result_lvl_1['similar_users'] = result_lvl_1['user_id'].apply(lambda x: recommender.get_similar_users_recommendation(x, N=50)\u001b[0m\n\u001b[0m                                                                                                                                 ^\u001b[0m\n\u001b[0;31mSyntaxError\u001b[0m\u001b[0;31m:\u001b[0m unexpected EOF while parsing\n"
          ]
        }
      ]
    },
    {
      "cell_type": "markdown",
      "metadata": {
        "id": "Lfkm0Oi09SuQ"
      },
      "source": [
        "### Обучаем модель 2-ого уровня на выбранных кандидатах\n",
        "\n",
        "- Обучаем на data_train_lvl_2\n",
        "- Обучаем *только* на выбранных кандидатах\n",
        "- Я *для примера* сгенерирую топ-50 кадидиатов через get_own_recommendations\n",
        "- (!) Если юзер купил < 50 товаров, то get_own_recommendations дополнит рекоммендации топ-популярными"
      ]
    },
    {
      "cell_type": "code",
      "metadata": {
        "id": "Yu9a1GfA9SuQ"
      },
      "source": [
        "# -- давние покупки -- | -- 6 недель -- | -- 3 недель -- "
      ],
      "execution_count": 25,
      "outputs": []
    },
    {
      "cell_type": "code",
      "metadata": {
        "colab": {
          "base_uri": "https://localhost:8080/",
          "height": 111
        },
        "id": "7H9GWmSmYyFN",
        "outputId": "49ef40e0-bb78-4374-b3d2-fb5d107077b1"
      },
      "source": [
        "data_train_lvl_2.head(2)"
      ],
      "execution_count": 182,
      "outputs": [
        {
          "output_type": "execute_result",
          "data": {
            "text/html": [
              "<div>\n",
              "<style scoped>\n",
              "    .dataframe tbody tr th:only-of-type {\n",
              "        vertical-align: middle;\n",
              "    }\n",
              "\n",
              "    .dataframe tbody tr th {\n",
              "        vertical-align: top;\n",
              "    }\n",
              "\n",
              "    .dataframe thead th {\n",
              "        text-align: right;\n",
              "    }\n",
              "</style>\n",
              "<table border=\"1\" class=\"dataframe\">\n",
              "  <thead>\n",
              "    <tr style=\"text-align: right;\">\n",
              "      <th></th>\n",
              "      <th>user_id</th>\n",
              "      <th>basket_id</th>\n",
              "      <th>day</th>\n",
              "      <th>item_id</th>\n",
              "      <th>quantity</th>\n",
              "      <th>sales_value</th>\n",
              "      <th>store_id</th>\n",
              "      <th>retail_disc</th>\n",
              "      <th>trans_time</th>\n",
              "      <th>week_no</th>\n",
              "      <th>coupon_disc</th>\n",
              "      <th>coupon_match_disc</th>\n",
              "    </tr>\n",
              "  </thead>\n",
              "  <tbody>\n",
              "    <tr>\n",
              "      <th>2104867</th>\n",
              "      <td>2070</td>\n",
              "      <td>40618492260</td>\n",
              "      <td>594</td>\n",
              "      <td>1019940</td>\n",
              "      <td>1</td>\n",
              "      <td>1.00</td>\n",
              "      <td>311</td>\n",
              "      <td>-0.29</td>\n",
              "      <td>40</td>\n",
              "      <td>86</td>\n",
              "      <td>0.0</td>\n",
              "      <td>0.0</td>\n",
              "    </tr>\n",
              "    <tr>\n",
              "      <th>2107468</th>\n",
              "      <td>2021</td>\n",
              "      <td>40618753059</td>\n",
              "      <td>594</td>\n",
              "      <td>840361</td>\n",
              "      <td>1</td>\n",
              "      <td>0.99</td>\n",
              "      <td>443</td>\n",
              "      <td>0.00</td>\n",
              "      <td>101</td>\n",
              "      <td>86</td>\n",
              "      <td>0.0</td>\n",
              "      <td>0.0</td>\n",
              "    </tr>\n",
              "  </tbody>\n",
              "</table>\n",
              "</div>"
            ],
            "text/plain": [
              "         user_id    basket_id  day  ...  week_no  coupon_disc  coupon_match_disc\n",
              "2104867     2070  40618492260  594  ...       86          0.0                0.0\n",
              "2107468     2021  40618753059  594  ...       86          0.0                0.0\n",
              "\n",
              "[2 rows x 12 columns]"
            ]
          },
          "metadata": {},
          "execution_count": 182
        }
      ]
    },
    {
      "cell_type": "code",
      "metadata": {
        "id": "ZwjRceyO9SuR"
      },
      "source": [
        "users_lvl_2 = pd.DataFrame(data_train_lvl_2['user_id'].unique())\n",
        "users_lvl_2.columns = ['user_id']\n",
        "\n",
        "# Пока только warm start\n",
        "train_users = data_train_lvl_1['user_id'].unique()\n",
        "users_lvl_2 = users_lvl_2[users_lvl_2['user_id'].isin(train_users)]\n",
        "\n",
        "users_lvl_2['candidates'] = users_lvl_2['user_id'].apply(lambda x: recommender.get_own_recommendations(x, N=50))"
      ],
      "execution_count": 183,
      "outputs": []
    },
    {
      "cell_type": "code",
      "metadata": {
        "colab": {
          "base_uri": "https://localhost:8080/",
          "height": 111
        },
        "id": "3hcOYTXs9SuR",
        "outputId": "97aca161-6486-4eb7-cdff-69defcbf410d"
      },
      "source": [
        "users_lvl_2.head(2)"
      ],
      "execution_count": 184,
      "outputs": [
        {
          "output_type": "execute_result",
          "data": {
            "text/html": [
              "<div>\n",
              "<style scoped>\n",
              "    .dataframe tbody tr th:only-of-type {\n",
              "        vertical-align: middle;\n",
              "    }\n",
              "\n",
              "    .dataframe tbody tr th {\n",
              "        vertical-align: top;\n",
              "    }\n",
              "\n",
              "    .dataframe thead th {\n",
              "        text-align: right;\n",
              "    }\n",
              "</style>\n",
              "<table border=\"1\" class=\"dataframe\">\n",
              "  <thead>\n",
              "    <tr style=\"text-align: right;\">\n",
              "      <th></th>\n",
              "      <th>user_id</th>\n",
              "      <th>candidates</th>\n",
              "    </tr>\n",
              "  </thead>\n",
              "  <tbody>\n",
              "    <tr>\n",
              "      <th>0</th>\n",
              "      <td>2070</td>\n",
              "      <td>[1105426, 1097350, 879194, 948640, 928263, 944...</td>\n",
              "    </tr>\n",
              "    <tr>\n",
              "      <th>1</th>\n",
              "      <td>2021</td>\n",
              "      <td>[950935, 1119454, 835578, 863762, 1019142, 102...</td>\n",
              "    </tr>\n",
              "  </tbody>\n",
              "</table>\n",
              "</div>"
            ],
            "text/plain": [
              "   user_id                                         candidates\n",
              "0     2070  [1105426, 1097350, 879194, 948640, 928263, 944...\n",
              "1     2021  [950935, 1119454, 835578, 863762, 1019142, 102..."
            ]
          },
          "metadata": {},
          "execution_count": 184
        }
      ]
    },
    {
      "cell_type": "code",
      "metadata": {
        "id": "iyGw5FaLvtlX"
      },
      "source": [
        ""
      ],
      "execution_count": null,
      "outputs": []
    },
    {
      "cell_type": "code",
      "metadata": {
        "colab": {
          "base_uri": "https://localhost:8080/",
          "height": 204
        },
        "id": "R4vsbkZNuhgo",
        "outputId": "db5d061f-5523-46a9-a418-c96a2a0f1d17"
      },
      "source": [
        "users_lvl_2.head()"
      ],
      "execution_count": 185,
      "outputs": [
        {
          "output_type": "execute_result",
          "data": {
            "text/html": [
              "<div>\n",
              "<style scoped>\n",
              "    .dataframe tbody tr th:only-of-type {\n",
              "        vertical-align: middle;\n",
              "    }\n",
              "\n",
              "    .dataframe tbody tr th {\n",
              "        vertical-align: top;\n",
              "    }\n",
              "\n",
              "    .dataframe thead th {\n",
              "        text-align: right;\n",
              "    }\n",
              "</style>\n",
              "<table border=\"1\" class=\"dataframe\">\n",
              "  <thead>\n",
              "    <tr style=\"text-align: right;\">\n",
              "      <th></th>\n",
              "      <th>user_id</th>\n",
              "      <th>candidates</th>\n",
              "    </tr>\n",
              "  </thead>\n",
              "  <tbody>\n",
              "    <tr>\n",
              "      <th>0</th>\n",
              "      <td>2070</td>\n",
              "      <td>[1105426, 1097350, 879194, 948640, 928263, 944...</td>\n",
              "    </tr>\n",
              "    <tr>\n",
              "      <th>1</th>\n",
              "      <td>2021</td>\n",
              "      <td>[950935, 1119454, 835578, 863762, 1019142, 102...</td>\n",
              "    </tr>\n",
              "    <tr>\n",
              "      <th>2</th>\n",
              "      <td>1753</td>\n",
              "      <td>[967041, 963686, 948640, 1057168, 942475, 9421...</td>\n",
              "    </tr>\n",
              "    <tr>\n",
              "      <th>3</th>\n",
              "      <td>2120</td>\n",
              "      <td>[5707857, 1029743, 1106523, 5569230, 916122, 8...</td>\n",
              "    </tr>\n",
              "    <tr>\n",
              "      <th>4</th>\n",
              "      <td>1346</td>\n",
              "      <td>[1135983, 5569309, 1129982, 5574377, 5569993, ...</td>\n",
              "    </tr>\n",
              "  </tbody>\n",
              "</table>\n",
              "</div>"
            ],
            "text/plain": [
              "   user_id                                         candidates\n",
              "0     2070  [1105426, 1097350, 879194, 948640, 928263, 944...\n",
              "1     2021  [950935, 1119454, 835578, 863762, 1019142, 102...\n",
              "2     1753  [967041, 963686, 948640, 1057168, 942475, 9421...\n",
              "3     2120  [5707857, 1029743, 1106523, 5569230, 916122, 8...\n",
              "4     1346  [1135983, 5569309, 1129982, 5574377, 5569993, ..."
            ]
          },
          "metadata": {},
          "execution_count": 185
        }
      ]
    },
    {
      "cell_type": "code",
      "metadata": {
        "colab": {
          "base_uri": "https://localhost:8080/",
          "height": 173
        },
        "id": "0eGYnHY39SuS",
        "outputId": "b940334c-82af-4434-a779-32ddcbd54944"
      },
      "source": [
        "s = users_lvl_2.apply(lambda x: pd.Series(x['candidates']), axis=1).stack().reset_index(level=1, drop=True)\n",
        "s.name = 'item_id'\n",
        "\n",
        "users_lvl_2 = users_lvl_2.drop('candidates', axis=1).join(s)\n",
        "users_lvl_2['flag'] = 1\n",
        "\n",
        "users_lvl_2.head(4)"
      ],
      "execution_count": 186,
      "outputs": [
        {
          "output_type": "execute_result",
          "data": {
            "text/html": [
              "<div>\n",
              "<style scoped>\n",
              "    .dataframe tbody tr th:only-of-type {\n",
              "        vertical-align: middle;\n",
              "    }\n",
              "\n",
              "    .dataframe tbody tr th {\n",
              "        vertical-align: top;\n",
              "    }\n",
              "\n",
              "    .dataframe thead th {\n",
              "        text-align: right;\n",
              "    }\n",
              "</style>\n",
              "<table border=\"1\" class=\"dataframe\">\n",
              "  <thead>\n",
              "    <tr style=\"text-align: right;\">\n",
              "      <th></th>\n",
              "      <th>user_id</th>\n",
              "      <th>item_id</th>\n",
              "      <th>flag</th>\n",
              "    </tr>\n",
              "  </thead>\n",
              "  <tbody>\n",
              "    <tr>\n",
              "      <th>0</th>\n",
              "      <td>2070</td>\n",
              "      <td>1105426</td>\n",
              "      <td>1</td>\n",
              "    </tr>\n",
              "    <tr>\n",
              "      <th>0</th>\n",
              "      <td>2070</td>\n",
              "      <td>1097350</td>\n",
              "      <td>1</td>\n",
              "    </tr>\n",
              "    <tr>\n",
              "      <th>0</th>\n",
              "      <td>2070</td>\n",
              "      <td>879194</td>\n",
              "      <td>1</td>\n",
              "    </tr>\n",
              "    <tr>\n",
              "      <th>0</th>\n",
              "      <td>2070</td>\n",
              "      <td>948640</td>\n",
              "      <td>1</td>\n",
              "    </tr>\n",
              "  </tbody>\n",
              "</table>\n",
              "</div>"
            ],
            "text/plain": [
              "   user_id  item_id  flag\n",
              "0     2070  1105426     1\n",
              "0     2070  1097350     1\n",
              "0     2070   879194     1\n",
              "0     2070   948640     1"
            ]
          },
          "metadata": {},
          "execution_count": 186
        }
      ]
    },
    {
      "cell_type": "code",
      "metadata": {
        "colab": {
          "base_uri": "https://localhost:8080/"
        },
        "id": "xgWty9Qz9SuS",
        "outputId": "8d2978de-a8d4-4ac8-eb6b-6ad2931e35c5"
      },
      "source": [
        "users_lvl_2.shape[0]"
      ],
      "execution_count": 187,
      "outputs": [
        {
          "output_type": "execute_result",
          "data": {
            "text/plain": [
              "107550"
            ]
          },
          "metadata": {},
          "execution_count": 187
        }
      ]
    },
    {
      "cell_type": "code",
      "metadata": {
        "colab": {
          "base_uri": "https://localhost:8080/"
        },
        "id": "KljPfGAn9SuS",
        "outputId": "6b308b38-c1cb-40f4-d3c1-5fdd15b33e97"
      },
      "source": [
        "users_lvl_2['user_id'].nunique()"
      ],
      "execution_count": 188,
      "outputs": [
        {
          "output_type": "execute_result",
          "data": {
            "text/plain": [
              "2151"
            ]
          },
          "metadata": {},
          "execution_count": 188
        }
      ]
    },
    {
      "cell_type": "code",
      "metadata": {
        "id": "mWDP-qwp9SuT"
      },
      "source": [
        "targets_lvl_2 = data_train_lvl_2[['user_id', 'item_id']].copy()\n",
        "targets_lvl_2['target'] = 1  # тут только покупки \n",
        "\n",
        "targets_lvl_2 = users_lvl_2.merge(targets_lvl_2, on=['user_id', 'item_id'], how='left')\n",
        "\n",
        "targets_lvl_2['target'].fillna(0, inplace= True)\n",
        "targets_lvl_2.drop('flag', axis=1, inplace=True)"
      ],
      "execution_count": 189,
      "outputs": []
    },
    {
      "cell_type": "code",
      "metadata": {
        "colab": {
          "base_uri": "https://localhost:8080/",
          "height": 111
        },
        "id": "1NgEN4Tj9SuT",
        "outputId": "a660d3ad-2261-438b-a30c-6422ce2f2390"
      },
      "source": [
        "targets_lvl_2.head(2)"
      ],
      "execution_count": 190,
      "outputs": [
        {
          "output_type": "execute_result",
          "data": {
            "text/html": [
              "<div>\n",
              "<style scoped>\n",
              "    .dataframe tbody tr th:only-of-type {\n",
              "        vertical-align: middle;\n",
              "    }\n",
              "\n",
              "    .dataframe tbody tr th {\n",
              "        vertical-align: top;\n",
              "    }\n",
              "\n",
              "    .dataframe thead th {\n",
              "        text-align: right;\n",
              "    }\n",
              "</style>\n",
              "<table border=\"1\" class=\"dataframe\">\n",
              "  <thead>\n",
              "    <tr style=\"text-align: right;\">\n",
              "      <th></th>\n",
              "      <th>user_id</th>\n",
              "      <th>item_id</th>\n",
              "      <th>target</th>\n",
              "    </tr>\n",
              "  </thead>\n",
              "  <tbody>\n",
              "    <tr>\n",
              "      <th>0</th>\n",
              "      <td>2070</td>\n",
              "      <td>1105426</td>\n",
              "      <td>0.0</td>\n",
              "    </tr>\n",
              "    <tr>\n",
              "      <th>1</th>\n",
              "      <td>2070</td>\n",
              "      <td>1097350</td>\n",
              "      <td>0.0</td>\n",
              "    </tr>\n",
              "  </tbody>\n",
              "</table>\n",
              "</div>"
            ],
            "text/plain": [
              "   user_id  item_id  target\n",
              "0     2070  1105426     0.0\n",
              "1     2070  1097350     0.0"
            ]
          },
          "metadata": {},
          "execution_count": 190
        }
      ]
    },
    {
      "cell_type": "markdown",
      "metadata": {
        "id": "BzAhNvcI9SuU"
      },
      "source": [
        "(!) На каждого юзера 50 item_id-кандидатов"
      ]
    },
    {
      "cell_type": "code",
      "metadata": {
        "colab": {
          "base_uri": "https://localhost:8080/"
        },
        "id": "Pdq0zFi69SuU",
        "outputId": "d403afd3-e66a-4b84-80e8-1fa68328eb0d"
      },
      "source": [
        "targets_lvl_2['target'].mean()"
      ],
      "execution_count": 191,
      "outputs": [
        {
          "output_type": "execute_result",
          "data": {
            "text/plain": [
              "0.10460593102333061"
            ]
          },
          "metadata": {},
          "execution_count": 191
        }
      ]
    },
    {
      "cell_type": "markdown",
      "metadata": {
        "id": "RkTuoyNX9SuU"
      },
      "source": [
        "Слайд из [презентации](https://github.com/aprotopopov/retailhero_recommender/blob/master/slides/retailhero_recommender.pdf) решения 2-ого места X5 Retail Hero"
      ]
    },
    {
      "cell_type": "markdown",
      "metadata": {
        "id": "hX-nPzvH9SuV"
      },
      "source": [
        "- Пока для простоты обучения выберем LightGBM c loss = binary. Это классическая бинарная классификация\n",
        "- Это пример *без* генерации фич"
      ]
    },
    {
      "cell_type": "code",
      "metadata": {
        "colab": {
          "base_uri": "https://localhost:8080/",
          "height": 111
        },
        "id": "-EXTjtuL9SuV",
        "outputId": "b09173a4-adb0-4fc5-a45b-977054a68164"
      },
      "source": [
        "item_features.head(2)"
      ],
      "execution_count": 192,
      "outputs": [
        {
          "output_type": "execute_result",
          "data": {
            "text/html": [
              "<div>\n",
              "<style scoped>\n",
              "    .dataframe tbody tr th:only-of-type {\n",
              "        vertical-align: middle;\n",
              "    }\n",
              "\n",
              "    .dataframe tbody tr th {\n",
              "        vertical-align: top;\n",
              "    }\n",
              "\n",
              "    .dataframe thead th {\n",
              "        text-align: right;\n",
              "    }\n",
              "</style>\n",
              "<table border=\"1\" class=\"dataframe\">\n",
              "  <thead>\n",
              "    <tr style=\"text-align: right;\">\n",
              "      <th></th>\n",
              "      <th>item_id</th>\n",
              "      <th>manufacturer</th>\n",
              "      <th>department</th>\n",
              "      <th>brand</th>\n",
              "      <th>commodity_desc</th>\n",
              "      <th>sub_commodity_desc</th>\n",
              "      <th>curr_size_of_product</th>\n",
              "    </tr>\n",
              "  </thead>\n",
              "  <tbody>\n",
              "    <tr>\n",
              "      <th>0</th>\n",
              "      <td>25671</td>\n",
              "      <td>2</td>\n",
              "      <td>GROCERY</td>\n",
              "      <td>National</td>\n",
              "      <td>FRZN ICE</td>\n",
              "      <td>ICE - CRUSHED/CUBED</td>\n",
              "      <td>22 LB</td>\n",
              "    </tr>\n",
              "    <tr>\n",
              "      <th>1</th>\n",
              "      <td>26081</td>\n",
              "      <td>2</td>\n",
              "      <td>MISC. TRANS.</td>\n",
              "      <td>National</td>\n",
              "      <td>NO COMMODITY DESCRIPTION</td>\n",
              "      <td>NO SUBCOMMODITY DESCRIPTION</td>\n",
              "      <td></td>\n",
              "    </tr>\n",
              "  </tbody>\n",
              "</table>\n",
              "</div>"
            ],
            "text/plain": [
              "   item_id  manufacturer  ...           sub_commodity_desc curr_size_of_product\n",
              "0    25671             2  ...          ICE - CRUSHED/CUBED                22 LB\n",
              "1    26081             2  ...  NO SUBCOMMODITY DESCRIPTION                     \n",
              "\n",
              "[2 rows x 7 columns]"
            ]
          },
          "metadata": {},
          "execution_count": 192
        }
      ]
    },
    {
      "cell_type": "code",
      "metadata": {
        "colab": {
          "base_uri": "https://localhost:8080/",
          "height": 111
        },
        "id": "3Y8g6UHQ9SuV",
        "outputId": "192663c0-4625-4467-8cee-f6e0de9fec22"
      },
      "source": [
        "user_features.head(2)"
      ],
      "execution_count": 193,
      "outputs": [
        {
          "output_type": "execute_result",
          "data": {
            "text/html": [
              "<div>\n",
              "<style scoped>\n",
              "    .dataframe tbody tr th:only-of-type {\n",
              "        vertical-align: middle;\n",
              "    }\n",
              "\n",
              "    .dataframe tbody tr th {\n",
              "        vertical-align: top;\n",
              "    }\n",
              "\n",
              "    .dataframe thead th {\n",
              "        text-align: right;\n",
              "    }\n",
              "</style>\n",
              "<table border=\"1\" class=\"dataframe\">\n",
              "  <thead>\n",
              "    <tr style=\"text-align: right;\">\n",
              "      <th></th>\n",
              "      <th>age_desc</th>\n",
              "      <th>marital_status_code</th>\n",
              "      <th>income_desc</th>\n",
              "      <th>homeowner_desc</th>\n",
              "      <th>hh_comp_desc</th>\n",
              "      <th>household_size_desc</th>\n",
              "      <th>kid_category_desc</th>\n",
              "      <th>user_id</th>\n",
              "    </tr>\n",
              "  </thead>\n",
              "  <tbody>\n",
              "    <tr>\n",
              "      <th>0</th>\n",
              "      <td>65+</td>\n",
              "      <td>A</td>\n",
              "      <td>35-49K</td>\n",
              "      <td>Homeowner</td>\n",
              "      <td>2 Adults No Kids</td>\n",
              "      <td>2</td>\n",
              "      <td>None/Unknown</td>\n",
              "      <td>1</td>\n",
              "    </tr>\n",
              "    <tr>\n",
              "      <th>1</th>\n",
              "      <td>45-54</td>\n",
              "      <td>A</td>\n",
              "      <td>50-74K</td>\n",
              "      <td>Homeowner</td>\n",
              "      <td>2 Adults No Kids</td>\n",
              "      <td>2</td>\n",
              "      <td>None/Unknown</td>\n",
              "      <td>7</td>\n",
              "    </tr>\n",
              "  </tbody>\n",
              "</table>\n",
              "</div>"
            ],
            "text/plain": [
              "  age_desc marital_status_code  ... kid_category_desc user_id\n",
              "0      65+                   A  ...      None/Unknown       1\n",
              "1    45-54                   A  ...      None/Unknown       7\n",
              "\n",
              "[2 rows x 8 columns]"
            ]
          },
          "metadata": {},
          "execution_count": 193
        }
      ]
    },
    {
      "cell_type": "code",
      "metadata": {
        "colab": {
          "base_uri": "https://localhost:8080/",
          "height": 148
        },
        "id": "tPvNwyi_9SuW",
        "outputId": "cb7db4b6-b79c-41f5-c97f-360576c33720"
      },
      "source": [
        "targets_lvl_2 = targets_lvl_2.merge(item_features, on='item_id', how='left')\n",
        "targets_lvl_2 = targets_lvl_2.merge(user_features, on='user_id', how='left')\n",
        "\n",
        "targets_lvl_2.head(2)"
      ],
      "execution_count": 194,
      "outputs": [
        {
          "output_type": "execute_result",
          "data": {
            "text/html": [
              "<div>\n",
              "<style scoped>\n",
              "    .dataframe tbody tr th:only-of-type {\n",
              "        vertical-align: middle;\n",
              "    }\n",
              "\n",
              "    .dataframe tbody tr th {\n",
              "        vertical-align: top;\n",
              "    }\n",
              "\n",
              "    .dataframe thead th {\n",
              "        text-align: right;\n",
              "    }\n",
              "</style>\n",
              "<table border=\"1\" class=\"dataframe\">\n",
              "  <thead>\n",
              "    <tr style=\"text-align: right;\">\n",
              "      <th></th>\n",
              "      <th>user_id</th>\n",
              "      <th>item_id</th>\n",
              "      <th>target</th>\n",
              "      <th>manufacturer</th>\n",
              "      <th>department</th>\n",
              "      <th>brand</th>\n",
              "      <th>commodity_desc</th>\n",
              "      <th>sub_commodity_desc</th>\n",
              "      <th>curr_size_of_product</th>\n",
              "      <th>age_desc</th>\n",
              "      <th>marital_status_code</th>\n",
              "      <th>income_desc</th>\n",
              "      <th>homeowner_desc</th>\n",
              "      <th>hh_comp_desc</th>\n",
              "      <th>household_size_desc</th>\n",
              "      <th>kid_category_desc</th>\n",
              "    </tr>\n",
              "  </thead>\n",
              "  <tbody>\n",
              "    <tr>\n",
              "      <th>0</th>\n",
              "      <td>2070</td>\n",
              "      <td>1105426</td>\n",
              "      <td>0.0</td>\n",
              "      <td>69</td>\n",
              "      <td>DELI</td>\n",
              "      <td>Private</td>\n",
              "      <td>SANDWICHES</td>\n",
              "      <td>SANDWICHES - (COLD)</td>\n",
              "      <td></td>\n",
              "      <td>45-54</td>\n",
              "      <td>U</td>\n",
              "      <td>50-74K</td>\n",
              "      <td>Unknown</td>\n",
              "      <td>Unknown</td>\n",
              "      <td>1</td>\n",
              "      <td>None/Unknown</td>\n",
              "    </tr>\n",
              "    <tr>\n",
              "      <th>1</th>\n",
              "      <td>2070</td>\n",
              "      <td>1097350</td>\n",
              "      <td>0.0</td>\n",
              "      <td>2468</td>\n",
              "      <td>GROCERY</td>\n",
              "      <td>National</td>\n",
              "      <td>DOMESTIC WINE</td>\n",
              "      <td>VALUE GLASS WINE</td>\n",
              "      <td>4 LTR</td>\n",
              "      <td>45-54</td>\n",
              "      <td>U</td>\n",
              "      <td>50-74K</td>\n",
              "      <td>Unknown</td>\n",
              "      <td>Unknown</td>\n",
              "      <td>1</td>\n",
              "      <td>None/Unknown</td>\n",
              "    </tr>\n",
              "  </tbody>\n",
              "</table>\n",
              "</div>"
            ],
            "text/plain": [
              "   user_id  item_id  target  ...  hh_comp_desc household_size_desc kid_category_desc\n",
              "0     2070  1105426     0.0  ...       Unknown                   1      None/Unknown\n",
              "1     2070  1097350     0.0  ...       Unknown                   1      None/Unknown\n",
              "\n",
              "[2 rows x 16 columns]"
            ]
          },
          "metadata": {},
          "execution_count": 194
        }
      ]
    },
    {
      "cell_type": "markdown",
      "metadata": {
        "id": "5llorwAQpTPc"
      },
      "source": [
        "### Задание 2.\n",
        "\n",
        "Обучите модель 2-ого уровня, при этом:\n",
        "    - Добавьте минимум по 2 фичи для юзера, товара и пары юзер-товар\n",
        "    - Измерьте отдельно precision@5 модели 1-ого уровня и двухуровневой модели на data_val_lvl_2\n",
        "    - Вырос ли precision@5 при использовании двухуровневой модели?"
      ]
    },
    {
      "cell_type": "code",
      "metadata": {
        "colab": {
          "base_uri": "https://localhost:8080/",
          "height": 111
        },
        "id": "nR2gUMfgq4-c",
        "outputId": "779432eb-46ee-451c-856e-bc335d1dd54c"
      },
      "source": [
        "users_lvl_2.head(2)"
      ],
      "execution_count": 195,
      "outputs": [
        {
          "output_type": "execute_result",
          "data": {
            "text/html": [
              "<div>\n",
              "<style scoped>\n",
              "    .dataframe tbody tr th:only-of-type {\n",
              "        vertical-align: middle;\n",
              "    }\n",
              "\n",
              "    .dataframe tbody tr th {\n",
              "        vertical-align: top;\n",
              "    }\n",
              "\n",
              "    .dataframe thead th {\n",
              "        text-align: right;\n",
              "    }\n",
              "</style>\n",
              "<table border=\"1\" class=\"dataframe\">\n",
              "  <thead>\n",
              "    <tr style=\"text-align: right;\">\n",
              "      <th></th>\n",
              "      <th>user_id</th>\n",
              "      <th>item_id</th>\n",
              "      <th>flag</th>\n",
              "    </tr>\n",
              "  </thead>\n",
              "  <tbody>\n",
              "    <tr>\n",
              "      <th>0</th>\n",
              "      <td>2070</td>\n",
              "      <td>1105426</td>\n",
              "      <td>1</td>\n",
              "    </tr>\n",
              "    <tr>\n",
              "      <th>0</th>\n",
              "      <td>2070</td>\n",
              "      <td>1097350</td>\n",
              "      <td>1</td>\n",
              "    </tr>\n",
              "  </tbody>\n",
              "</table>\n",
              "</div>"
            ],
            "text/plain": [
              "   user_id  item_id  flag\n",
              "0     2070  1105426     1\n",
              "0     2070  1097350     1"
            ]
          },
          "metadata": {},
          "execution_count": 195
        }
      ]
    },
    {
      "cell_type": "code",
      "metadata": {
        "id": "deJoVCcEqGO1"
      },
      "source": [
        "result_lvl_2 = result_lvl_2.merge(users_lvl_2, how='left', on='user_id')"
      ],
      "execution_count": 196,
      "outputs": []
    },
    {
      "cell_type": "code",
      "metadata": {
        "colab": {
          "base_uri": "https://localhost:8080/",
          "height": 111
        },
        "id": "FeBDX6ITqvOO",
        "outputId": "a59eae60-b2d6-4027-d2af-bbc9f7f0f6c4"
      },
      "source": [
        "result_lvl_2.head(2)"
      ],
      "execution_count": 197,
      "outputs": [
        {
          "output_type": "execute_result",
          "data": {
            "text/html": [
              "<div>\n",
              "<style scoped>\n",
              "    .dataframe tbody tr th:only-of-type {\n",
              "        vertical-align: middle;\n",
              "    }\n",
              "\n",
              "    .dataframe tbody tr th {\n",
              "        vertical-align: top;\n",
              "    }\n",
              "\n",
              "    .dataframe thead th {\n",
              "        text-align: right;\n",
              "    }\n",
              "</style>\n",
              "<table border=\"1\" class=\"dataframe\">\n",
              "  <thead>\n",
              "    <tr style=\"text-align: right;\">\n",
              "      <th></th>\n",
              "      <th>user_id</th>\n",
              "      <th>item_id_x</th>\n",
              "      <th>flag_x</th>\n",
              "      <th>actual</th>\n",
              "      <th>item_id_y</th>\n",
              "      <th>flag_y</th>\n",
              "    </tr>\n",
              "  </thead>\n",
              "  <tbody>\n",
              "    <tr>\n",
              "      <th>0</th>\n",
              "      <td>2070</td>\n",
              "      <td>1105426</td>\n",
              "      <td>1</td>\n",
              "      <td>[834103, 982386, 1039840, 878302, 1080414, 825...</td>\n",
              "      <td>1105426</td>\n",
              "      <td>1</td>\n",
              "    </tr>\n",
              "    <tr>\n",
              "      <th>1</th>\n",
              "      <td>2070</td>\n",
              "      <td>1105426</td>\n",
              "      <td>1</td>\n",
              "      <td>[834103, 982386, 1039840, 878302, 1080414, 825...</td>\n",
              "      <td>1097350</td>\n",
              "      <td>1</td>\n",
              "    </tr>\n",
              "  </tbody>\n",
              "</table>\n",
              "</div>"
            ],
            "text/plain": [
              "   user_id  item_id_x  ...  item_id_y flag_y\n",
              "0     2070    1105426  ...    1105426      1\n",
              "1     2070    1105426  ...    1097350      1\n",
              "\n",
              "[2 rows x 6 columns]"
            ]
          },
          "metadata": {},
          "execution_count": 197
        }
      ]
    },
    {
      "cell_type": "code",
      "metadata": {
        "id": "yquJaLARUvkB"
      },
      "source": [
        "average_receipt = data_train_lvl_2.groupby('user_id')['basket_id'].mean().reset_index() # средний чек\n",
        "average_receipt.rename(columns={'basket_id': 'average_receipt'}, inplace=True)\n",
        "targets_lvl_2 = targets_lvl_2.merge(average_receipt, how='left', on='user_id')"
      ],
      "execution_count": 198,
      "outputs": []
    },
    {
      "cell_type": "code",
      "metadata": {
        "id": "I6gFFTNxfjhv"
      },
      "source": [
        "purchase_per_category = targets_lvl_2.groupby('user_id')['commodity_desc'].count().reset_index() # кол-во покупок в каждой категории\n",
        "purchase_per_category.rename(columns={'commodity_desc': 'purchase_per_category'}, inplace=True)\n",
        "targets_lvl_2 = targets_lvl_2.merge(purchase_per_category, how='left', on='user_id')"
      ],
      "execution_count": 199,
      "outputs": []
    },
    {
      "cell_type": "code",
      "metadata": {
        "id": "Tq18q6w4ifZj"
      },
      "source": [
        "average_price = data_train_lvl_2.groupby('item_id')['sales_value'].mean().reset_index() # цена\n",
        "average_price.rename(columns={'sales_value': 'average_price'}, inplace=True)\n",
        "targets_lvl_2 = targets_lvl_2.merge(average_price, how='left', on='item_id')"
      ],
      "execution_count": 200,
      "outputs": []
    },
    {
      "cell_type": "code",
      "metadata": {
        "id": "599EVUpakbMP"
      },
      "source": [
        "purchases_per_week = data_train_lvl_2.groupby('item_id')['week_no'].sum().reset_index() # Кол-во покупок в неделю\n",
        "purchases_per_week.rename(columns={'week_no': 'purchases_per_week '}, inplace=True)\n",
        "targets_lvl_2 = targets_lvl_2.merge(purchases_per_week, how='left', on='item_id')"
      ],
      "execution_count": 201,
      "outputs": []
    },
    {
      "cell_type": "code",
      "metadata": {
        "colab": {
          "base_uri": "https://localhost:8080/",
          "height": 148
        },
        "id": "ET7kBJnReR_x",
        "outputId": "d7945dc2-0571-4f68-e73c-26b6e354476b"
      },
      "source": [
        "targets_lvl_2.head(2)"
      ],
      "execution_count": 202,
      "outputs": [
        {
          "output_type": "execute_result",
          "data": {
            "text/html": [
              "<div>\n",
              "<style scoped>\n",
              "    .dataframe tbody tr th:only-of-type {\n",
              "        vertical-align: middle;\n",
              "    }\n",
              "\n",
              "    .dataframe tbody tr th {\n",
              "        vertical-align: top;\n",
              "    }\n",
              "\n",
              "    .dataframe thead th {\n",
              "        text-align: right;\n",
              "    }\n",
              "</style>\n",
              "<table border=\"1\" class=\"dataframe\">\n",
              "  <thead>\n",
              "    <tr style=\"text-align: right;\">\n",
              "      <th></th>\n",
              "      <th>user_id</th>\n",
              "      <th>item_id</th>\n",
              "      <th>target</th>\n",
              "      <th>manufacturer</th>\n",
              "      <th>department</th>\n",
              "      <th>brand</th>\n",
              "      <th>commodity_desc</th>\n",
              "      <th>sub_commodity_desc</th>\n",
              "      <th>curr_size_of_product</th>\n",
              "      <th>age_desc</th>\n",
              "      <th>marital_status_code</th>\n",
              "      <th>income_desc</th>\n",
              "      <th>homeowner_desc</th>\n",
              "      <th>hh_comp_desc</th>\n",
              "      <th>household_size_desc</th>\n",
              "      <th>kid_category_desc</th>\n",
              "      <th>average_receipt</th>\n",
              "      <th>purchase_per_category</th>\n",
              "      <th>average_price</th>\n",
              "      <th>purchases_per_week</th>\n",
              "    </tr>\n",
              "  </thead>\n",
              "  <tbody>\n",
              "    <tr>\n",
              "      <th>0</th>\n",
              "      <td>2070</td>\n",
              "      <td>1105426</td>\n",
              "      <td>0.0</td>\n",
              "      <td>69</td>\n",
              "      <td>DELI</td>\n",
              "      <td>Private</td>\n",
              "      <td>SANDWICHES</td>\n",
              "      <td>SANDWICHES - (COLD)</td>\n",
              "      <td></td>\n",
              "      <td>45-54</td>\n",
              "      <td>U</td>\n",
              "      <td>50-74K</td>\n",
              "      <td>Unknown</td>\n",
              "      <td>Unknown</td>\n",
              "      <td>1</td>\n",
              "      <td>None/Unknown</td>\n",
              "      <td>4.093964e+10</td>\n",
              "      <td>51</td>\n",
              "      <td>6.65</td>\n",
              "      <td>264.0</td>\n",
              "    </tr>\n",
              "    <tr>\n",
              "      <th>1</th>\n",
              "      <td>2070</td>\n",
              "      <td>1097350</td>\n",
              "      <td>0.0</td>\n",
              "      <td>2468</td>\n",
              "      <td>GROCERY</td>\n",
              "      <td>National</td>\n",
              "      <td>DOMESTIC WINE</td>\n",
              "      <td>VALUE GLASS WINE</td>\n",
              "      <td>4 LTR</td>\n",
              "      <td>45-54</td>\n",
              "      <td>U</td>\n",
              "      <td>50-74K</td>\n",
              "      <td>Unknown</td>\n",
              "      <td>Unknown</td>\n",
              "      <td>1</td>\n",
              "      <td>None/Unknown</td>\n",
              "      <td>4.093964e+10</td>\n",
              "      <td>51</td>\n",
              "      <td>10.99</td>\n",
              "      <td>91.0</td>\n",
              "    </tr>\n",
              "  </tbody>\n",
              "</table>\n",
              "</div>"
            ],
            "text/plain": [
              "   user_id  item_id  ...  average_price  purchases_per_week \n",
              "0     2070  1105426  ...           6.65                264.0\n",
              "1     2070  1097350  ...          10.99                 91.0\n",
              "\n",
              "[2 rows x 20 columns]"
            ]
          },
          "metadata": {},
          "execution_count": 202
        }
      ]
    },
    {
      "cell_type": "markdown",
      "metadata": {
        "id": "_wrnMJoz9SuW"
      },
      "source": [
        "**Фичи user_id:**\n",
        "    - Средний чек\n",
        "    - Средняя сумма покупки 1 товара в каждой категории\n",
        "    - Кол-во покупок в каждой категории\n",
        "    - Частотность покупок раз/месяц\n",
        "    - Долю покупок в выходные\n",
        "    - Долю покупок утром/днем/вечером\n",
        "\n",
        "**Фичи item_id**:\n",
        "    - Кол-во покупок в неделю\n",
        "    - Среднее ол-во покупок 1 товара в категории в неделю\n",
        "    - (Кол-во покупок в неделю) / (Среднее ол-во покупок 1 товара в категории в неделю)\n",
        "    - Цена (Можно посчитать из retil_train.csv)\n",
        "    - Цена / Средняя цена товара в категории\n",
        "    \n",
        "**Фичи пары user_id - item_id**\n",
        "    - (Средняя сумма покупки 1 товара в каждой категории (берем категорию item_id)) - (Цена item_id)\n",
        "    - (Кол-во покупок юзером конкретной категории в неделю) - (Среднее кол-во покупок всеми юзерами конкретной категории в неделю)\n",
        "    - (Кол-во покупок юзером конкретной категории в неделю) / (Среднее кол-во покупок всеми юзерами конкретной категории в неделю)"
      ]
    },
    {
      "cell_type": "code",
      "metadata": {
        "id": "iAiq9PmL9SuW"
      },
      "source": [
        "X_train = targets_lvl_2.drop('target', axis=1)\n",
        "y_train = targets_lvl_2[['target']]"
      ],
      "execution_count": 203,
      "outputs": []
    },
    {
      "cell_type": "code",
      "metadata": {
        "colab": {
          "base_uri": "https://localhost:8080/"
        },
        "id": "TUP2uFwq9SuX",
        "outputId": "30e58e2a-cbfe-4427-bcd8-4d95c1b1898f"
      },
      "source": [
        "cat_feats = X_train.columns[2:].tolist()\n",
        "X_train[cat_feats] = X_train[cat_feats].astype('category')\n",
        "\n",
        "cat_feats"
      ],
      "execution_count": 204,
      "outputs": [
        {
          "output_type": "execute_result",
          "data": {
            "text/plain": [
              "['manufacturer',\n",
              " 'department',\n",
              " 'brand',\n",
              " 'commodity_desc',\n",
              " 'sub_commodity_desc',\n",
              " 'curr_size_of_product',\n",
              " 'age_desc',\n",
              " 'marital_status_code',\n",
              " 'income_desc',\n",
              " 'homeowner_desc',\n",
              " 'hh_comp_desc',\n",
              " 'household_size_desc',\n",
              " 'kid_category_desc',\n",
              " 'average_receipt',\n",
              " 'purchase_per_category',\n",
              " 'average_price',\n",
              " 'purchases_per_week ']"
            ]
          },
          "metadata": {},
          "execution_count": 204
        }
      ]
    },
    {
      "cell_type": "code",
      "metadata": {
        "colab": {
          "base_uri": "https://localhost:8080/"
        },
        "id": "5dKC0skS9SuX",
        "outputId": "47353db6-30e7-41a5-cec2-4ccf4d7633ad"
      },
      "source": [
        "lgb = LGBMClassifier(objective='binary', max_depth=7, categorical_column=cat_feats)\n",
        "lgb.fit(X_train, y_train)\n",
        "\n",
        "train_preds = lgb.predict(X_train)"
      ],
      "execution_count": 205,
      "outputs": [
        {
          "output_type": "stream",
          "name": "stderr",
          "text": [
            "/usr/local/lib/python3.7/dist-packages/sklearn/preprocessing/_label.py:235: DataConversionWarning: A column-vector y was passed when a 1d array was expected. Please change the shape of y to (n_samples, ), for example using ravel().\n",
            "  y = column_or_1d(y, warn=True)\n",
            "/usr/local/lib/python3.7/dist-packages/sklearn/preprocessing/_label.py:268: DataConversionWarning: A column-vector y was passed when a 1d array was expected. Please change the shape of y to (n_samples, ), for example using ravel().\n",
            "  y = column_or_1d(y, warn=True)\n",
            "/usr/local/lib/python3.7/dist-packages/lightgbm/basic.py:762: UserWarning: categorical_feature in param dict is overridden.\n",
            "  warnings.warn('categorical_feature in param dict is overridden.')\n"
          ]
        }
      ]
    },
    {
      "cell_type": "code",
      "metadata": {
        "colab": {
          "base_uri": "https://localhost:8080/",
          "height": 609
        },
        "id": "xcwsHEB7Mhzg",
        "outputId": "40d7f175-978e-4827-ccbf-8a2f6602bb20"
      },
      "source": [
        "X_train"
      ],
      "execution_count": 206,
      "outputs": [
        {
          "output_type": "execute_result",
          "data": {
            "text/html": [
              "<div>\n",
              "<style scoped>\n",
              "    .dataframe tbody tr th:only-of-type {\n",
              "        vertical-align: middle;\n",
              "    }\n",
              "\n",
              "    .dataframe tbody tr th {\n",
              "        vertical-align: top;\n",
              "    }\n",
              "\n",
              "    .dataframe thead th {\n",
              "        text-align: right;\n",
              "    }\n",
              "</style>\n",
              "<table border=\"1\" class=\"dataframe\">\n",
              "  <thead>\n",
              "    <tr style=\"text-align: right;\">\n",
              "      <th></th>\n",
              "      <th>user_id</th>\n",
              "      <th>item_id</th>\n",
              "      <th>manufacturer</th>\n",
              "      <th>department</th>\n",
              "      <th>brand</th>\n",
              "      <th>commodity_desc</th>\n",
              "      <th>sub_commodity_desc</th>\n",
              "      <th>curr_size_of_product</th>\n",
              "      <th>age_desc</th>\n",
              "      <th>marital_status_code</th>\n",
              "      <th>income_desc</th>\n",
              "      <th>homeowner_desc</th>\n",
              "      <th>hh_comp_desc</th>\n",
              "      <th>household_size_desc</th>\n",
              "      <th>kid_category_desc</th>\n",
              "      <th>average_receipt</th>\n",
              "      <th>purchase_per_category</th>\n",
              "      <th>average_price</th>\n",
              "      <th>purchases_per_week</th>\n",
              "    </tr>\n",
              "  </thead>\n",
              "  <tbody>\n",
              "    <tr>\n",
              "      <th>0</th>\n",
              "      <td>2070</td>\n",
              "      <td>1105426</td>\n",
              "      <td>69</td>\n",
              "      <td>DELI</td>\n",
              "      <td>Private</td>\n",
              "      <td>SANDWICHES</td>\n",
              "      <td>SANDWICHES - (COLD)</td>\n",
              "      <td></td>\n",
              "      <td>45-54</td>\n",
              "      <td>U</td>\n",
              "      <td>50-74K</td>\n",
              "      <td>Unknown</td>\n",
              "      <td>Unknown</td>\n",
              "      <td>1</td>\n",
              "      <td>None/Unknown</td>\n",
              "      <td>4.093964e+10</td>\n",
              "      <td>51</td>\n",
              "      <td>6.650000</td>\n",
              "      <td>264.0</td>\n",
              "    </tr>\n",
              "    <tr>\n",
              "      <th>1</th>\n",
              "      <td>2070</td>\n",
              "      <td>1097350</td>\n",
              "      <td>2468</td>\n",
              "      <td>GROCERY</td>\n",
              "      <td>National</td>\n",
              "      <td>DOMESTIC WINE</td>\n",
              "      <td>VALUE GLASS WINE</td>\n",
              "      <td>4 LTR</td>\n",
              "      <td>45-54</td>\n",
              "      <td>U</td>\n",
              "      <td>50-74K</td>\n",
              "      <td>Unknown</td>\n",
              "      <td>Unknown</td>\n",
              "      <td>1</td>\n",
              "      <td>None/Unknown</td>\n",
              "      <td>4.093964e+10</td>\n",
              "      <td>51</td>\n",
              "      <td>10.990000</td>\n",
              "      <td>91.0</td>\n",
              "    </tr>\n",
              "    <tr>\n",
              "      <th>2</th>\n",
              "      <td>2070</td>\n",
              "      <td>879194</td>\n",
              "      <td>69</td>\n",
              "      <td>DRUG GM</td>\n",
              "      <td>Private</td>\n",
              "      <td>DIAPERS &amp; DISPOSABLES</td>\n",
              "      <td>BABY DIAPERS</td>\n",
              "      <td>14 CT</td>\n",
              "      <td>45-54</td>\n",
              "      <td>U</td>\n",
              "      <td>50-74K</td>\n",
              "      <td>Unknown</td>\n",
              "      <td>Unknown</td>\n",
              "      <td>1</td>\n",
              "      <td>None/Unknown</td>\n",
              "      <td>4.093964e+10</td>\n",
              "      <td>51</td>\n",
              "      <td>NaN</td>\n",
              "      <td>NaN</td>\n",
              "    </tr>\n",
              "    <tr>\n",
              "      <th>3</th>\n",
              "      <td>2070</td>\n",
              "      <td>948640</td>\n",
              "      <td>1213</td>\n",
              "      <td>DRUG GM</td>\n",
              "      <td>National</td>\n",
              "      <td>ORAL HYGIENE PRODUCTS</td>\n",
              "      <td>WHITENING SYSTEMS</td>\n",
              "      <td>3 OZ</td>\n",
              "      <td>45-54</td>\n",
              "      <td>U</td>\n",
              "      <td>50-74K</td>\n",
              "      <td>Unknown</td>\n",
              "      <td>Unknown</td>\n",
              "      <td>1</td>\n",
              "      <td>None/Unknown</td>\n",
              "      <td>4.093964e+10</td>\n",
              "      <td>51</td>\n",
              "      <td>NaN</td>\n",
              "      <td>NaN</td>\n",
              "    </tr>\n",
              "    <tr>\n",
              "      <th>4</th>\n",
              "      <td>2070</td>\n",
              "      <td>928263</td>\n",
              "      <td>69</td>\n",
              "      <td>DRUG GM</td>\n",
              "      <td>Private</td>\n",
              "      <td>DIAPERS &amp; DISPOSABLES</td>\n",
              "      <td>BABY DIAPERS</td>\n",
              "      <td>13 CT</td>\n",
              "      <td>45-54</td>\n",
              "      <td>U</td>\n",
              "      <td>50-74K</td>\n",
              "      <td>Unknown</td>\n",
              "      <td>Unknown</td>\n",
              "      <td>1</td>\n",
              "      <td>None/Unknown</td>\n",
              "      <td>4.093964e+10</td>\n",
              "      <td>51</td>\n",
              "      <td>8.789000</td>\n",
              "      <td>883.0</td>\n",
              "    </tr>\n",
              "    <tr>\n",
              "      <th>...</th>\n",
              "      <td>...</td>\n",
              "      <td>...</td>\n",
              "      <td>...</td>\n",
              "      <td>...</td>\n",
              "      <td>...</td>\n",
              "      <td>...</td>\n",
              "      <td>...</td>\n",
              "      <td>...</td>\n",
              "      <td>...</td>\n",
              "      <td>...</td>\n",
              "      <td>...</td>\n",
              "      <td>...</td>\n",
              "      <td>...</td>\n",
              "      <td>...</td>\n",
              "      <td>...</td>\n",
              "      <td>...</td>\n",
              "      <td>...</td>\n",
              "      <td>...</td>\n",
              "      <td>...</td>\n",
              "    </tr>\n",
              "    <tr>\n",
              "      <th>111308</th>\n",
              "      <td>1745</td>\n",
              "      <td>903454</td>\n",
              "      <td>1216</td>\n",
              "      <td>MEAT-PCKGD</td>\n",
              "      <td>National</td>\n",
              "      <td>FROZEN MEAT</td>\n",
              "      <td>OTHER - FULLY COOKED</td>\n",
              "      <td>32 OZ</td>\n",
              "      <td>45-54</td>\n",
              "      <td>A</td>\n",
              "      <td>Under 15K</td>\n",
              "      <td>Unknown</td>\n",
              "      <td>Single Male</td>\n",
              "      <td>2</td>\n",
              "      <td>None/Unknown</td>\n",
              "      <td>4.129746e+10</td>\n",
              "      <td>50</td>\n",
              "      <td>NaN</td>\n",
              "      <td>NaN</td>\n",
              "    </tr>\n",
              "    <tr>\n",
              "      <th>111309</th>\n",
              "      <td>1745</td>\n",
              "      <td>9419888</td>\n",
              "      <td>759</td>\n",
              "      <td>GROCERY</td>\n",
              "      <td>National</td>\n",
              "      <td>YOGURT</td>\n",
              "      <td>YOGURT MULTI-PACKS</td>\n",
              "      <td>48 OZ</td>\n",
              "      <td>45-54</td>\n",
              "      <td>A</td>\n",
              "      <td>Under 15K</td>\n",
              "      <td>Unknown</td>\n",
              "      <td>Single Male</td>\n",
              "      <td>2</td>\n",
              "      <td>None/Unknown</td>\n",
              "      <td>4.129746e+10</td>\n",
              "      <td>50</td>\n",
              "      <td>3.490000</td>\n",
              "      <td>793.0</td>\n",
              "    </tr>\n",
              "    <tr>\n",
              "      <th>111310</th>\n",
              "      <td>1745</td>\n",
              "      <td>1076769</td>\n",
              "      <td>3859</td>\n",
              "      <td>DELI</td>\n",
              "      <td>National</td>\n",
              "      <td>DELI MEATS</td>\n",
              "      <td>MEAT: LUNCHMEAT BULK</td>\n",
              "      <td></td>\n",
              "      <td>45-54</td>\n",
              "      <td>A</td>\n",
              "      <td>Under 15K</td>\n",
              "      <td>Unknown</td>\n",
              "      <td>Single Male</td>\n",
              "      <td>2</td>\n",
              "      <td>None/Unknown</td>\n",
              "      <td>4.129746e+10</td>\n",
              "      <td>50</td>\n",
              "      <td>3.430833</td>\n",
              "      <td>1065.0</td>\n",
              "    </tr>\n",
              "    <tr>\n",
              "      <th>111311</th>\n",
              "      <td>1745</td>\n",
              "      <td>1092588</td>\n",
              "      <td>709</td>\n",
              "      <td>GROCERY</td>\n",
              "      <td>National</td>\n",
              "      <td>FLUID MILK PRODUCTS</td>\n",
              "      <td>MISCELLANEOUS MILK</td>\n",
              "      <td>32 OZ</td>\n",
              "      <td>45-54</td>\n",
              "      <td>A</td>\n",
              "      <td>Under 15K</td>\n",
              "      <td>Unknown</td>\n",
              "      <td>Single Male</td>\n",
              "      <td>2</td>\n",
              "      <td>None/Unknown</td>\n",
              "      <td>4.129746e+10</td>\n",
              "      <td>50</td>\n",
              "      <td>2.455200</td>\n",
              "      <td>2212.0</td>\n",
              "    </tr>\n",
              "    <tr>\n",
              "      <th>111312</th>\n",
              "      <td>1745</td>\n",
              "      <td>1024051</td>\n",
              "      <td>1508</td>\n",
              "      <td>GROCERY</td>\n",
              "      <td>National</td>\n",
              "      <td>FRZN MEAT/MEAT DINNERS</td>\n",
              "      <td>FRZN MULTI SERVE ENTREES ALL</td>\n",
              "      <td>28 OZ</td>\n",
              "      <td>45-54</td>\n",
              "      <td>A</td>\n",
              "      <td>Under 15K</td>\n",
              "      <td>Unknown</td>\n",
              "      <td>Single Male</td>\n",
              "      <td>2</td>\n",
              "      <td>None/Unknown</td>\n",
              "      <td>4.129746e+10</td>\n",
              "      <td>50</td>\n",
              "      <td>2.948966</td>\n",
              "      <td>2566.0</td>\n",
              "    </tr>\n",
              "  </tbody>\n",
              "</table>\n",
              "<p>111313 rows × 19 columns</p>\n",
              "</div>"
            ],
            "text/plain": [
              "        user_id  item_id  ... average_price purchases_per_week \n",
              "0          2070  1105426  ...      6.650000               264.0\n",
              "1          2070  1097350  ...     10.990000                91.0\n",
              "2          2070   879194  ...           NaN                 NaN\n",
              "3          2070   948640  ...           NaN                 NaN\n",
              "4          2070   928263  ...      8.789000               883.0\n",
              "...         ...      ...  ...           ...                 ...\n",
              "111308     1745   903454  ...           NaN                 NaN\n",
              "111309     1745  9419888  ...      3.490000               793.0\n",
              "111310     1745  1076769  ...      3.430833              1065.0\n",
              "111311     1745  1092588  ...      2.455200              2212.0\n",
              "111312     1745  1024051  ...      2.948966              2566.0\n",
              "\n",
              "[111313 rows x 19 columns]"
            ]
          },
          "metadata": {},
          "execution_count": 206
        }
      ]
    },
    {
      "cell_type": "code",
      "metadata": {
        "colab": {
          "base_uri": "https://localhost:8080/"
        },
        "id": "rd3w6CynMeH6",
        "outputId": "fc277389-146f-4911-8fbf-40f3f4e14b4f"
      },
      "source": [
        "train_preds"
      ],
      "execution_count": 207,
      "outputs": [
        {
          "output_type": "execute_result",
          "data": {
            "text/plain": [
              "array([0., 0., 0., ..., 0., 0., 0.])"
            ]
          },
          "metadata": {},
          "execution_count": 207
        }
      ]
    },
    {
      "cell_type": "code",
      "metadata": {
        "id": "w6Jr-KAvzKxG"
      },
      "source": [
        "X_train['preds'] = train_preds"
      ],
      "execution_count": 212,
      "outputs": []
    },
    {
      "cell_type": "code",
      "metadata": {
        "colab": {
          "base_uri": "https://localhost:8080/",
          "height": 292
        },
        "id": "Qk5BExtkzWmC",
        "outputId": "2646ce47-16de-4ca3-f099-41b0fd27c851"
      },
      "source": [
        "X_train.head()"
      ],
      "execution_count": 213,
      "outputs": [
        {
          "output_type": "execute_result",
          "data": {
            "text/html": [
              "<div>\n",
              "<style scoped>\n",
              "    .dataframe tbody tr th:only-of-type {\n",
              "        vertical-align: middle;\n",
              "    }\n",
              "\n",
              "    .dataframe tbody tr th {\n",
              "        vertical-align: top;\n",
              "    }\n",
              "\n",
              "    .dataframe thead th {\n",
              "        text-align: right;\n",
              "    }\n",
              "</style>\n",
              "<table border=\"1\" class=\"dataframe\">\n",
              "  <thead>\n",
              "    <tr style=\"text-align: right;\">\n",
              "      <th></th>\n",
              "      <th>user_id</th>\n",
              "      <th>item_id</th>\n",
              "      <th>manufacturer</th>\n",
              "      <th>department</th>\n",
              "      <th>brand</th>\n",
              "      <th>commodity_desc</th>\n",
              "      <th>sub_commodity_desc</th>\n",
              "      <th>curr_size_of_product</th>\n",
              "      <th>age_desc</th>\n",
              "      <th>marital_status_code</th>\n",
              "      <th>income_desc</th>\n",
              "      <th>homeowner_desc</th>\n",
              "      <th>hh_comp_desc</th>\n",
              "      <th>household_size_desc</th>\n",
              "      <th>kid_category_desc</th>\n",
              "      <th>average_receipt</th>\n",
              "      <th>purchase_per_category</th>\n",
              "      <th>average_price</th>\n",
              "      <th>purchases_per_week</th>\n",
              "      <th>preds</th>\n",
              "    </tr>\n",
              "  </thead>\n",
              "  <tbody>\n",
              "    <tr>\n",
              "      <th>0</th>\n",
              "      <td>2070</td>\n",
              "      <td>1105426</td>\n",
              "      <td>69</td>\n",
              "      <td>DELI</td>\n",
              "      <td>Private</td>\n",
              "      <td>SANDWICHES</td>\n",
              "      <td>SANDWICHES - (COLD)</td>\n",
              "      <td></td>\n",
              "      <td>45-54</td>\n",
              "      <td>U</td>\n",
              "      <td>50-74K</td>\n",
              "      <td>Unknown</td>\n",
              "      <td>Unknown</td>\n",
              "      <td>1</td>\n",
              "      <td>None/Unknown</td>\n",
              "      <td>4.093964e+10</td>\n",
              "      <td>51</td>\n",
              "      <td>6.650</td>\n",
              "      <td>264.0</td>\n",
              "      <td>0.0</td>\n",
              "    </tr>\n",
              "    <tr>\n",
              "      <th>1</th>\n",
              "      <td>2070</td>\n",
              "      <td>1097350</td>\n",
              "      <td>2468</td>\n",
              "      <td>GROCERY</td>\n",
              "      <td>National</td>\n",
              "      <td>DOMESTIC WINE</td>\n",
              "      <td>VALUE GLASS WINE</td>\n",
              "      <td>4 LTR</td>\n",
              "      <td>45-54</td>\n",
              "      <td>U</td>\n",
              "      <td>50-74K</td>\n",
              "      <td>Unknown</td>\n",
              "      <td>Unknown</td>\n",
              "      <td>1</td>\n",
              "      <td>None/Unknown</td>\n",
              "      <td>4.093964e+10</td>\n",
              "      <td>51</td>\n",
              "      <td>10.990</td>\n",
              "      <td>91.0</td>\n",
              "      <td>0.0</td>\n",
              "    </tr>\n",
              "    <tr>\n",
              "      <th>2</th>\n",
              "      <td>2070</td>\n",
              "      <td>879194</td>\n",
              "      <td>69</td>\n",
              "      <td>DRUG GM</td>\n",
              "      <td>Private</td>\n",
              "      <td>DIAPERS &amp; DISPOSABLES</td>\n",
              "      <td>BABY DIAPERS</td>\n",
              "      <td>14 CT</td>\n",
              "      <td>45-54</td>\n",
              "      <td>U</td>\n",
              "      <td>50-74K</td>\n",
              "      <td>Unknown</td>\n",
              "      <td>Unknown</td>\n",
              "      <td>1</td>\n",
              "      <td>None/Unknown</td>\n",
              "      <td>4.093964e+10</td>\n",
              "      <td>51</td>\n",
              "      <td>NaN</td>\n",
              "      <td>NaN</td>\n",
              "      <td>0.0</td>\n",
              "    </tr>\n",
              "    <tr>\n",
              "      <th>3</th>\n",
              "      <td>2070</td>\n",
              "      <td>948640</td>\n",
              "      <td>1213</td>\n",
              "      <td>DRUG GM</td>\n",
              "      <td>National</td>\n",
              "      <td>ORAL HYGIENE PRODUCTS</td>\n",
              "      <td>WHITENING SYSTEMS</td>\n",
              "      <td>3 OZ</td>\n",
              "      <td>45-54</td>\n",
              "      <td>U</td>\n",
              "      <td>50-74K</td>\n",
              "      <td>Unknown</td>\n",
              "      <td>Unknown</td>\n",
              "      <td>1</td>\n",
              "      <td>None/Unknown</td>\n",
              "      <td>4.093964e+10</td>\n",
              "      <td>51</td>\n",
              "      <td>NaN</td>\n",
              "      <td>NaN</td>\n",
              "      <td>0.0</td>\n",
              "    </tr>\n",
              "    <tr>\n",
              "      <th>4</th>\n",
              "      <td>2070</td>\n",
              "      <td>928263</td>\n",
              "      <td>69</td>\n",
              "      <td>DRUG GM</td>\n",
              "      <td>Private</td>\n",
              "      <td>DIAPERS &amp; DISPOSABLES</td>\n",
              "      <td>BABY DIAPERS</td>\n",
              "      <td>13 CT</td>\n",
              "      <td>45-54</td>\n",
              "      <td>U</td>\n",
              "      <td>50-74K</td>\n",
              "      <td>Unknown</td>\n",
              "      <td>Unknown</td>\n",
              "      <td>1</td>\n",
              "      <td>None/Unknown</td>\n",
              "      <td>4.093964e+10</td>\n",
              "      <td>51</td>\n",
              "      <td>8.789</td>\n",
              "      <td>883.0</td>\n",
              "      <td>0.0</td>\n",
              "    </tr>\n",
              "  </tbody>\n",
              "</table>\n",
              "</div>"
            ],
            "text/plain": [
              "   user_id  item_id manufacturer  ... average_price purchases_per_week  preds\n",
              "0     2070  1105426           69  ...         6.650               264.0   0.0\n",
              "1     2070  1097350         2468  ...        10.990                91.0   0.0\n",
              "2     2070   879194           69  ...           NaN                 NaN   0.0\n",
              "3     2070   948640         1213  ...           NaN                 NaN   0.0\n",
              "4     2070   928263           69  ...         8.789               883.0   0.0\n",
              "\n",
              "[5 rows x 20 columns]"
            ]
          },
          "metadata": {},
          "execution_count": 213
        }
      ]
    },
    {
      "cell_type": "code",
      "metadata": {
        "colab": {
          "base_uri": "https://localhost:8080/",
          "height": 558
        },
        "id": "bnCbKP_ezegZ",
        "outputId": "3d78edde-7d9a-4d9e-c158-478c9e2df4f9"
      },
      "source": [
        ""
      ],
      "execution_count": 220,
      "outputs": [
        {
          "output_type": "execute_result",
          "data": {
            "text/html": [
              "<div>\n",
              "<style scoped>\n",
              "    .dataframe tbody tr th:only-of-type {\n",
              "        vertical-align: middle;\n",
              "    }\n",
              "\n",
              "    .dataframe tbody tr th {\n",
              "        vertical-align: top;\n",
              "    }\n",
              "\n",
              "    .dataframe thead th {\n",
              "        text-align: right;\n",
              "    }\n",
              "</style>\n",
              "<table border=\"1\" class=\"dataframe\">\n",
              "  <thead>\n",
              "    <tr style=\"text-align: right;\">\n",
              "      <th></th>\n",
              "      <th>user_id</th>\n",
              "      <th>item_id</th>\n",
              "      <th>manufacturer</th>\n",
              "      <th>department</th>\n",
              "      <th>brand</th>\n",
              "      <th>commodity_desc</th>\n",
              "      <th>sub_commodity_desc</th>\n",
              "      <th>curr_size_of_product</th>\n",
              "      <th>age_desc</th>\n",
              "      <th>marital_status_code</th>\n",
              "      <th>income_desc</th>\n",
              "      <th>homeowner_desc</th>\n",
              "      <th>hh_comp_desc</th>\n",
              "      <th>household_size_desc</th>\n",
              "      <th>kid_category_desc</th>\n",
              "      <th>average_receipt</th>\n",
              "      <th>purchase_per_category</th>\n",
              "      <th>average_price</th>\n",
              "      <th>purchases_per_week</th>\n",
              "      <th>preds</th>\n",
              "    </tr>\n",
              "  </thead>\n",
              "  <tbody>\n",
              "    <tr>\n",
              "      <th>0</th>\n",
              "      <td>2070</td>\n",
              "      <td>1105426</td>\n",
              "      <td>69</td>\n",
              "      <td>DELI</td>\n",
              "      <td>Private</td>\n",
              "      <td>SANDWICHES</td>\n",
              "      <td>SANDWICHES - (COLD)</td>\n",
              "      <td></td>\n",
              "      <td>45-54</td>\n",
              "      <td>U</td>\n",
              "      <td>50-74K</td>\n",
              "      <td>Unknown</td>\n",
              "      <td>Unknown</td>\n",
              "      <td>1</td>\n",
              "      <td>None/Unknown</td>\n",
              "      <td>4.093964e+10</td>\n",
              "      <td>51</td>\n",
              "      <td>6.650000</td>\n",
              "      <td>264.0</td>\n",
              "      <td>0.0</td>\n",
              "    </tr>\n",
              "    <tr>\n",
              "      <th>74374</th>\n",
              "      <td>1639</td>\n",
              "      <td>12731543</td>\n",
              "      <td>4357</td>\n",
              "      <td>MEAT</td>\n",
              "      <td>National</td>\n",
              "      <td>SMOKED MEATS</td>\n",
              "      <td>HAMS-WHOLE BONE-IN</td>\n",
              "      <td></td>\n",
              "      <td>NaN</td>\n",
              "      <td>NaN</td>\n",
              "      <td>NaN</td>\n",
              "      <td>NaN</td>\n",
              "      <td>NaN</td>\n",
              "      <td>NaN</td>\n",
              "      <td>NaN</td>\n",
              "      <td>4.103716e+10</td>\n",
              "      <td>50</td>\n",
              "      <td>28.745000</td>\n",
              "      <td>711.0</td>\n",
              "      <td>0.0</td>\n",
              "    </tr>\n",
              "    <tr>\n",
              "      <th>74373</th>\n",
              "      <td>1639</td>\n",
              "      <td>915545</td>\n",
              "      <td>857</td>\n",
              "      <td>DRUG GM</td>\n",
              "      <td>National</td>\n",
              "      <td>CANDY - PACKAGED</td>\n",
              "      <td>CANDY BAGS-CHOCOCLATE</td>\n",
              "      <td>14 OZ</td>\n",
              "      <td>NaN</td>\n",
              "      <td>NaN</td>\n",
              "      <td>NaN</td>\n",
              "      <td>NaN</td>\n",
              "      <td>NaN</td>\n",
              "      <td>NaN</td>\n",
              "      <td>NaN</td>\n",
              "      <td>4.103716e+10</td>\n",
              "      <td>50</td>\n",
              "      <td>2.873333</td>\n",
              "      <td>268.0</td>\n",
              "      <td>0.0</td>\n",
              "    </tr>\n",
              "    <tr>\n",
              "      <th>74372</th>\n",
              "      <td>1639</td>\n",
              "      <td>1068291</td>\n",
              "      <td>233</td>\n",
              "      <td>GROCERY</td>\n",
              "      <td>National</td>\n",
              "      <td>CAT FOOD</td>\n",
              "      <td>DRY CAT FOOD (CAT CHOW/FRISKIE</td>\n",
              "      <td>3.5 LB</td>\n",
              "      <td>NaN</td>\n",
              "      <td>NaN</td>\n",
              "      <td>NaN</td>\n",
              "      <td>NaN</td>\n",
              "      <td>NaN</td>\n",
              "      <td>NaN</td>\n",
              "      <td>NaN</td>\n",
              "      <td>4.103716e+10</td>\n",
              "      <td>50</td>\n",
              "      <td>4.418571</td>\n",
              "      <td>625.0</td>\n",
              "      <td>0.0</td>\n",
              "    </tr>\n",
              "    <tr>\n",
              "      <th>74371</th>\n",
              "      <td>1639</td>\n",
              "      <td>993379</td>\n",
              "      <td>69</td>\n",
              "      <td>GROCERY</td>\n",
              "      <td>Private</td>\n",
              "      <td>BATH TISSUES</td>\n",
              "      <td>TOILET TISSUE</td>\n",
              "      <td>1500 SQ FT</td>\n",
              "      <td>NaN</td>\n",
              "      <td>NaN</td>\n",
              "      <td>NaN</td>\n",
              "      <td>NaN</td>\n",
              "      <td>NaN</td>\n",
              "      <td>NaN</td>\n",
              "      <td>NaN</td>\n",
              "      <td>4.103716e+10</td>\n",
              "      <td>50</td>\n",
              "      <td>6.490000</td>\n",
              "      <td>878.0</td>\n",
              "      <td>0.0</td>\n",
              "    </tr>\n",
              "    <tr>\n",
              "      <th>...</th>\n",
              "      <td>...</td>\n",
              "      <td>...</td>\n",
              "      <td>...</td>\n",
              "      <td>...</td>\n",
              "      <td>...</td>\n",
              "      <td>...</td>\n",
              "      <td>...</td>\n",
              "      <td>...</td>\n",
              "      <td>...</td>\n",
              "      <td>...</td>\n",
              "      <td>...</td>\n",
              "      <td>...</td>\n",
              "      <td>...</td>\n",
              "      <td>...</td>\n",
              "      <td>...</td>\n",
              "      <td>...</td>\n",
              "      <td>...</td>\n",
              "      <td>...</td>\n",
              "      <td>...</td>\n",
              "      <td>...</td>\n",
              "    </tr>\n",
              "    <tr>\n",
              "      <th>60040</th>\n",
              "      <td>1864</td>\n",
              "      <td>9296836</td>\n",
              "      <td>1251</td>\n",
              "      <td>GROCERY</td>\n",
              "      <td>National</td>\n",
              "      <td>SOUP</td>\n",
              "      <td>BROTH</td>\n",
              "      <td>32 OZ</td>\n",
              "      <td>45-54</td>\n",
              "      <td>U</td>\n",
              "      <td>125-149K</td>\n",
              "      <td>Homeowner</td>\n",
              "      <td>1 Adult Kids</td>\n",
              "      <td>5+</td>\n",
              "      <td>3+</td>\n",
              "      <td>4.094967e+10</td>\n",
              "      <td>65</td>\n",
              "      <td>5.932500</td>\n",
              "      <td>356.0</td>\n",
              "      <td>1.0</td>\n",
              "    </tr>\n",
              "    <tr>\n",
              "      <th>33299</th>\n",
              "      <td>219</td>\n",
              "      <td>839485</td>\n",
              "      <td>16</td>\n",
              "      <td>GROCERY</td>\n",
              "      <td>Private</td>\n",
              "      <td>PNT BTR/JELLY/JAMS</td>\n",
              "      <td>HONEY</td>\n",
              "      <td>16 OZ</td>\n",
              "      <td>55-64</td>\n",
              "      <td>A</td>\n",
              "      <td>150-174K</td>\n",
              "      <td>Homeowner</td>\n",
              "      <td>2 Adults No Kids</td>\n",
              "      <td>2</td>\n",
              "      <td>None/Unknown</td>\n",
              "      <td>4.091596e+10</td>\n",
              "      <td>65</td>\n",
              "      <td>3.326250</td>\n",
              "      <td>702.0</td>\n",
              "      <td>1.0</td>\n",
              "    </tr>\n",
              "    <tr>\n",
              "      <th>5456</th>\n",
              "      <td>20</td>\n",
              "      <td>978343</td>\n",
              "      <td>794</td>\n",
              "      <td>GROCERY</td>\n",
              "      <td>National</td>\n",
              "      <td>COLD CEREAL</td>\n",
              "      <td>ADULT CEREAL</td>\n",
              "      <td>18 OZ</td>\n",
              "      <td>25-34</td>\n",
              "      <td>A</td>\n",
              "      <td>75-99K</td>\n",
              "      <td>Renter</td>\n",
              "      <td>2 Adults No Kids</td>\n",
              "      <td>2</td>\n",
              "      <td>None/Unknown</td>\n",
              "      <td>4.097287e+10</td>\n",
              "      <td>69</td>\n",
              "      <td>4.601538</td>\n",
              "      <td>1143.0</td>\n",
              "      <td>1.0</td>\n",
              "    </tr>\n",
              "    <tr>\n",
              "      <th>60024</th>\n",
              "      <td>1864</td>\n",
              "      <td>901776</td>\n",
              "      <td>436</td>\n",
              "      <td>GROCERY</td>\n",
              "      <td>National</td>\n",
              "      <td>REFRGRATD JUICES/DRNKS</td>\n",
              "      <td>DAIRY CASE 100% PURE JUICE - O</td>\n",
              "      <td>59 OZ</td>\n",
              "      <td>45-54</td>\n",
              "      <td>U</td>\n",
              "      <td>125-149K</td>\n",
              "      <td>Homeowner</td>\n",
              "      <td>1 Adult Kids</td>\n",
              "      <td>5+</td>\n",
              "      <td>3+</td>\n",
              "      <td>4.094967e+10</td>\n",
              "      <td>65</td>\n",
              "      <td>3.982759</td>\n",
              "      <td>2550.0</td>\n",
              "      <td>1.0</td>\n",
              "    </tr>\n",
              "    <tr>\n",
              "      <th>42258</th>\n",
              "      <td>575</td>\n",
              "      <td>966778</td>\n",
              "      <td>69</td>\n",
              "      <td>GROCERY</td>\n",
              "      <td>Private</td>\n",
              "      <td>COFFEE</td>\n",
              "      <td>REGULAR BEAN</td>\n",
              "      <td>11 OZ</td>\n",
              "      <td>35-44</td>\n",
              "      <td>U</td>\n",
              "      <td>50-74K</td>\n",
              "      <td>Unknown</td>\n",
              "      <td>Single Female</td>\n",
              "      <td>1</td>\n",
              "      <td>None/Unknown</td>\n",
              "      <td>4.097391e+10</td>\n",
              "      <td>68</td>\n",
              "      <td>3.588000</td>\n",
              "      <td>434.0</td>\n",
              "      <td>1.0</td>\n",
              "    </tr>\n",
              "  </tbody>\n",
              "</table>\n",
              "<p>111313 rows × 20 columns</p>\n",
              "</div>"
            ],
            "text/plain": [
              "       user_id   item_id manufacturer  ... average_price purchases_per_week  preds\n",
              "0         2070   1105426           69  ...      6.650000               264.0   0.0\n",
              "74374     1639  12731543         4357  ...     28.745000               711.0   0.0\n",
              "74373     1639    915545          857  ...      2.873333               268.0   0.0\n",
              "74372     1639   1068291          233  ...      4.418571               625.0   0.0\n",
              "74371     1639    993379           69  ...      6.490000               878.0   0.0\n",
              "...        ...       ...          ...  ...           ...                 ...   ...\n",
              "60040     1864   9296836         1251  ...      5.932500               356.0   1.0\n",
              "33299      219    839485           16  ...      3.326250               702.0   1.0\n",
              "5456        20    978343          794  ...      4.601538              1143.0   1.0\n",
              "60024     1864    901776          436  ...      3.982759              2550.0   1.0\n",
              "42258      575    966778           69  ...      3.588000               434.0   1.0\n",
              "\n",
              "[111313 rows x 20 columns]"
            ]
          },
          "metadata": {},
          "execution_count": 220
        }
      ]
    },
    {
      "cell_type": "code",
      "metadata": {
        "id": "gb74UbxdvxsS"
      },
      "source": [
        "users_lvl_2 = pd.DataFrame(data_train_lvl_2['user_id'].unique())\n",
        "users_lvl_2.columns = ['user_id']\n",
        "\n",
        "# Пока только warm start\n",
        "train_users = data_train_lvl_1['user_id'].unique()\n",
        "users_lvl_2 = users_lvl_2[users_lvl_2['user_id'].isin(train_users)]\n",
        "\n",
        "users_lvl_2['candidates'] = users_lvl_2['user_id'].apply(lambda x: recommender.get_own_recommendations(x, N=50))"
      ],
      "execution_count": 209,
      "outputs": []
    },
    {
      "cell_type": "code",
      "metadata": {
        "colab": {
          "base_uri": "https://localhost:8080/",
          "height": 111
        },
        "id": "AHJiRhVpx5Qz",
        "outputId": "82b426fd-2d60-4c29-b78d-0729eb05355f"
      },
      "source": [
        "result_lvl_2 = data_val_lvl_2.groupby('user_id')['item_id'].unique().reset_index()\n",
        "result_lvl_2.columns=['user_id', 'actual']\n",
        "result_lvl_2 = users_lvl_2.merge(result_lvl_2, how='left', on='user_id')\n",
        "result_lvl_2.head(2)"
      ],
      "execution_count": 210,
      "outputs": [
        {
          "output_type": "execute_result",
          "data": {
            "text/html": [
              "<div>\n",
              "<style scoped>\n",
              "    .dataframe tbody tr th:only-of-type {\n",
              "        vertical-align: middle;\n",
              "    }\n",
              "\n",
              "    .dataframe tbody tr th {\n",
              "        vertical-align: top;\n",
              "    }\n",
              "\n",
              "    .dataframe thead th {\n",
              "        text-align: right;\n",
              "    }\n",
              "</style>\n",
              "<table border=\"1\" class=\"dataframe\">\n",
              "  <thead>\n",
              "    <tr style=\"text-align: right;\">\n",
              "      <th></th>\n",
              "      <th>user_id</th>\n",
              "      <th>candidates</th>\n",
              "      <th>actual</th>\n",
              "    </tr>\n",
              "  </thead>\n",
              "  <tbody>\n",
              "    <tr>\n",
              "      <th>0</th>\n",
              "      <td>2070</td>\n",
              "      <td>[1105426, 1097350, 879194, 948640, 928263, 944...</td>\n",
              "      <td>[834103, 982386, 1039840, 878302, 1080414, 825...</td>\n",
              "    </tr>\n",
              "    <tr>\n",
              "      <th>1</th>\n",
              "      <td>2021</td>\n",
              "      <td>[950935, 1119454, 835578, 863762, 1019142, 102...</td>\n",
              "      <td>[885655, 951590, 13504479, 856060, 870933, 981...</td>\n",
              "    </tr>\n",
              "  </tbody>\n",
              "</table>\n",
              "</div>"
            ],
            "text/plain": [
              "   user_id  ...                                             actual\n",
              "0     2070  ...  [834103, 982386, 1039840, 878302, 1080414, 825...\n",
              "1     2021  ...  [885655, 951590, 13504479, 856060, 870933, 981...\n",
              "\n",
              "[2 rows x 3 columns]"
            ]
          },
          "metadata": {},
          "execution_count": 210
        }
      ]
    },
    {
      "cell_type": "code",
      "metadata": {
        "colab": {
          "base_uri": "https://localhost:8080/",
          "height": 239
        },
        "id": "hzhp2-CVyEcG",
        "outputId": "869dc094-0465-44ba-fb2e-09ad5fcacdff"
      },
      "source": [
        "precision_at_k = result_lvl_2.apply(lambda row: precision_at_k(row['candidates'], row['actual']), axis=1).mean()"
      ],
      "execution_count": 211,
      "outputs": [
        {
          "output_type": "error",
          "ename": "TypeError",
          "evalue": "ignored",
          "traceback": [
            "\u001b[0;31m---------------------------------------------------------------------------\u001b[0m",
            "\u001b[0;31mTypeError\u001b[0m                                 Traceback (most recent call last)",
            "\u001b[0;32m<ipython-input-211-0f31110e3521>\u001b[0m in \u001b[0;36m<module>\u001b[0;34m()\u001b[0m\n\u001b[0;32m----> 1\u001b[0;31m \u001b[0mprecision_at_k\u001b[0m \u001b[0;34m=\u001b[0m \u001b[0mresult_lvl_2\u001b[0m\u001b[0;34m.\u001b[0m\u001b[0mapply\u001b[0m\u001b[0;34m(\u001b[0m\u001b[0;32mlambda\u001b[0m \u001b[0mrow\u001b[0m\u001b[0;34m:\u001b[0m \u001b[0mprecision_at_k\u001b[0m\u001b[0;34m(\u001b[0m\u001b[0mrow\u001b[0m\u001b[0;34m[\u001b[0m\u001b[0;34m'candidates'\u001b[0m\u001b[0;34m]\u001b[0m\u001b[0;34m,\u001b[0m \u001b[0mrow\u001b[0m\u001b[0;34m[\u001b[0m\u001b[0;34m'actual'\u001b[0m\u001b[0;34m]\u001b[0m\u001b[0;34m)\u001b[0m\u001b[0;34m,\u001b[0m \u001b[0maxis\u001b[0m\u001b[0;34m=\u001b[0m\u001b[0;36m1\u001b[0m\u001b[0;34m)\u001b[0m\u001b[0;34m.\u001b[0m\u001b[0mmean\u001b[0m\u001b[0;34m(\u001b[0m\u001b[0;34m)\u001b[0m\u001b[0;34m\u001b[0m\u001b[0;34m\u001b[0m\u001b[0m\n\u001b[0m",
            "\u001b[0;32m/usr/local/lib/python3.7/dist-packages/pandas/core/frame.py\u001b[0m in \u001b[0;36mapply\u001b[0;34m(self, func, axis, raw, result_type, args, **kwds)\u001b[0m\n\u001b[1;32m   7550\u001b[0m             \u001b[0mkwds\u001b[0m\u001b[0;34m=\u001b[0m\u001b[0mkwds\u001b[0m\u001b[0;34m,\u001b[0m\u001b[0;34m\u001b[0m\u001b[0;34m\u001b[0m\u001b[0m\n\u001b[1;32m   7551\u001b[0m         )\n\u001b[0;32m-> 7552\u001b[0;31m         \u001b[0;32mreturn\u001b[0m \u001b[0mop\u001b[0m\u001b[0;34m.\u001b[0m\u001b[0mget_result\u001b[0m\u001b[0;34m(\u001b[0m\u001b[0;34m)\u001b[0m\u001b[0;34m\u001b[0m\u001b[0;34m\u001b[0m\u001b[0m\n\u001b[0m\u001b[1;32m   7553\u001b[0m \u001b[0;34m\u001b[0m\u001b[0m\n\u001b[1;32m   7554\u001b[0m     \u001b[0;32mdef\u001b[0m \u001b[0mapplymap\u001b[0m\u001b[0;34m(\u001b[0m\u001b[0mself\u001b[0m\u001b[0;34m,\u001b[0m \u001b[0mfunc\u001b[0m\u001b[0;34m)\u001b[0m \u001b[0;34m->\u001b[0m \u001b[0;34m\"DataFrame\"\u001b[0m\u001b[0;34m:\u001b[0m\u001b[0;34m\u001b[0m\u001b[0;34m\u001b[0m\u001b[0m\n",
            "\u001b[0;32m/usr/local/lib/python3.7/dist-packages/pandas/core/apply.py\u001b[0m in \u001b[0;36mget_result\u001b[0;34m(self)\u001b[0m\n\u001b[1;32m    183\u001b[0m             \u001b[0;32mreturn\u001b[0m \u001b[0mself\u001b[0m\u001b[0;34m.\u001b[0m\u001b[0mapply_raw\u001b[0m\u001b[0;34m(\u001b[0m\u001b[0;34m)\u001b[0m\u001b[0;34m\u001b[0m\u001b[0;34m\u001b[0m\u001b[0m\n\u001b[1;32m    184\u001b[0m \u001b[0;34m\u001b[0m\u001b[0m\n\u001b[0;32m--> 185\u001b[0;31m         \u001b[0;32mreturn\u001b[0m \u001b[0mself\u001b[0m\u001b[0;34m.\u001b[0m\u001b[0mapply_standard\u001b[0m\u001b[0;34m(\u001b[0m\u001b[0;34m)\u001b[0m\u001b[0;34m\u001b[0m\u001b[0;34m\u001b[0m\u001b[0m\n\u001b[0m\u001b[1;32m    186\u001b[0m \u001b[0;34m\u001b[0m\u001b[0m\n\u001b[1;32m    187\u001b[0m     \u001b[0;32mdef\u001b[0m \u001b[0mapply_empty_result\u001b[0m\u001b[0;34m(\u001b[0m\u001b[0mself\u001b[0m\u001b[0;34m)\u001b[0m\u001b[0;34m:\u001b[0m\u001b[0;34m\u001b[0m\u001b[0;34m\u001b[0m\u001b[0m\n",
            "\u001b[0;32m/usr/local/lib/python3.7/dist-packages/pandas/core/apply.py\u001b[0m in \u001b[0;36mapply_standard\u001b[0;34m(self)\u001b[0m\n\u001b[1;32m    274\u001b[0m \u001b[0;34m\u001b[0m\u001b[0m\n\u001b[1;32m    275\u001b[0m     \u001b[0;32mdef\u001b[0m \u001b[0mapply_standard\u001b[0m\u001b[0;34m(\u001b[0m\u001b[0mself\u001b[0m\u001b[0;34m)\u001b[0m\u001b[0;34m:\u001b[0m\u001b[0;34m\u001b[0m\u001b[0;34m\u001b[0m\u001b[0m\n\u001b[0;32m--> 276\u001b[0;31m         \u001b[0mresults\u001b[0m\u001b[0;34m,\u001b[0m \u001b[0mres_index\u001b[0m \u001b[0;34m=\u001b[0m \u001b[0mself\u001b[0m\u001b[0;34m.\u001b[0m\u001b[0mapply_series_generator\u001b[0m\u001b[0;34m(\u001b[0m\u001b[0;34m)\u001b[0m\u001b[0;34m\u001b[0m\u001b[0;34m\u001b[0m\u001b[0m\n\u001b[0m\u001b[1;32m    277\u001b[0m \u001b[0;34m\u001b[0m\u001b[0m\n\u001b[1;32m    278\u001b[0m         \u001b[0;31m# wrap results\u001b[0m\u001b[0;34m\u001b[0m\u001b[0;34m\u001b[0m\u001b[0;34m\u001b[0m\u001b[0m\n",
            "\u001b[0;32m/usr/local/lib/python3.7/dist-packages/pandas/core/apply.py\u001b[0m in \u001b[0;36mapply_series_generator\u001b[0;34m(self)\u001b[0m\n\u001b[1;32m    303\u001b[0m                 \u001b[0;32mfor\u001b[0m \u001b[0mi\u001b[0m\u001b[0;34m,\u001b[0m \u001b[0mv\u001b[0m \u001b[0;32min\u001b[0m \u001b[0menumerate\u001b[0m\u001b[0;34m(\u001b[0m\u001b[0mseries_gen\u001b[0m\u001b[0;34m)\u001b[0m\u001b[0;34m:\u001b[0m\u001b[0;34m\u001b[0m\u001b[0;34m\u001b[0m\u001b[0m\n\u001b[1;32m    304\u001b[0m                     \u001b[0;31m# ignore SettingWithCopy here in case the user mutates\u001b[0m\u001b[0;34m\u001b[0m\u001b[0;34m\u001b[0m\u001b[0;34m\u001b[0m\u001b[0m\n\u001b[0;32m--> 305\u001b[0;31m                     \u001b[0mresults\u001b[0m\u001b[0;34m[\u001b[0m\u001b[0mi\u001b[0m\u001b[0;34m]\u001b[0m \u001b[0;34m=\u001b[0m \u001b[0mself\u001b[0m\u001b[0;34m.\u001b[0m\u001b[0mf\u001b[0m\u001b[0;34m(\u001b[0m\u001b[0mv\u001b[0m\u001b[0;34m)\u001b[0m\u001b[0;34m\u001b[0m\u001b[0;34m\u001b[0m\u001b[0m\n\u001b[0m\u001b[1;32m    306\u001b[0m                     \u001b[0;32mif\u001b[0m \u001b[0misinstance\u001b[0m\u001b[0;34m(\u001b[0m\u001b[0mresults\u001b[0m\u001b[0;34m[\u001b[0m\u001b[0mi\u001b[0m\u001b[0;34m]\u001b[0m\u001b[0;34m,\u001b[0m \u001b[0mABCSeries\u001b[0m\u001b[0;34m)\u001b[0m\u001b[0;34m:\u001b[0m\u001b[0;34m\u001b[0m\u001b[0;34m\u001b[0m\u001b[0m\n\u001b[1;32m    307\u001b[0m                         \u001b[0;31m# If we have a view on v, we need to make a copy because\u001b[0m\u001b[0;34m\u001b[0m\u001b[0;34m\u001b[0m\u001b[0;34m\u001b[0m\u001b[0m\n",
            "\u001b[0;32m<ipython-input-211-0f31110e3521>\u001b[0m in \u001b[0;36m<lambda>\u001b[0;34m(row)\u001b[0m\n\u001b[0;32m----> 1\u001b[0;31m \u001b[0mprecision_at_k\u001b[0m \u001b[0;34m=\u001b[0m \u001b[0mresult_lvl_2\u001b[0m\u001b[0;34m.\u001b[0m\u001b[0mapply\u001b[0m\u001b[0;34m(\u001b[0m\u001b[0;32mlambda\u001b[0m \u001b[0mrow\u001b[0m\u001b[0;34m:\u001b[0m \u001b[0mprecision_at_k\u001b[0m\u001b[0;34m(\u001b[0m\u001b[0mrow\u001b[0m\u001b[0;34m[\u001b[0m\u001b[0;34m'candidates'\u001b[0m\u001b[0;34m]\u001b[0m\u001b[0;34m,\u001b[0m \u001b[0mrow\u001b[0m\u001b[0;34m[\u001b[0m\u001b[0;34m'actual'\u001b[0m\u001b[0;34m]\u001b[0m\u001b[0;34m)\u001b[0m\u001b[0;34m,\u001b[0m \u001b[0maxis\u001b[0m\u001b[0;34m=\u001b[0m\u001b[0;36m1\u001b[0m\u001b[0;34m)\u001b[0m\u001b[0;34m.\u001b[0m\u001b[0mmean\u001b[0m\u001b[0;34m(\u001b[0m\u001b[0;34m)\u001b[0m\u001b[0;34m\u001b[0m\u001b[0;34m\u001b[0m\u001b[0m\n\u001b[0m",
            "\u001b[0;31mTypeError\u001b[0m: 'float' object is not callable"
          ]
        }
      ]
    },
    {
      "cell_type": "markdown",
      "metadata": {
        "id": "67fixzk59SuX"
      },
      "source": [
        "Берем топ-k предсказаний, ранжированных по вероятности, для каждого юзера"
      ]
    },
    {
      "cell_type": "code",
      "metadata": {
        "id": "z9d6SIrOyNli"
      },
      "source": [
        "result_lvl_2['lgbm'] = result_lvl_2['user_id'].apply()"
      ],
      "execution_count": null,
      "outputs": []
    }
  ]
}